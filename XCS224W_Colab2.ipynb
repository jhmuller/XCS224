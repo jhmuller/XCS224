{
 "cells": [
  {
   "cell_type": "markdown",
   "metadata": {
    "colab_type": "text",
    "id": "view-in-github"
   },
   "source": [
    "<a href=\"https://colab.research.google.com/github/jhmuller/XCS224/blob/main/XCS224W_Colab2.ipynb\" target=\"_parent\"><img src=\"https://colab.research.google.com/assets/colab-badge.svg\" alt=\"Open In Colab\"/></a>"
   ]
  },
  {
   "cell_type": "markdown",
   "metadata": {
    "id": "XuXWJLEm2UWS"
   },
   "source": [
    "# **CS224W - Colab 2**"
   ]
  },
  {
   "cell_type": "markdown",
   "metadata": {
    "id": "8gzsP50bF6Gb"
   },
   "source": [
    "In Colab 2, you will construct your first graph neural network using PyTorch Geometric (PyG) and apply the model on two Open Graph Benchmark (OGB) datasets. These two datasets will be used to benchmark your model's performance on two different graph-based tasks: 1) node property prediction (predicting the properties of single nodes) and 2) graph property prediction (predicting properties of entire graphs or subgraphs).\n",
    "\n",
    "First, you will learn how PyTorch Geometric stores graphs as PyTorch tensors.\n",
    "\n",
    "Then, you will load and inspect one of the Open Graph Benchmark (OGB) datasets by using the `ogb` package. OGB is a collection of realistic, large-scale, and diverse benchmark datasets for machine learning on graphs. The `ogb` package not only provides data loaders for each dataset but also model evaluators.\n",
    "\n",
    "Lastly, you will build our own graph neural network using PyTorch Geometric. You will train and evaluate you model on the OGB node property prediction and graph property prediction tasks.\n",
    "\n",
    "**Note**: Make sure to **sequentially run all the cells in each section**, so that the intermediate variables / packages will carry over to the next cell\n",
    "\n",
    "Have fun and good luck on Colab 2 :)"
   ]
  },
  {
   "cell_type": "markdown",
   "metadata": {
    "id": "NEBZncyfK80M"
   },
   "source": [
    "## Building + Debugging Notes\n",
    "While working through this Colab and future Colabs, we strongly encourage you to follow a couple of building / debugging strategies:\n",
    "- During debugging make sure to run your notebook using the CPU runtime. You can change the notebook runtime by selecting `Runtime` and then `Change runtime type`. From the dropdown, select `None` as the `hardware accelerator`.\n",
    "- When working with PyTorch and Neural Network models, understanding the shapes of different tensors, especially the input and output tensors is incredibly helpful.\n",
    "- When training models, it is helpful to start by only running 1 epoch or even just a couple of batch iterations. This way you can check that all your tensor shapes and logic match up, while also tracking expected behavior, such as a decreasing training loss. Remember to comment out / save the default number of epochs that we provide you.\n"
   ]
  },
  {
   "cell_type": "markdown",
   "metadata": {
    "id": "ZGKqVEbbMEzf"
   },
   "source": [
    "# Device\n",
    "For the final testing of your modles you will want to use a GPU for this Colab to run quickly.\n",
    "\n",
    "Please click `Runtime` and then `Change runtime type`. Then set the `hardware accelerator` to **GPU**."
   ]
  },
  {
   "cell_type": "markdown",
   "metadata": {
    "id": "OCK7krJdp4o8"
   },
   "source": [
    "# Setup\n",
    "As discussed in Colab 0 and 1, the installation of PyG on Colab can be a little bit tricky. First let us check which version of PyTorch you are running"
   ]
  },
  {
   "cell_type": "code",
   "execution_count": 1,
   "metadata": {
    "colab": {
     "base_uri": "https://localhost:8080/"
    },
    "id": "2vkP8pA1qBE5",
    "outputId": "a3a20d7c-dfdb-4c85-87e7-13182786f196"
   },
   "outputs": [
    {
     "name": "stdout",
     "output_type": "stream",
     "text": [
      "PyTorch has version 1.10.2\n"
     ]
    }
   ],
   "source": [
    "import torch\n",
    "import os\n",
    "import sys\n",
    "print(\"PyTorch has version {}\".format(torch.__version__))\n",
    "#home = os.environ[\"HOME\"]"
   ]
  },
  {
   "cell_type": "markdown",
   "metadata": {
    "id": "L6d22O6DqGSZ"
   },
   "source": [
    "Download the necessary packages for PyG. Make sure that your version of torch matches the output from the cell above. In case of any issues, more information can be found on the [PyG's installation page](https://pytorch-geometric.readthedocs.io/en/latest/notes/installation.html)."
   ]
  },
  {
   "cell_type": "code",
   "execution_count": 2,
   "metadata": {
    "colab": {
     "base_uri": "https://localhost:8080/"
    },
    "id": "zr8hfxJ-qRg2",
    "outputId": "25785e5d-50f7-453d-acdd-ec7fe84f8788"
   },
   "outputs": [
    {
     "name": "stdout",
     "output_type": "stream",
     "text": [
      "Looking in links: https://pytorch-geometric.com/whl/torch-1.10.0+cu111.html\n",
      "Requirement already satisfied: torch-scatter in /home/john/anaconda3/envs/pgenv/lib/python3.8/site-packages (2.0.9)\n",
      "Looking in links: https://pytorch-geometric.com/whl/torch-1.10.0+cu111.html\n",
      "Requirement already satisfied: torch-sparse in /home/john/anaconda3/envs/pgenv/lib/python3.8/site-packages (0.6.12)\n",
      "Requirement already satisfied: scipy in /home/john/anaconda3/envs/pgenv/lib/python3.8/site-packages (from torch-sparse) (1.8.0)\n",
      "Requirement already satisfied: numpy<1.25.0,>=1.17.3 in /home/john/anaconda3/envs/pgenv/lib/python3.8/site-packages (from scipy->torch-sparse) (1.22.2)\n",
      "Requirement already satisfied: torch-geometric in /home/john/anaconda3/envs/pgenv/lib/python3.8/site-packages (2.0.3)\n",
      "Requirement already satisfied: numpy in /home/john/anaconda3/envs/pgenv/lib/python3.8/site-packages (from torch-geometric) (1.22.2)\n",
      "Requirement already satisfied: scikit-learn in /home/john/anaconda3/envs/pgenv/lib/python3.8/site-packages (from torch-geometric) (1.0.2)\n",
      "Requirement already satisfied: scipy in /home/john/anaconda3/envs/pgenv/lib/python3.8/site-packages (from torch-geometric) (1.8.0)\n",
      "Requirement already satisfied: jinja2 in /home/john/anaconda3/envs/pgenv/lib/python3.8/site-packages (from torch-geometric) (3.0.2)\n",
      "Requirement already satisfied: pyparsing in /home/john/anaconda3/envs/pgenv/lib/python3.8/site-packages (from torch-geometric) (3.0.4)\n",
      "Requirement already satisfied: rdflib in /home/john/anaconda3/envs/pgenv/lib/python3.8/site-packages (from torch-geometric) (6.1.1)\n",
      "Requirement already satisfied: requests in /home/john/anaconda3/envs/pgenv/lib/python3.8/site-packages (from torch-geometric) (2.27.1)\n",
      "Requirement already satisfied: yacs in /home/john/anaconda3/envs/pgenv/lib/python3.8/site-packages (from torch-geometric) (0.1.8)\n",
      "Requirement already satisfied: pandas in /home/john/anaconda3/envs/pgenv/lib/python3.8/site-packages (from torch-geometric) (1.4.1)\n",
      "Requirement already satisfied: networkx in /home/john/anaconda3/envs/pgenv/lib/python3.8/site-packages (from torch-geometric) (2.6.3)\n",
      "Requirement already satisfied: PyYAML in /home/john/anaconda3/envs/pgenv/lib/python3.8/site-packages (from torch-geometric) (6.0)\n",
      "Requirement already satisfied: tqdm in /home/john/anaconda3/envs/pgenv/lib/python3.8/site-packages (from torch-geometric) (4.62.3)\n",
      "Requirement already satisfied: googledrivedownloader in /home/john/anaconda3/envs/pgenv/lib/python3.8/site-packages (from torch-geometric) (0.4)\n",
      "Requirement already satisfied: MarkupSafe>=2.0 in /home/john/anaconda3/envs/pgenv/lib/python3.8/site-packages (from jinja2->torch-geometric) (2.0.1)\n",
      "Requirement already satisfied: pytz>=2020.1 in /home/john/anaconda3/envs/pgenv/lib/python3.8/site-packages (from pandas->torch-geometric) (2021.3)\n",
      "Requirement already satisfied: python-dateutil>=2.8.1 in /home/john/anaconda3/envs/pgenv/lib/python3.8/site-packages (from pandas->torch-geometric) (2.8.2)\n",
      "Requirement already satisfied: six>=1.5 in /home/john/anaconda3/envs/pgenv/lib/python3.8/site-packages (from python-dateutil>=2.8.1->pandas->torch-geometric) (1.16.0)\n",
      "Requirement already satisfied: setuptools in /home/john/anaconda3/envs/pgenv/lib/python3.8/site-packages (from rdflib->torch-geometric) (58.0.4)\n",
      "Requirement already satisfied: isodate in /home/john/anaconda3/envs/pgenv/lib/python3.8/site-packages (from rdflib->torch-geometric) (0.6.1)\n",
      "Requirement already satisfied: certifi>=2017.4.17 in /home/john/anaconda3/envs/pgenv/lib/python3.8/site-packages (from requests->torch-geometric) (2021.10.8)\n",
      "Requirement already satisfied: charset-normalizer~=2.0.0 in /home/john/anaconda3/envs/pgenv/lib/python3.8/site-packages (from requests->torch-geometric) (2.0.12)\n",
      "Requirement already satisfied: idna<4,>=2.5 in /home/john/anaconda3/envs/pgenv/lib/python3.8/site-packages (from requests->torch-geometric) (3.3)\n",
      "Requirement already satisfied: urllib3<1.27,>=1.21.1 in /home/john/anaconda3/envs/pgenv/lib/python3.8/site-packages (from requests->torch-geometric) (1.26.8)\n",
      "Requirement already satisfied: threadpoolctl>=2.0.0 in /home/john/anaconda3/envs/pgenv/lib/python3.8/site-packages (from scikit-learn->torch-geometric) (3.1.0)\n",
      "Requirement already satisfied: joblib>=0.11 in /home/john/anaconda3/envs/pgenv/lib/python3.8/site-packages (from scikit-learn->torch-geometric) (1.1.0)\n",
      "Requirement already satisfied: ogb in /home/john/anaconda3/envs/pgenv/lib/python3.8/site-packages (1.3.3)\n",
      "Requirement already satisfied: scikit-learn>=0.20.0 in /home/john/anaconda3/envs/pgenv/lib/python3.8/site-packages (from ogb) (1.0.2)\n",
      "Requirement already satisfied: six>=1.12.0 in /home/john/anaconda3/envs/pgenv/lib/python3.8/site-packages (from ogb) (1.16.0)\n",
      "Requirement already satisfied: urllib3>=1.24.0 in /home/john/anaconda3/envs/pgenv/lib/python3.8/site-packages (from ogb) (1.26.8)\n",
      "Requirement already satisfied: outdated>=0.2.0 in /home/john/anaconda3/envs/pgenv/lib/python3.8/site-packages (from ogb) (0.2.1)\n",
      "Requirement already satisfied: numpy>=1.16.0 in /home/john/anaconda3/envs/pgenv/lib/python3.8/site-packages (from ogb) (1.22.2)\n",
      "Requirement already satisfied: tqdm>=4.29.0 in /home/john/anaconda3/envs/pgenv/lib/python3.8/site-packages (from ogb) (4.62.3)\n",
      "Requirement already satisfied: torch>=1.6.0 in /home/john/anaconda3/envs/pgenv/lib/python3.8/site-packages (from ogb) (1.10.2)\n",
      "Requirement already satisfied: pandas>=0.24.0 in /home/john/anaconda3/envs/pgenv/lib/python3.8/site-packages (from ogb) (1.4.1)\n",
      "Requirement already satisfied: requests in /home/john/anaconda3/envs/pgenv/lib/python3.8/site-packages (from outdated>=0.2.0->ogb) (2.27.1)\n",
      "Requirement already satisfied: littleutils in /home/john/anaconda3/envs/pgenv/lib/python3.8/site-packages (from outdated>=0.2.0->ogb) (0.2.2)\n",
      "Requirement already satisfied: pytz>=2020.1 in /home/john/anaconda3/envs/pgenv/lib/python3.8/site-packages (from pandas>=0.24.0->ogb) (2021.3)\n",
      "Requirement already satisfied: python-dateutil>=2.8.1 in /home/john/anaconda3/envs/pgenv/lib/python3.8/site-packages (from pandas>=0.24.0->ogb) (2.8.2)\n",
      "Requirement already satisfied: joblib>=0.11 in /home/john/anaconda3/envs/pgenv/lib/python3.8/site-packages (from scikit-learn>=0.20.0->ogb) (1.1.0)\n",
      "Requirement already satisfied: scipy>=1.1.0 in /home/john/anaconda3/envs/pgenv/lib/python3.8/site-packages (from scikit-learn>=0.20.0->ogb) (1.8.0)\n",
      "Requirement already satisfied: threadpoolctl>=2.0.0 in /home/john/anaconda3/envs/pgenv/lib/python3.8/site-packages (from scikit-learn>=0.20.0->ogb) (3.1.0)\n",
      "Requirement already satisfied: typing_extensions in /home/john/anaconda3/envs/pgenv/lib/python3.8/site-packages (from torch>=1.6.0->ogb) (3.10.0.2)\n",
      "Requirement already satisfied: charset-normalizer~=2.0.0 in /home/john/anaconda3/envs/pgenv/lib/python3.8/site-packages (from requests->outdated>=0.2.0->ogb) (2.0.12)\n",
      "Requirement already satisfied: certifi>=2017.4.17 in /home/john/anaconda3/envs/pgenv/lib/python3.8/site-packages (from requests->outdated>=0.2.0->ogb) (2021.10.8)\n",
      "Requirement already satisfied: idna<4,>=2.5 in /home/john/anaconda3/envs/pgenv/lib/python3.8/site-packages (from requests->outdated>=0.2.0->ogb) (3.3)\n"
     ]
    }
   ],
   "source": [
    "# Install torch geometric\n",
    "if 'IS_GRADESCOPE_ENV' not in os.environ:\n",
    "  !pip install torch-scatter -f https://pytorch-geometric.com/whl/torch-1.10.0+cu111.html\n",
    "  !pip install torch-sparse -f https://pytorch-geometric.com/whl/torch-1.10.0+cu111.html\n",
    "  !pip install torch-geometric\n",
    "  !pip install ogb"
   ]
  },
  {
   "cell_type": "markdown",
   "metadata": {
    "id": "Nwwq0nSdmsOL"
   },
   "source": [
    "# 1) PyTorch Geometric (Datasets and Data)\n"
   ]
  },
  {
   "cell_type": "markdown",
   "metadata": {
    "id": "Sf7vUmdNKCjA"
   },
   "source": [
    "PyTorch Geometric has two classes for storing and/or transforming graphs into tensor format. One is `torch_geometric.datasets`, which contains a variety of common graph datasets. Another is `torch_geometric.data`, the class which provides the data handling of graphs as PyTorch tensors.\n",
    "\n",
    "In this section, you will learn how to use `torch_geometric.datasets` and `torch_geometric.data` together."
   ]
  },
  {
   "cell_type": "markdown",
   "metadata": {
    "id": "ic-o1P3r6hr2"
   },
   "source": [
    "## PyG Datasets\n",
    "\n",
    "The `torch_geometric.datasets` class has many common graph datasets. Here you will explore its usage through one example dataset."
   ]
  },
  {
   "cell_type": "code",
   "execution_count": 3,
   "metadata": {
    "colab": {
     "base_uri": "https://localhost:8080/"
    },
    "id": "zT5qca3x6XpG",
    "outputId": "61cfba7b-5639-4dce-e861-5ec1f10a96e5"
   },
   "outputs": [
    {
     "name": "stdout",
     "output_type": "stream",
     "text": [
      "ENZYMES(600)\n"
     ]
    }
   ],
   "source": [
    "from torch_geometric.datasets import TUDataset\n",
    "\n",
    "if 'IS_GRADESCOPE_ENV' not in os.environ:\n",
    "  root = './enzymes'\n",
    "  name = 'ENZYMES'\n",
    "\n",
    "  # The ENZYMES dataset\n",
    "  pyg_dataset= TUDataset(root, name)\n",
    "\n",
    "  # You will find that there are 600 graphs in this dataset\n",
    "  print(pyg_dataset)"
   ]
  },
  {
   "cell_type": "markdown",
   "metadata": {
    "id": "NLm5vVYMAP2x"
   },
   "source": [
    "## Question 1: How many classes and features are in the ENZYMES dataset? (2 points)"
   ]
  },
  {
   "cell_type": "code",
   "execution_count": 4,
   "metadata": {
    "colab": {
     "base_uri": "https://localhost:8080/"
    },
    "id": "8iF_Kyqr_JbY",
    "outputId": "696fbba3-051a-4011-f273-57352198ace3"
   },
   "outputs": [
    {
     "name": "stdout",
     "output_type": "stream",
     "text": [
      "ENZYMES dataset has 6 classes\n",
      "ENZYMES dataset has 3 features\n"
     ]
    }
   ],
   "source": [
    "def get_num_classes(pyg_dataset):\n",
    "  # TODO: Implement a function that takes a PyG dataset object\n",
    "  # and returns the number of classes for that dataset.\n",
    "\n",
    "  num_classes = 0\n",
    "\n",
    "  ############# Your code here ############\n",
    "  ## (~1 line of code)\n",
    "  ## Note\n",
    "  ## 1. Colab autocomplete functionality might be useful.\n",
    "  num_classes = pyg_dataset.num_classes\n",
    "  #########################################\n",
    "\n",
    "  return num_classes\n",
    "\n",
    "def get_num_features(pyg_dataset):\n",
    "  # TODO: Implement a function that takes a PyG dataset object\n",
    "  # and returns the number of features for that dataset.\n",
    "\n",
    "  num_features = 0\n",
    "\n",
    "  ############# Your code here ############\n",
    "  ## (~1 line of code)\n",
    "  ## Note\n",
    "  ## 1. Colab autocomplete functionality might be useful.\n",
    "  num_features = pyg_dataset.num_features\n",
    "  #########################################\n",
    "\n",
    "  return num_features\n",
    "\n",
    "if 'IS_GRADESCOPE_ENV' not in os.environ:\n",
    "  num_classes = get_num_classes(pyg_dataset)\n",
    "  num_features = get_num_features(pyg_dataset)\n",
    "  print(\"{} dataset has {} classes\".format(name, num_classes))\n",
    "  print(\"{} dataset has {} features\".format(name, num_features))"
   ]
  },
  {
   "cell_type": "markdown",
   "metadata": {
    "id": "rwKbzhHUAckZ"
   },
   "source": [
    "## PyG Data\n",
    "\n",
    "Each PyG dataset stores a list of `torch_geometric.data.Data` objects, where each `torch_geometric.data.Data` object represents a graph. You can easily get the `Data` object by indexing into the dataset.\n",
    "\n",
    "For more information such as what is stored in the `Data` object, please refer to the [documentation](https://pytorch-geometric.readthedocs.io/en/latest/modules/data.html#torch_geometric.data.Data)."
   ]
  },
  {
   "cell_type": "markdown",
   "metadata": {
    "id": "7sCV3xJWCddX"
   },
   "source": [
    "## Question 2: What is the label of the graph with index 100 in the ENZYMES dataset? (1 points)"
   ]
  },
  {
   "cell_type": "code",
   "execution_count": 5,
   "metadata": {
    "colab": {
     "base_uri": "https://localhost:8080/"
    },
    "id": "LIis9oTZAfs3",
    "outputId": "f622da41-289a-4eb8-a2f1-dd0bb02a09a9"
   },
   "outputs": [
    {
     "name": "stdout",
     "output_type": "stream",
     "text": [
      "Data(edge_index=[2, 168], x=[37, 3], y=[1])\n",
      "Graph with index 100 has label 4\n"
     ]
    }
   ],
   "source": [
    "def get_graph_class(pyg_dataset, idx):\n",
    "  # TODO: Implement a function that takes as input a PyG dataset \n",
    "  # object and the index of a graph within the dataset,\n",
    "  # and returns the class/label of the graph (as an integer).\n",
    "\n",
    "  label = -1\n",
    "\n",
    "  ############# Your code here ############\n",
    "  ## (~1 line of code)\n",
    "  label  = pyg_dataset[idx].y.numpy()[0]\n",
    "  #########################################\n",
    "\n",
    "  return label\n",
    "\n",
    "# Here pyg_dataset is a dataset for graph classification\n",
    "if 'IS_GRADESCOPE_ENV' not in os.environ:\n",
    "  graph_0 = pyg_dataset[0]\n",
    "  print(graph_0)\n",
    "  idx = 100\n",
    "  label = get_graph_class(pyg_dataset, idx)\n",
    "  print('Graph with index {} has label {}'.format(idx, label))"
   ]
  },
  {
   "cell_type": "markdown",
   "metadata": {
    "id": "fKhcVeAhCwoY"
   },
   "source": [
    "## Question 3: How many edges does the graph with index 200 have? (1 points)"
   ]
  },
  {
   "cell_type": "code",
   "execution_count": 6,
   "metadata": {
    "colab": {
     "base_uri": "https://localhost:8080/"
    },
    "id": "f5m2DOfhBtWv",
    "outputId": "c00597e3-7313-4d8f-9ce9-c267e2dee2bb"
   },
   "outputs": [
    {
     "name": "stdout",
     "output_type": "stream",
     "text": [
      "Graph with index 200 has 53 edges\n"
     ]
    }
   ],
   "source": [
    "def get_graph_num_edges(pyg_dataset, idx):\n",
    "  # TODO: Implement a function that takes as inpute a PyG dataset object\n",
    "  # and the index of a graph in the dataset, and returns the number of \n",
    "  # edges in the graph (as an integer). You should not count an edge \n",
    "  # twice if the graph is undirected. For example, in an undirected \n",
    "  # graph G, if two nodes v and u are connected by an edge, this edge\n",
    "  # should only be counted once.\n",
    "\n",
    "  num_edges = 0\n",
    "\n",
    "  ############# Your code here ############\n",
    "  ## Note:\n",
    "  ## 1. You can't return the data.num_edges directly\n",
    "  ## 2. We assume the graph is undirected\n",
    "  ## 3. Look at the PyG dataset built in functions\n",
    "  ## (~4 lines of code)\n",
    "  num_edges = pyg_dataset[idx].edge_index.shape[1] // 2\n",
    "  #########################################\n",
    "\n",
    "  return num_edges\n",
    "\n",
    "if 'IS_GRADESCOPE_ENV' not in os.environ:\n",
    "  idx = 200\n",
    "  num_edges = get_graph_num_edges(pyg_dataset, idx)\n",
    "  print('Graph with index {} has {} edges'.format(idx, num_edges))"
   ]
  },
  {
   "cell_type": "markdown",
   "metadata": {
    "id": "AXa7yIG4E0Fp"
   },
   "source": [
    "# 2) Open Graph Benchmark (OGB)\n",
    "\n",
    "The Open Graph Benchmark (OGB) is a collection of realistic, large-scale, and diverse benchmark datasets for machine learning on graphs. Its datasets are automatically downloaded, processed, and split using the OGB Data Loader. A model's performance over these datasets can then be evaluated using the OGB Evaluator in a unified manner."
   ]
  },
  {
   "cell_type": "markdown",
   "metadata": {
    "id": "HnazPGGAJAZN"
   },
   "source": [
    "## Dataset and Data\n",
    "\n",
    "OGB also supports PyG dataset and data classes. Here you will explore the `ogbn-arxiv` dataset."
   ]
  },
  {
   "cell_type": "code",
   "execution_count": 7,
   "metadata": {
    "colab": {
     "base_uri": "https://localhost:8080/"
    },
    "id": "Gpc6bTm3GF02",
    "outputId": "7e637c9f-4f57-4f39-c059-5e007a509011"
   },
   "outputs": [
    {
     "name": "stdout",
     "output_type": "stream",
     "text": [
      "The ogbn-arxiv dataset has 1 graph\n",
      "Data(num_nodes=169343, x=[169343, 128], node_year=[169343, 1], y=[169343, 1], adj_t=[169343, 169343, nnz=1166243])\n"
     ]
    }
   ],
   "source": [
    "import torch_geometric.transforms as T\n",
    "from ogb.nodeproppred import PygNodePropPredDataset\n",
    "\n",
    "if 'IS_GRADESCOPE_ENV' not in os.environ:\n",
    "  dataset_name = 'ogbn-arxiv'\n",
    "  # Load the dataset and transform it to sparse tensor\n",
    "  dataset = PygNodePropPredDataset(name=dataset_name,\n",
    "                                  transform=T.ToSparseTensor())\n",
    "  print('The {} dataset has {} graph'.format(dataset_name, len(dataset)))\n",
    "\n",
    "  # Extract the graph\n",
    "  data = dataset[0]\n",
    "  print(data)"
   ]
  },
  {
   "cell_type": "markdown",
   "metadata": {
    "id": "Cw0xZJKZI-n3"
   },
   "source": [
    "## Question 4: How many features are in the ogbn-arxiv graph? (1 points)"
   ]
  },
  {
   "cell_type": "code",
   "execution_count": 8,
   "metadata": {
    "colab": {
     "base_uri": "https://localhost:8080/"
    },
    "id": "ZP844_nT2ZJl",
    "outputId": "6a4c0a3f-e24e-451f-fc48-62f89d29a938"
   },
   "outputs": [
    {
     "name": "stdout",
     "output_type": "stream",
     "text": [
      "The graph has 128 features\n"
     ]
    }
   ],
   "source": [
    "def graph_num_features(data):\n",
    "  # TODO: Implement a function that takes a PyG data object,\n",
    "  # and returns the number of features in the graph (as an integer).\n",
    "\n",
    "  num_features = 0\n",
    "\n",
    "  ############# Your code here ############\n",
    "  ## (~1 line of code)\n",
    "  num_features = data.num_node_features\n",
    "  #########################################\n",
    "\n",
    "  return num_features\n",
    "\n",
    "if 'IS_GRADESCOPE_ENV' not in os.environ:\n",
    "  num_features = graph_num_features(data)\n",
    "  print('The graph has {} features'.format(num_features))"
   ]
  },
  {
   "cell_type": "markdown",
   "metadata": {
    "id": "9DP_yEQZ0NVW"
   },
   "source": [
    "# 3) GNN: Node Property Prediction\n",
    "\n",
    "In this section you will build your first graph neural network using PyTorch Geometric. Then you will apply it to the task of node property prediction (node classification).\n",
    "\n",
    "Specifically, you will use GCN as the foundation for your graph neural network ([Kipf et al. (2017)](https://arxiv.org/pdf/1609.02907.pdf)). To do so, you will work with PyG's built-in `GCNConv` layer. "
   ]
  },
  {
   "cell_type": "markdown",
   "metadata": {
    "id": "O4CcOUEoInjD"
   },
   "source": [
    "## Setup"
   ]
  },
  {
   "cell_type": "code",
   "execution_count": 9,
   "metadata": {
    "colab": {
     "base_uri": "https://localhost:8080/"
    },
    "id": "-DCtgcHpGIpd",
    "outputId": "25fc433f-4453-49b5-ab37-7d9a46630c75"
   },
   "outputs": [
    {
     "name": "stdout",
     "output_type": "stream",
     "text": [
      "1.10.2\n"
     ]
    }
   ],
   "source": [
    "import torch\n",
    "import pandas as pd\n",
    "import torch.nn.functional as F\n",
    "print(torch.__version__)\n",
    "\n",
    "# The PyG built-in GCNConv\n",
    "from torch_geometric.nn import GCNConv\n",
    "\n",
    "import torch_geometric.transforms as T\n",
    "from ogb.nodeproppred import PygNodePropPredDataset, Evaluator"
   ]
  },
  {
   "cell_type": "markdown",
   "metadata": {
    "id": "0IK9z0wQIwzQ"
   },
   "source": [
    "## Load and Preprocess the Dataset"
   ]
  },
  {
   "cell_type": "code",
   "execution_count": 10,
   "metadata": {
    "colab": {
     "base_uri": "https://localhost:8080/"
    },
    "id": "0ibJ0ieoIwQM",
    "outputId": "2be2f266-167e-4aef-d3f6-93154cc04bdd"
   },
   "outputs": [
    {
     "name": "stdout",
     "output_type": "stream",
     "text": [
      "Device: cuda\n"
     ]
    }
   ],
   "source": [
    "if 'IS_GRADESCOPE_ENV' not in os.environ:\n",
    "  dataset_name = 'ogbn-arxiv'\n",
    "  dataset = PygNodePropPredDataset(name=dataset_name,\n",
    "                                  transform=T.ToSparseTensor())\n",
    "  data = dataset[0]\n",
    "\n",
    "  # Make the adjacency matrix to symmetric\n",
    "  data.adj_t = data.adj_t.to_symmetric()\n",
    "\n",
    "  device = 'cuda' if torch.cuda.is_available() else 'cpu'\n",
    "\n",
    "  #device = 'cpu'\n",
    "  # If you use GPU, the device should be cuda\n",
    "  print('Device: {}'.format(device))\n",
    "\n",
    "  data = data.to(device)\n",
    "  split_idx = dataset.get_idx_split()\n",
    "  train_idx = split_idx['train'].to(device)"
   ]
  },
  {
   "cell_type": "markdown",
   "metadata": {
    "id": "OgUA815bNJ8w"
   },
   "source": [
    "## GCN Model\n",
    "\n",
    "Now that you have loaded the datasets, you will implement your own GCN model!\n",
    "\n",
    "Please follow the figure below to help in implementing the `forward` function.\n",
    "\n",
    "\n",
    "![test](https://drive.google.com/uc?id=128AuYAXNXGg7PIhJJ7e420DoPWKb-RtL)"
   ]
  },
  {
   "cell_type": "code",
   "execution_count": 11,
   "metadata": {
    "id": "IgspXTYpNJLA"
   },
   "outputs": [],
   "source": [
    "class GCN(torch.nn.Module):\n",
    "    def __init__(self, input_dim, hidden_dim, output_dim, num_layers,\n",
    "                 dropout, return_embeds=False):\n",
    "        # TODO: Implement the init function that initializes self.convs, \n",
    "        # self.bns, and self.softmax.\n",
    "\n",
    "        super(GCN, self).__init__()\n",
    "\n",
    "        # A list of GCNConv layers\n",
    "        self.convs = None\n",
    "\n",
    "        # A list of 1D batch normalization layers\n",
    "        self.bns = None\n",
    "\n",
    "        # The log softmax layer\n",
    "        self.softmax = None\n",
    "\n",
    "        ############# Your code here ############\n",
    "        ## Note:\n",
    "        ## 1. Use torch.nn.ModuleList for self.convs and self.bns\n",
    "        ## 2. self.convs has num_layers GCNConv layers\n",
    "        ## 3. self.bns has num_layers - 1 BatchNorm1d layers\n",
    "        ## 4. Use torch.nn.LogSoftmax for self.softmax\n",
    "        ## 5. The GCNConv layer takes as input 'in_channels' and \n",
    "        ## 'out_channels'. For more information please refer to the documentation:\n",
    "        ## https://pytorch-geometric.readthedocs.io/en/latest/modules/nn.html#torch_geometric.nn.conv.GCNConv\n",
    "        ## 6. The only parameter BatchNorm1d requires is 'num_features'\n",
    "        ## For more information please refer to the documentation: \n",
    "        ## https://pytorch.org/docs/stable/generated/torch.nn.BatchNorm1d.html\n",
    "        ## (~10 lines of code)\n",
    "        self.softmax = torch.nn.LogSoftmax(dim=1)\n",
    "        self.num_layers = num_layers\n",
    "        self.convs = torch.nn.ModuleList()\n",
    "        self.bns = torch.nn.ModuleList()\n",
    "\n",
    "        self.convs.append( GCNConv(input_dim, hidden_dim))\n",
    "        self.bns.append(torch.nn.BatchNorm1d(hidden_dim))\n",
    "        for li in range(num_layers-2):\n",
    "          self.convs.append(GCNConv(hidden_dim, hidden_dim))\n",
    "          self.bns.append(torch.nn.BatchNorm1d(hidden_dim))\n",
    "        self.convs.append( GCNConv(hidden_dim, output_dim))  \n",
    "                  \n",
    "\n",
    "        #########################################\n",
    "\n",
    "        # Probability of an element getting zeroed\n",
    "        self.dropout = dropout\n",
    "\n",
    "        # Skip classification layer and return node embeddings\n",
    "        self.return_embeds = return_embeds\n",
    "\n",
    "    def reset_parameters(self):\n",
    "        for conv in self.convs:\n",
    "            conv.reset_parameters()\n",
    "        for bn in self.bns:\n",
    "            bn.reset_parameters()\n",
    "\n",
    "    def forward(self, x, adj_t):\n",
    "        # TODO: Implement a function that takes as input a feature tensor x \n",
    "        # and edge_index tensor adj_t, and returns the corresponding output \n",
    "        # tensor as shown in the figure above.\n",
    "\n",
    "        out = None\n",
    "\n",
    "        ############# Your code here ############\n",
    "        ## Note:\n",
    "        ## 1. Construct the network as shown in the figure\n",
    "        ## 2. torch.nn.functional.relu and torch.nn.functional.dropout are useful\n",
    "        ## For more information please refer to the documentation:\n",
    "        ## https://pytorch.org/docs/stable/nn.functional.html\n",
    "        ## 3. Don't forget to set F.dropout training to self.training\n",
    "        ## 4. If return_embeds is True, then skip the last softmax layer\n",
    "        ## (~7 lines of code)\n",
    "        num_layers = len(self.convs)\n",
    "        for li in range(num_layers-1):\n",
    "          conv = self.convs[li]\n",
    "          bn = self.bns[li]\n",
    "          x = conv(x, adj_t)         \n",
    "          x = bn(x)\n",
    "          x = F.relu(x)   \n",
    "          x = F.dropout(x, training=self.training)   \n",
    "        conv = self.convs[-1]\n",
    "        x = conv(x, adj_t)        \n",
    "        if self.return_embeds:\n",
    "          out = x\n",
    "        else:\n",
    "          out = self.softmax(x)\n",
    "        #########################################\n",
    "\n",
    "        return out"
   ]
  },
  {
   "cell_type": "code",
   "execution_count": 17,
   "metadata": {
    "id": "FF1hnHUhO81e"
   },
   "outputs": [],
   "source": [
    "def train(model, data, train_idx, optimizer, loss_fn):\n",
    "    # TODO: Implement a function that trains the model by \n",
    "    # using the given optimizer and loss_fn.\n",
    "    model.train()\n",
    "    loss = 0\n",
    "\n",
    "    ############# Your code here ############\n",
    "    ## Note:\n",
    "    ## 1. Zero grad the optimizer\n",
    "    ## 2. Feed the data into the model\n",
    "    ## 3. Slice the model outputs and labels by train_idx\n",
    "    ## 4. Feed the sliced outputs and labels to the loss_fn\n",
    "    ## (~4 lines of code)\n",
    "    optimizer.zero_grad()\n",
    "    out = model(data.x, adj_t=data.adj_t)\n",
    "    pred = out[train_idx]\n",
    "    actual = torch.squeeze(data.y[train_idx])\n",
    "    loss = loss_fn(pred, actual)\n",
    "    #########################################\n",
    "\n",
    "    loss.backward()\n",
    "    optimizer.step()\n",
    "\n",
    "    return loss.item()"
   ]
  },
  {
   "cell_type": "code",
   "execution_count": 18,
   "metadata": {
    "id": "aJdlrJQhPBsK"
   },
   "outputs": [],
   "source": [
    "# Test function here\n",
    "@torch.no_grad()\n",
    "def test(model, data, split_idx, evaluator, save_model_results=False):\n",
    "    # TODO: Implement a function that tests the model by \n",
    "    # using the given split_idx and ogb evaluator.\n",
    "    model.eval()\n",
    "\n",
    "    # The output of model on all data\n",
    "    out = None\n",
    "\n",
    "    ############# Your code here ############\n",
    "    ## (~1 line of code)\n",
    "    ## Note:\n",
    "    ## 1. No index slicing here\n",
    "    out = model(data.x, adj_t=data.adj_t)\n",
    "    #########################################\n",
    "\n",
    "    y_pred = out.argmax(dim=-1, keepdim=True)\n",
    "\n",
    "    train_acc = evaluator.eval({\n",
    "        'y_true': data.y[split_idx['train']],\n",
    "        'y_pred': y_pred[split_idx['train']],\n",
    "    })['acc']\n",
    "    valid_acc = evaluator.eval({\n",
    "        'y_true': data.y[split_idx['valid']],\n",
    "        'y_pred': y_pred[split_idx['valid']],\n",
    "    })['acc']\n",
    "    test_acc = evaluator.eval({\n",
    "        'y_true': data.y[split_idx['test']],\n",
    "        'y_pred': y_pred[split_idx['test']],\n",
    "    })['acc']\n",
    "\n",
    "    if save_model_results:\n",
    "      print (\"Saving Model Predictions\")\n",
    "\n",
    "      data = {}\n",
    "      data['y_pred'] = y_pred.view(-1).cpu().detach().numpy()\n",
    "\n",
    "      df = pd.DataFrame(data=data)\n",
    "      # Save locally as csv\n",
    "      df.to_csv('ogbn-arxiv_node.csv', sep=',', index=False)\n",
    "\n",
    "\n",
    "    return train_acc, valid_acc, test_acc"
   ]
  },
  {
   "cell_type": "code",
   "execution_count": 19,
   "metadata": {
    "id": "o7F46xkuLiOL"
   },
   "outputs": [],
   "source": [
    "# Please do not change the args\n",
    "if 'IS_GRADESCOPE_ENV' not in os.environ:\n",
    "  args = {\n",
    "      'device': device,\n",
    "      'num_layers': 3,\n",
    "      'hidden_dim': 256,\n",
    "      'dropout': 0.5,\n",
    "      'lr': 0.01,\n",
    "      'epochs': 100,\n",
    "  }\n",
    "  args"
   ]
  },
  {
   "cell_type": "code",
   "execution_count": 20,
   "metadata": {
    "id": "dT8RyM2cPGxM"
   },
   "outputs": [],
   "source": [
    "if 'IS_GRADESCOPE_ENV' not in os.environ:\n",
    "  model = GCN(data.num_features, args['hidden_dim'],\n",
    "              dataset.num_classes, args['num_layers'],\n",
    "              args['dropout']).to(device)\n",
    "  evaluator = Evaluator(name='ogbn-arxiv')"
   ]
  },
  {
   "cell_type": "code",
   "execution_count": 21,
   "metadata": {
    "colab": {
     "base_uri": "https://localhost:8080/"
    },
    "id": "qd5O5cnPPdVF",
    "outputId": "a55ba7c0-7471-4877-aaf4-527de60407ad"
   },
   "outputs": [
    {
     "name": "stdout",
     "output_type": "stream",
     "text": [
      "Epoch: 01, Loss: 3.9937, Train: 16.44%, Valid: 24.90% Test: 22.70%\n",
      "Epoch: 02, Loss: 2.3881, Train: 17.33%, Valid: 18.97% Test: 24.82%\n",
      "Epoch: 03, Loss: 1.9718, Train: 22.25%, Valid: 21.70% Test: 26.89%\n",
      "Epoch: 04, Loss: 1.7966, Train: 34.05%, Valid: 36.10% Test: 41.07%\n",
      "Epoch: 05, Loss: 1.6795, Train: 34.54%, Valid: 32.47% Test: 30.85%\n",
      "Epoch: 06, Loss: 1.5969, Train: 39.92%, Valid: 32.91% Test: 31.36%\n",
      "Epoch: 07, Loss: 1.5199, Train: 43.06%, Valid: 37.34% Test: 40.08%\n",
      "Epoch: 08, Loss: 1.4701, Train: 43.98%, Valid: 39.66% Test: 42.91%\n",
      "Epoch: 09, Loss: 1.4123, Train: 46.53%, Valid: 44.08% Test: 46.67%\n",
      "Epoch: 10, Loss: 1.3690, Train: 48.72%, Valid: 46.84% Test: 48.42%\n",
      "Epoch: 11, Loss: 1.3428, Train: 49.13%, Valid: 45.76% Test: 47.92%\n",
      "Epoch: 12, Loss: 1.3156, Train: 47.24%, Valid: 40.60% Test: 42.71%\n",
      "Epoch: 13, Loss: 1.2878, Train: 45.74%, Valid: 36.23% Test: 37.76%\n",
      "Epoch: 14, Loss: 1.2727, Train: 46.90%, Valid: 37.47% Test: 39.22%\n",
      "Epoch: 15, Loss: 1.2479, Train: 50.39%, Valid: 44.21% Test: 45.94%\n",
      "Epoch: 16, Loss: 1.2266, Train: 53.77%, Valid: 51.10% Test: 52.56%\n",
      "Epoch: 17, Loss: 1.2164, Train: 55.51%, Valid: 54.68% Test: 56.05%\n",
      "Epoch: 18, Loss: 1.1959, Train: 56.54%, Valid: 56.45% Test: 57.94%\n",
      "Epoch: 19, Loss: 1.1893, Train: 57.42%, Valid: 57.71% Test: 59.38%\n",
      "Epoch: 20, Loss: 1.1800, Train: 58.31%, Valid: 58.32% Test: 60.09%\n",
      "Epoch: 21, Loss: 1.1680, Train: 59.49%, Valid: 59.38% Test: 60.61%\n",
      "Epoch: 22, Loss: 1.1568, Train: 60.70%, Valid: 60.18% Test: 60.62%\n",
      "Epoch: 23, Loss: 1.1485, Train: 61.97%, Valid: 61.07% Test: 61.09%\n",
      "Epoch: 24, Loss: 1.1378, Train: 63.07%, Valid: 62.19% Test: 61.78%\n",
      "Epoch: 25, Loss: 1.1293, Train: 64.10%, Valid: 63.63% Test: 63.26%\n",
      "Epoch: 26, Loss: 1.1238, Train: 64.65%, Valid: 64.97% Test: 64.43%\n",
      "Epoch: 27, Loss: 1.1148, Train: 65.17%, Valid: 65.74% Test: 65.24%\n",
      "Epoch: 28, Loss: 1.1110, Train: 65.79%, Valid: 66.51% Test: 65.89%\n",
      "Epoch: 29, Loss: 1.1051, Train: 66.51%, Valid: 66.99% Test: 66.25%\n",
      "Epoch: 30, Loss: 1.1035, Train: 67.07%, Valid: 67.01% Test: 65.99%\n",
      "Epoch: 31, Loss: 1.0926, Train: 67.27%, Valid: 66.79% Test: 65.58%\n",
      "Epoch: 32, Loss: 1.0857, Train: 67.45%, Valid: 66.65% Test: 65.50%\n",
      "Epoch: 33, Loss: 1.0804, Train: 67.74%, Valid: 66.93% Test: 66.00%\n",
      "Epoch: 34, Loss: 1.0737, Train: 68.24%, Valid: 67.49% Test: 66.63%\n",
      "Epoch: 35, Loss: 1.0677, Train: 68.61%, Valid: 67.88% Test: 66.97%\n",
      "Epoch: 36, Loss: 1.0656, Train: 69.02%, Valid: 68.30% Test: 67.37%\n",
      "Epoch: 37, Loss: 1.0599, Train: 69.35%, Valid: 68.77% Test: 68.06%\n",
      "Epoch: 38, Loss: 1.0536, Train: 69.52%, Valid: 68.98% Test: 68.58%\n",
      "Epoch: 39, Loss: 1.0501, Train: 69.44%, Valid: 69.18% Test: 68.72%\n",
      "Epoch: 40, Loss: 1.0468, Train: 69.61%, Valid: 69.42% Test: 69.05%\n",
      "Epoch: 41, Loss: 1.0462, Train: 69.94%, Valid: 69.77% Test: 69.41%\n",
      "Epoch: 42, Loss: 1.0372, Train: 70.24%, Valid: 70.06% Test: 69.34%\n",
      "Epoch: 43, Loss: 1.0352, Train: 70.38%, Valid: 69.89% Test: 69.00%\n",
      "Epoch: 44, Loss: 1.0335, Train: 70.42%, Valid: 69.87% Test: 68.99%\n",
      "Epoch: 45, Loss: 1.0245, Train: 70.49%, Valid: 70.09% Test: 69.36%\n",
      "Epoch: 46, Loss: 1.0252, Train: 70.61%, Valid: 70.14% Test: 69.60%\n",
      "Epoch: 47, Loss: 1.0200, Train: 70.67%, Valid: 70.25% Test: 69.76%\n",
      "Epoch: 48, Loss: 1.0184, Train: 70.83%, Valid: 70.39% Test: 69.77%\n",
      "Epoch: 49, Loss: 1.0160, Train: 70.94%, Valid: 70.43% Test: 69.59%\n",
      "Epoch: 50, Loss: 1.0128, Train: 71.04%, Valid: 70.45% Test: 69.62%\n",
      "Epoch: 51, Loss: 1.0105, Train: 71.07%, Valid: 70.45% Test: 69.63%\n",
      "Epoch: 52, Loss: 1.0076, Train: 71.11%, Valid: 70.46% Test: 69.70%\n",
      "Epoch: 53, Loss: 1.0019, Train: 71.18%, Valid: 70.36% Test: 69.50%\n",
      "Epoch: 54, Loss: 1.0010, Train: 71.40%, Valid: 70.37% Test: 69.17%\n",
      "Epoch: 55, Loss: 0.9977, Train: 71.62%, Valid: 70.61% Test: 69.49%\n",
      "Epoch: 56, Loss: 0.9957, Train: 71.68%, Valid: 70.83% Test: 69.81%\n",
      "Epoch: 57, Loss: 0.9915, Train: 71.62%, Valid: 70.87% Test: 70.20%\n",
      "Epoch: 58, Loss: 0.9935, Train: 71.56%, Valid: 70.92% Test: 70.33%\n",
      "Epoch: 59, Loss: 0.9868, Train: 71.75%, Valid: 71.07% Test: 70.50%\n",
      "Epoch: 60, Loss: 0.9853, Train: 72.11%, Valid: 70.97% Test: 69.96%\n",
      "Epoch: 61, Loss: 0.9816, Train: 72.02%, Valid: 70.42% Test: 68.65%\n",
      "Epoch: 62, Loss: 0.9809, Train: 72.17%, Valid: 70.76% Test: 69.17%\n",
      "Epoch: 63, Loss: 0.9777, Train: 72.18%, Valid: 71.32% Test: 70.39%\n",
      "Epoch: 64, Loss: 0.9763, Train: 72.14%, Valid: 71.07% Test: 70.28%\n",
      "Epoch: 65, Loss: 0.9749, Train: 72.23%, Valid: 70.85% Test: 69.87%\n",
      "Epoch: 66, Loss: 0.9743, Train: 72.32%, Valid: 70.67% Test: 69.54%\n",
      "Epoch: 67, Loss: 0.9714, Train: 72.48%, Valid: 71.08% Test: 70.09%\n",
      "Epoch: 68, Loss: 0.9688, Train: 72.54%, Valid: 71.41% Test: 70.75%\n",
      "Epoch: 69, Loss: 0.9642, Train: 72.53%, Valid: 71.36% Test: 70.94%\n",
      "Epoch: 70, Loss: 0.9655, Train: 72.67%, Valid: 71.28% Test: 70.63%\n",
      "Epoch: 71, Loss: 0.9622, Train: 72.64%, Valid: 71.03% Test: 69.94%\n",
      "Epoch: 72, Loss: 0.9599, Train: 72.58%, Valid: 70.81% Test: 69.50%\n",
      "Epoch: 73, Loss: 0.9591, Train: 72.63%, Valid: 71.13% Test: 70.03%\n",
      "Epoch: 74, Loss: 0.9568, Train: 72.58%, Valid: 71.34% Test: 70.77%\n",
      "Epoch: 75, Loss: 0.9544, Train: 72.76%, Valid: 71.61% Test: 71.01%\n",
      "Epoch: 76, Loss: 0.9521, Train: 72.83%, Valid: 71.58% Test: 70.80%\n",
      "Epoch: 77, Loss: 0.9514, Train: 72.70%, Valid: 71.38% Test: 70.51%\n",
      "Epoch: 78, Loss: 0.9478, Train: 72.69%, Valid: 71.46% Test: 70.58%\n",
      "Epoch: 79, Loss: 0.9465, Train: 72.83%, Valid: 71.50% Test: 70.89%\n",
      "Epoch: 80, Loss: 0.9466, Train: 72.97%, Valid: 71.48% Test: 70.74%\n",
      "Epoch: 81, Loss: 0.9436, Train: 73.06%, Valid: 71.35% Test: 70.20%\n",
      "Epoch: 82, Loss: 0.9423, Train: 73.06%, Valid: 71.26% Test: 69.75%\n",
      "Epoch: 83, Loss: 0.9401, Train: 73.18%, Valid: 71.51% Test: 70.30%\n",
      "Epoch: 84, Loss: 0.9365, Train: 73.18%, Valid: 71.54% Test: 70.29%\n",
      "Epoch: 85, Loss: 0.9399, Train: 73.17%, Valid: 71.53% Test: 70.40%\n",
      "Epoch: 86, Loss: 0.9342, Train: 73.15%, Valid: 71.67% Test: 70.74%\n",
      "Epoch: 87, Loss: 0.9344, Train: 73.14%, Valid: 71.78% Test: 70.77%\n",
      "Epoch: 88, Loss: 0.9334, Train: 73.25%, Valid: 71.71% Test: 70.87%\n",
      "Epoch: 89, Loss: 0.9322, Train: 73.28%, Valid: 71.77% Test: 71.03%\n",
      "Epoch: 90, Loss: 0.9279, Train: 73.16%, Valid: 71.73% Test: 70.98%\n",
      "Epoch: 91, Loss: 0.9278, Train: 73.31%, Valid: 71.66% Test: 70.68%\n",
      "Epoch: 92, Loss: 0.9270, Train: 73.35%, Valid: 71.31% Test: 69.75%\n",
      "Epoch: 93, Loss: 0.9231, Train: 73.39%, Valid: 71.11% Test: 69.51%\n",
      "Epoch: 94, Loss: 0.9264, Train: 73.61%, Valid: 71.57% Test: 70.59%\n",
      "Epoch: 95, Loss: 0.9199, Train: 73.60%, Valid: 71.73% Test: 70.82%\n",
      "Epoch: 96, Loss: 0.9221, Train: 73.61%, Valid: 71.96% Test: 70.86%\n",
      "Epoch: 97, Loss: 0.9182, Train: 73.54%, Valid: 72.01% Test: 70.89%\n",
      "Epoch: 98, Loss: 0.9176, Train: 73.62%, Valid: 72.25% Test: 71.64%\n",
      "Epoch: 99, Loss: 0.9151, Train: 73.77%, Valid: 72.08% Test: 70.96%\n",
      "Epoch: 100, Loss: 0.9121, Train: 73.62%, Valid: 71.34% Test: 69.39%\n"
     ]
    }
   ],
   "source": [
    "import copy\n",
    "if 'IS_GRADESCOPE_ENV' not in os.environ:\n",
    "  # reset the parameters to initial random value\n",
    "  model.reset_parameters()\n",
    "\n",
    "  optimizer = torch.optim.Adam(model.parameters(), lr=args['lr'])\n",
    "  loss_fn = F.nll_loss\n",
    "\n",
    "  best_model = None\n",
    "  best_valid_acc = 0\n",
    "\n",
    "  for epoch in range(1, 1 + args[\"epochs\"]):\n",
    "    loss = train(model, data, train_idx, optimizer, loss_fn)\n",
    "    result = test(model, data, split_idx, evaluator)\n",
    "    train_acc, valid_acc, test_acc = result\n",
    "    if valid_acc > best_valid_acc:\n",
    "        best_valid_acc = valid_acc\n",
    "        best_model = copy.deepcopy(model)\n",
    "    print(f'Epoch: {epoch:02d}, '\n",
    "          f'Loss: {loss:.4f}, '\n",
    "          f'Train: {100 * train_acc:.2f}%, '\n",
    "          f'Valid: {100 * valid_acc:.2f}% '\n",
    "          f'Test: {100 * test_acc:.2f}%')"
   ]
  },
  {
   "cell_type": "markdown",
   "metadata": {
    "id": "dQtt-EKA8P4r"
   },
   "source": [
    "## Question 5: What are your `best_model` validation and test accuracies?(20 points)\n",
    "\n",
    "Run the cell below to see the results of your best model and save your model's predictions to a file named *ogbn-arxiv_node.csv*. \n",
    "\n",
    "You can view this file by clicking on the *Folder* icon on the left side pannel. As in Colab 1, when you sumbit your assignment, you will have to download this file and attatch it to your submission."
   ]
  },
  {
   "cell_type": "code",
   "execution_count": 22,
   "metadata": {
    "colab": {
     "base_uri": "https://localhost:8080/"
    },
    "id": "EqcextqOL2FX",
    "outputId": "a2f8f43d-042e-4f4c-d5cd-b359f0f5fccd"
   },
   "outputs": [
    {
     "name": "stdout",
     "output_type": "stream",
     "text": [
      "Saving Model Predictions\n",
      "Best model: Train: 73.62%, Valid: 72.25% Test: 71.64%\n"
     ]
    }
   ],
   "source": [
    "if 'IS_GRADESCOPE_ENV' not in os.environ:\n",
    "  best_result = test(best_model, data, split_idx, evaluator, save_model_results=True)\n",
    "  train_acc, valid_acc, test_acc = best_result\n",
    "  print(f'Best model: '\n",
    "        f'Train: {100 * train_acc:.2f}%, '\n",
    "        f'Valid: {100 * valid_acc:.2f}% '\n",
    "        f'Test: {100 * test_acc:.2f}%')"
   ]
  },
  {
   "cell_type": "markdown",
   "metadata": {
    "id": "R8pOD6y80TyI"
   },
   "source": [
    "# 4) GNN: Graph Property Prediction\n",
    "\n",
    "In this section you will create a graph neural network for graph property prediction (graph classification).\n"
   ]
  },
  {
   "cell_type": "markdown",
   "metadata": {
    "id": "vRg5VOEdQTa4"
   },
   "source": [
    "## Load and preprocess the dataset"
   ]
  },
  {
   "cell_type": "code",
   "execution_count": 23,
   "metadata": {
    "colab": {
     "base_uri": "https://localhost:8080/"
    },
    "id": "LXb-O5QUIgTH",
    "outputId": "45c8a347-89d5-4209-888e-072e85b7f625"
   },
   "outputs": [
    {
     "name": "stdout",
     "output_type": "stream",
     "text": [
      "Device: cuda\n",
      "Task type: binary classification\n"
     ]
    }
   ],
   "source": [
    "from ogb.graphproppred import PygGraphPropPredDataset, Evaluator\n",
    "from torch_geometric.loader import DataLoader\n",
    "from tqdm import tqdm\n",
    "\n",
    "if 'IS_GRADESCOPE_ENV' not in os.environ:\n",
    "  # Load the dataset \n",
    "  dataset = PygGraphPropPredDataset(name='ogbg-molhiv')\n",
    "\n",
    "  device = 'cuda' if torch.cuda.is_available() else 'cpu'\n",
    "  print('Device: {}'.format(device))\n",
    "\n",
    "  split_idx = dataset.get_idx_split()\n",
    "\n",
    "  # Check task type\n",
    "  print('Task type: {}'.format(dataset.task_type))"
   ]
  },
  {
   "cell_type": "code",
   "execution_count": 24,
   "metadata": {
    "id": "7cHHbgW1c5hi"
   },
   "outputs": [],
   "source": [
    "# Load the dataset splits into corresponding dataloaders\n",
    "# We will train the graph classification task on a batch of 32 graphs\n",
    "# Shuffle the order of graphs for training set\n",
    "if 'IS_GRADESCOPE_ENV' not in os.environ:\n",
    "  train_loader = DataLoader(dataset[split_idx[\"train\"]], batch_size=32, shuffle=True, num_workers=0)\n",
    "  valid_loader = DataLoader(dataset[split_idx[\"valid\"]], batch_size=32, shuffle=False, num_workers=0)\n",
    "  test_loader = DataLoader(dataset[split_idx[\"test\"]], batch_size=32, shuffle=False, num_workers=0)"
   ]
  },
  {
   "cell_type": "markdown",
   "metadata": {
    "id": "bbcBPojdPfc-"
   },
   "source": [
    "## Initialize Model Training Parameters\n",
    "During debugging and testing we recommend setting `epochs` to a lower value such as 1 or 2."
   ]
  },
  {
   "cell_type": "code",
   "execution_count": 25,
   "metadata": {
    "id": "AYrSnOj0Y4DK"
   },
   "outputs": [],
   "source": [
    "if 'IS_GRADESCOPE_ENV' not in os.environ:\n",
    "  # Please do not change the args\n",
    "  args = {\n",
    "      'device': device,\n",
    "      'num_layers': 5,\n",
    "      'hidden_dim': 256,\n",
    "      'dropout': 0.5,\n",
    "      'lr': 0.001,\n",
    "      'epochs': 15,\n",
    "  }\n",
    "  args"
   ]
  },
  {
   "cell_type": "markdown",
   "metadata": {
    "id": "7WLhguSTeazy"
   },
   "source": [
    "## Graph Prediction Model"
   ]
  },
  {
   "cell_type": "markdown",
   "metadata": {
    "id": "u05Z14TRYPGn"
   },
   "source": [
    "### Graph Mini-Batching\n",
    "Before diving into the actual model, we introduce the concept of mini-batching with graphs. In order to parallelize the processing of a mini-batch of graphs, PyG combines the graphs into a single disconnected graph data object (*torch_geometric.data.Batch*). *torch_geometric.data.Batch* inherits from *torch_geometric.data.Data* (introduced earlier) and contains an additional attribute called `batch`. \n",
    "\n",
    "The `batch` attribute is a vector mapping each node to the index of its corresponding graph within the mini-batch:\n",
    "\n",
    "    batch = [0, ..., 0, 1, ..., n - 2, n - 1, ..., n - 1]\n",
    "\n",
    "This attribute is crucial for associating which graph each node belongs to and can be used to e.g. average the node embeddings for each graph individually to compute graph level embeddings. \n",
    "\n"
   ]
  },
  {
   "cell_type": "markdown",
   "metadata": {
    "id": "Pcic9NNU3nGK"
   },
   "source": [
    "### Implemention\n",
    "Now, you have all of the tools to implement a GCN Graph Prediction model!  \n",
    "\n",
    "To do so, you will reuse the your existing GCN model to generate `node_embeddings` for a graph and then use `Global Pooling` over these node embeddings to create a graph level embeddings that can be used to predict graph properties. Remeber that the `batch` attribute will be essential for performining Global Pooling over our mini-batch of graphs."
   ]
  },
  {
   "cell_type": "code",
   "execution_count": 26,
   "metadata": {
    "id": "3_Kq3zyjeZ22"
   },
   "outputs": [],
   "source": [
    "from ogb.graphproppred.mol_encoder import AtomEncoder\n",
    "from torch_geometric.nn import global_add_pool, global_mean_pool\n",
    "\n",
    "### GCN to predict graph property\n",
    "class GCN_Graph(torch.nn.Module):\n",
    "    def __init__(self, hidden_dim, output_dim, num_layers, dropout):\n",
    "        super(GCN_Graph, self).__init__()\n",
    "\n",
    "        # Load encoders for Atoms in molecule graphs\n",
    "        self.node_encoder = AtomEncoder(hidden_dim)\n",
    "\n",
    "        # Node embedding model\n",
    "        # Note that the input_dim and output_dim are set to hidden_dim\n",
    "        self.gnn_node = GCN(hidden_dim, hidden_dim,\n",
    "            hidden_dim, num_layers, dropout, return_embeds=True)\n",
    "\n",
    "        self.pool = None\n",
    "\n",
    "        ############# Your code here ############\n",
    "        ## Note:\n",
    "        ## 1. Initialize self.pool as a global mean pooling layer\n",
    "        ## For more information please refer to the documentation:\n",
    "        ## https://pytorch-geometric.readthedocs.io/en/latest/modules/nn.html#global-pooling-layers\n",
    "        self.pool = global_mean_pool\n",
    "        #########################################\n",
    "\n",
    "        # Output layer\n",
    "        self.linear = torch.nn.Linear(hidden_dim, output_dim)\n",
    "\n",
    "\n",
    "    def reset_parameters(self):\n",
    "      self.gnn_node.reset_parameters()\n",
    "      self.linear.reset_parameters()\n",
    "\n",
    "    def forward(self, batched_data):\n",
    "        # TODO: Implement a function that takes as input a \n",
    "        # mini-batch of graphs (torch_geometric.data.Batch) and \n",
    "        # returns the predicted graph property for each graph. \n",
    "        #\n",
    "        # NOTE: Since we are predicting graph level properties,\n",
    "        # your output will be a tensor with dimension equaling\n",
    "        # the number of graphs in the mini-batch\n",
    "\n",
    "    \n",
    "        # Extract important attributes of our mini-batch\n",
    "        x, edge_index, batch = batched_data.x, batched_data.edge_index, batched_data.batch\n",
    "        embed = self.node_encoder(x)\n",
    "\n",
    "        out = None\n",
    "\n",
    "        ############# Your code here ############\n",
    "        ## Note:\n",
    "        ## 1. Construct node embeddings using your existing GCN model\n",
    "        ## 2. Use the global pooling layer to aggregate features for each individual graph\n",
    "        ## For more information please refer to the documentation:\n",
    "        ## https://pytorch-geometric.readthedocs.io/en/latest/modules/nn.html#global-pooling-layers\n",
    "        ## 3. Use a linear layer to predict each graph's property\n",
    "        ## (~3 lines of code)\n",
    "        zz = self.node_encoder(x)\n",
    "        nodeout = self.gnn_node.forward(zz, edge_index)\n",
    "        pooled = self.pool(nodeout, batch)\n",
    "        out = self.linear(pooled)\n",
    "        #########################################\n",
    "\n",
    "        return out"
   ]
  },
  {
   "cell_type": "code",
   "execution_count": 27,
   "metadata": {
    "id": "FJjnGuMSbjX0"
   },
   "outputs": [],
   "source": [
    "def train(model, device, data_loader, optimizer, loss_fn):\n",
    "    # TODO: Implement a function that trains your model by \n",
    "    # using the given optimizer and loss_fn.\n",
    "    model.train()\n",
    "    loss = 0\n",
    "\n",
    "    for step, batch in enumerate(tqdm(data_loader, desc=\"Iteration\")):\n",
    "      batch = batch.to(device)\n",
    "\n",
    "      if batch.x.shape[0] == 1 or batch.batch[-1] == 0:\n",
    "          pass\n",
    "      else:\n",
    "        ## ignore nan targets (unlabeled) when computing training loss.\n",
    "        is_labeled = batch.y == batch.y\n",
    "\n",
    "        ############# Your code here ############\n",
    "        ## Note:\n",
    "        ## 1. Zero grad the optimizer\n",
    "        ## 2. Feed the data into the model\n",
    "        ## 3. Use `is_labeled` mask to filter outputs and labels\n",
    "        ## 4. You may need to change the type of label to torch.float32\n",
    "        ## 5. Feed the output and label to the loss_fn\n",
    "        ## (~3 lines of code)\n",
    "        optimizer.zero_grad()\n",
    "        out = model(batch)\n",
    "        pred = out[is_labeled]\n",
    "        actual = torch.squeeze(batch.y[is_labeled]).type(torch.float32)\n",
    "        loss = loss_fn(pred, actual)\n",
    "        #########################################\n",
    "\n",
    "        loss.backward()\n",
    "        optimizer.step()\n",
    "\n",
    "    return loss.item()"
   ]
  },
  {
   "cell_type": "code",
   "execution_count": 28,
   "metadata": {
    "id": "ztPHXq_Gzn7U"
   },
   "outputs": [],
   "source": [
    "# The evaluation function\n",
    "def eval(model, device, loader, evaluator, save_model_results=False, save_file=None):\n",
    "    model.eval()\n",
    "    y_true = []\n",
    "    y_pred = []\n",
    "\n",
    "    for step, batch in enumerate(tqdm(loader, desc=\"Iteration\")):\n",
    "        batch = batch.to(device)\n",
    "\n",
    "        if batch.x.shape[0] == 1:\n",
    "            pass\n",
    "        else:\n",
    "            with torch.no_grad():\n",
    "                pred = model(batch)\n",
    "\n",
    "            y_true.append(batch.y.view(pred.shape).detach().cpu())\n",
    "            y_pred.append(pred.detach().cpu())\n",
    "\n",
    "    y_true = torch.cat(y_true, dim = 0).numpy()\n",
    "    y_pred = torch.cat(y_pred, dim = 0).numpy()\n",
    "\n",
    "    input_dict = {\"y_true\": y_true, \"y_pred\": y_pred}\n",
    "\n",
    "    if save_model_results:\n",
    "        print (\"Saving Model Predictions\")\n",
    "        \n",
    "        # Create a pandas dataframe with a two columns\n",
    "        # y_pred | y_true\n",
    "        data = {}\n",
    "        data['y_pred'] = y_pred.reshape(-1)\n",
    "        data['y_true'] = y_true.reshape(-1)\n",
    "\n",
    "        df = pd.DataFrame(data=data)\n",
    "        # Save to csv\n",
    "        df.to_csv('ogbg-molhiv_graph_' + save_file + '.csv', sep=',', index=False)\n",
    "\n",
    "    return evaluator.eval(input_dict)"
   ]
  },
  {
   "cell_type": "code",
   "execution_count": 29,
   "metadata": {
    "id": "MR1wQ4hMZeMw"
   },
   "outputs": [],
   "source": [
    "if 'IS_GRADESCOPE_ENV' not in os.environ:\n",
    "  model = GCN_Graph(args['hidden_dim'],\n",
    "              dataset.num_tasks, args['num_layers'],\n",
    "              args['dropout']).to(device)\n",
    "  evaluator = Evaluator(name='ogbg-molhiv')"
   ]
  },
  {
   "cell_type": "code",
   "execution_count": 30,
   "metadata": {
    "colab": {
     "base_uri": "https://localhost:8080/",
     "height": 391
    },
    "id": "qJGTNZiuZy0A",
    "outputId": "d96e3cea-4144-4590-f11b-63c4c74079ca"
   },
   "outputs": [
    {
     "name": "stdout",
     "output_type": "stream",
     "text": [
      "Training...\n"
     ]
    },
    {
     "name": "stderr",
     "output_type": "stream",
     "text": [
      "Iteration: 100%|████████████████████████████| 1029/1029 [00:11<00:00, 89.06it/s]\n"
     ]
    },
    {
     "name": "stdout",
     "output_type": "stream",
     "text": [
      "Evaluating...\n"
     ]
    },
    {
     "name": "stderr",
     "output_type": "stream",
     "text": [
      "Iteration: 100%|███████████████████████████| 1029/1029 [00:05<00:00, 186.70it/s]\n",
      "Iteration: 100%|█████████████████████████████| 129/129 [00:00<00:00, 148.26it/s]\n",
      "Iteration: 100%|█████████████████████████████| 129/129 [00:00<00:00, 150.63it/s]\n"
     ]
    },
    {
     "name": "stdout",
     "output_type": "stream",
     "text": [
      "Epoch: 01, Loss: 0.0750, Train: 70.29%, Valid: 69.57% Test: 71.06%\n",
      "Training...\n"
     ]
    },
    {
     "name": "stderr",
     "output_type": "stream",
     "text": [
      "Iteration: 100%|███████████████████████████| 1029/1029 [00:09<00:00, 104.15it/s]\n"
     ]
    },
    {
     "name": "stdout",
     "output_type": "stream",
     "text": [
      "Evaluating...\n"
     ]
    },
    {
     "name": "stderr",
     "output_type": "stream",
     "text": [
      "Iteration: 100%|███████████████████████████| 1029/1029 [00:05<00:00, 186.17it/s]\n",
      "Iteration: 100%|█████████████████████████████| 129/129 [00:00<00:00, 184.22it/s]\n",
      "Iteration: 100%|█████████████████████████████| 129/129 [00:00<00:00, 185.68it/s]\n"
     ]
    },
    {
     "name": "stdout",
     "output_type": "stream",
     "text": [
      "Epoch: 02, Loss: 0.0309, Train: 74.21%, Valid: 70.74% Test: 72.31%\n",
      "Training...\n"
     ]
    },
    {
     "name": "stderr",
     "output_type": "stream",
     "text": [
      "Iteration: 100%|███████████████████████████| 1029/1029 [00:09<00:00, 104.30it/s]\n"
     ]
    },
    {
     "name": "stdout",
     "output_type": "stream",
     "text": [
      "Evaluating...\n"
     ]
    },
    {
     "name": "stderr",
     "output_type": "stream",
     "text": [
      "Iteration: 100%|███████████████████████████| 1029/1029 [00:05<00:00, 187.38it/s]\n",
      "Iteration: 100%|█████████████████████████████| 129/129 [00:00<00:00, 191.83it/s]\n",
      "Iteration: 100%|█████████████████████████████| 129/129 [00:00<00:00, 191.47it/s]\n"
     ]
    },
    {
     "name": "stdout",
     "output_type": "stream",
     "text": [
      "Epoch: 03, Loss: 0.0359, Train: 76.76%, Valid: 75.10% Test: 71.28%\n",
      "Training...\n"
     ]
    },
    {
     "name": "stderr",
     "output_type": "stream",
     "text": [
      "Iteration: 100%|███████████████████████████| 1029/1029 [00:09<00:00, 104.28it/s]\n"
     ]
    },
    {
     "name": "stdout",
     "output_type": "stream",
     "text": [
      "Evaluating...\n"
     ]
    },
    {
     "name": "stderr",
     "output_type": "stream",
     "text": [
      "Iteration: 100%|███████████████████████████| 1029/1029 [00:05<00:00, 183.95it/s]\n",
      "Iteration: 100%|█████████████████████████████| 129/129 [00:00<00:00, 190.47it/s]\n",
      "Iteration: 100%|█████████████████████████████| 129/129 [00:00<00:00, 186.59it/s]\n"
     ]
    },
    {
     "name": "stdout",
     "output_type": "stream",
     "text": [
      "Epoch: 04, Loss: 0.0255, Train: 75.52%, Valid: 72.79% Test: 70.00%\n",
      "Training...\n"
     ]
    },
    {
     "name": "stderr",
     "output_type": "stream",
     "text": [
      "Iteration: 100%|███████████████████████████| 1029/1029 [00:09<00:00, 104.42it/s]\n"
     ]
    },
    {
     "name": "stdout",
     "output_type": "stream",
     "text": [
      "Evaluating...\n"
     ]
    },
    {
     "name": "stderr",
     "output_type": "stream",
     "text": [
      "Iteration: 100%|███████████████████████████| 1029/1029 [00:05<00:00, 185.84it/s]\n",
      "Iteration: 100%|█████████████████████████████| 129/129 [00:00<00:00, 192.02it/s]\n",
      "Iteration: 100%|█████████████████████████████| 129/129 [00:00<00:00, 192.98it/s]\n"
     ]
    },
    {
     "name": "stdout",
     "output_type": "stream",
     "text": [
      "Epoch: 05, Loss: 0.0298, Train: 77.68%, Valid: 78.24% Test: 72.10%\n",
      "Training...\n"
     ]
    },
    {
     "name": "stderr",
     "output_type": "stream",
     "text": [
      "Iteration: 100%|███████████████████████████| 1029/1029 [00:09<00:00, 104.35it/s]\n"
     ]
    },
    {
     "name": "stdout",
     "output_type": "stream",
     "text": [
      "Evaluating...\n"
     ]
    },
    {
     "name": "stderr",
     "output_type": "stream",
     "text": [
      "Iteration: 100%|███████████████████████████| 1029/1029 [00:05<00:00, 186.13it/s]\n",
      "Iteration: 100%|█████████████████████████████| 129/129 [00:00<00:00, 184.46it/s]\n",
      "Iteration: 100%|█████████████████████████████| 129/129 [00:00<00:00, 186.51it/s]\n"
     ]
    },
    {
     "name": "stdout",
     "output_type": "stream",
     "text": [
      "Epoch: 06, Loss: 0.4350, Train: 77.57%, Valid: 76.58% Test: 74.94%\n",
      "Training...\n"
     ]
    },
    {
     "name": "stderr",
     "output_type": "stream",
     "text": [
      "Iteration: 100%|███████████████████████████| 1029/1029 [00:09<00:00, 103.46it/s]\n"
     ]
    },
    {
     "name": "stdout",
     "output_type": "stream",
     "text": [
      "Evaluating...\n"
     ]
    },
    {
     "name": "stderr",
     "output_type": "stream",
     "text": [
      "Iteration: 100%|███████████████████████████| 1029/1029 [00:05<00:00, 188.07it/s]\n",
      "Iteration: 100%|█████████████████████████████| 129/129 [00:00<00:00, 189.74it/s]\n",
      "Iteration: 100%|█████████████████████████████| 129/129 [00:00<00:00, 182.44it/s]\n"
     ]
    },
    {
     "name": "stdout",
     "output_type": "stream",
     "text": [
      "Epoch: 07, Loss: 0.0225, Train: 78.45%, Valid: 76.80% Test: 70.50%\n",
      "Training...\n"
     ]
    },
    {
     "name": "stderr",
     "output_type": "stream",
     "text": [
      "Iteration: 100%|███████████████████████████| 1029/1029 [00:10<00:00, 102.33it/s]\n"
     ]
    },
    {
     "name": "stdout",
     "output_type": "stream",
     "text": [
      "Evaluating...\n"
     ]
    },
    {
     "name": "stderr",
     "output_type": "stream",
     "text": [
      "Iteration: 100%|███████████████████████████| 1029/1029 [00:05<00:00, 188.49it/s]\n",
      "Iteration: 100%|█████████████████████████████| 129/129 [00:00<00:00, 188.37it/s]\n",
      "Iteration: 100%|█████████████████████████████| 129/129 [00:00<00:00, 188.66it/s]\n"
     ]
    },
    {
     "name": "stdout",
     "output_type": "stream",
     "text": [
      "Epoch: 08, Loss: 0.0431, Train: 78.71%, Valid: 78.52% Test: 72.63%\n",
      "Training...\n"
     ]
    },
    {
     "name": "stderr",
     "output_type": "stream",
     "text": [
      "Iteration: 100%|███████████████████████████| 1029/1029 [00:09<00:00, 103.42it/s]\n"
     ]
    },
    {
     "name": "stdout",
     "output_type": "stream",
     "text": [
      "Evaluating...\n"
     ]
    },
    {
     "name": "stderr",
     "output_type": "stream",
     "text": [
      "Iteration: 100%|███████████████████████████| 1029/1029 [00:05<00:00, 184.98it/s]\n",
      "Iteration: 100%|█████████████████████████████| 129/129 [00:00<00:00, 185.22it/s]\n",
      "Iteration: 100%|█████████████████████████████| 129/129 [00:00<00:00, 186.79it/s]\n"
     ]
    },
    {
     "name": "stdout",
     "output_type": "stream",
     "text": [
      "Epoch: 09, Loss: 0.0143, Train: 78.07%, Valid: 76.18% Test: 72.96%\n",
      "Training...\n"
     ]
    },
    {
     "name": "stderr",
     "output_type": "stream",
     "text": [
      "Iteration: 100%|███████████████████████████| 1029/1029 [00:09<00:00, 104.49it/s]\n"
     ]
    },
    {
     "name": "stdout",
     "output_type": "stream",
     "text": [
      "Evaluating...\n"
     ]
    },
    {
     "name": "stderr",
     "output_type": "stream",
     "text": [
      "Iteration: 100%|███████████████████████████| 1029/1029 [00:05<00:00, 186.35it/s]\n",
      "Iteration: 100%|█████████████████████████████| 129/129 [00:00<00:00, 180.09it/s]\n",
      "Iteration: 100%|█████████████████████████████| 129/129 [00:00<00:00, 184.20it/s]\n"
     ]
    },
    {
     "name": "stdout",
     "output_type": "stream",
     "text": [
      "Epoch: 10, Loss: 0.0208, Train: 78.70%, Valid: 78.44% Test: 68.40%\n",
      "Training...\n"
     ]
    },
    {
     "name": "stderr",
     "output_type": "stream",
     "text": [
      "Iteration: 100%|███████████████████████████| 1029/1029 [00:10<00:00, 102.80it/s]\n"
     ]
    },
    {
     "name": "stdout",
     "output_type": "stream",
     "text": [
      "Evaluating...\n"
     ]
    },
    {
     "name": "stderr",
     "output_type": "stream",
     "text": [
      "Iteration: 100%|███████████████████████████| 1029/1029 [00:05<00:00, 188.51it/s]\n",
      "Iteration: 100%|█████████████████████████████| 129/129 [00:00<00:00, 187.03it/s]\n",
      "Iteration: 100%|█████████████████████████████| 129/129 [00:00<00:00, 189.59it/s]\n"
     ]
    },
    {
     "name": "stdout",
     "output_type": "stream",
     "text": [
      "Epoch: 11, Loss: 0.0198, Train: 78.92%, Valid: 69.71% Test: 72.80%\n",
      "Training...\n"
     ]
    },
    {
     "name": "stderr",
     "output_type": "stream",
     "text": [
      "Iteration: 100%|███████████████████████████| 1029/1029 [00:09<00:00, 103.25it/s]\n"
     ]
    },
    {
     "name": "stdout",
     "output_type": "stream",
     "text": [
      "Evaluating...\n"
     ]
    },
    {
     "name": "stderr",
     "output_type": "stream",
     "text": [
      "Iteration: 100%|███████████████████████████| 1029/1029 [00:05<00:00, 186.10it/s]\n",
      "Iteration: 100%|█████████████████████████████| 129/129 [00:00<00:00, 186.84it/s]\n",
      "Iteration: 100%|█████████████████████████████| 129/129 [00:00<00:00, 186.32it/s]\n"
     ]
    },
    {
     "name": "stdout",
     "output_type": "stream",
     "text": [
      "Epoch: 12, Loss: 0.4866, Train: 81.18%, Valid: 74.74% Test: 74.57%\n",
      "Training...\n"
     ]
    },
    {
     "name": "stderr",
     "output_type": "stream",
     "text": [
      "Iteration: 100%|███████████████████████████| 1029/1029 [00:09<00:00, 105.07it/s]\n"
     ]
    },
    {
     "name": "stdout",
     "output_type": "stream",
     "text": [
      "Evaluating...\n"
     ]
    },
    {
     "name": "stderr",
     "output_type": "stream",
     "text": [
      "Iteration: 100%|███████████████████████████| 1029/1029 [00:05<00:00, 188.73it/s]\n",
      "Iteration: 100%|█████████████████████████████| 129/129 [00:00<00:00, 188.08it/s]\n",
      "Iteration: 100%|█████████████████████████████| 129/129 [00:00<00:00, 190.64it/s]\n"
     ]
    },
    {
     "name": "stdout",
     "output_type": "stream",
     "text": [
      "Epoch: 13, Loss: 0.0286, Train: 80.00%, Valid: 75.81% Test: 72.51%\n",
      "Training...\n"
     ]
    },
    {
     "name": "stderr",
     "output_type": "stream",
     "text": [
      "Iteration: 100%|███████████████████████████| 1029/1029 [00:09<00:00, 104.01it/s]\n"
     ]
    },
    {
     "name": "stdout",
     "output_type": "stream",
     "text": [
      "Evaluating...\n"
     ]
    },
    {
     "name": "stderr",
     "output_type": "stream",
     "text": [
      "Iteration: 100%|███████████████████████████| 1029/1029 [00:05<00:00, 181.87it/s]\n",
      "Iteration: 100%|█████████████████████████████| 129/129 [00:00<00:00, 186.45it/s]\n",
      "Iteration: 100%|█████████████████████████████| 129/129 [00:00<00:00, 191.45it/s]\n"
     ]
    },
    {
     "name": "stdout",
     "output_type": "stream",
     "text": [
      "Epoch: 14, Loss: 0.0290, Train: 80.29%, Valid: 75.94% Test: 71.19%\n",
      "Training...\n"
     ]
    },
    {
     "name": "stderr",
     "output_type": "stream",
     "text": [
      "Iteration: 100%|███████████████████████████| 1029/1029 [00:09<00:00, 104.78it/s]\n"
     ]
    },
    {
     "name": "stdout",
     "output_type": "stream",
     "text": [
      "Evaluating...\n"
     ]
    },
    {
     "name": "stderr",
     "output_type": "stream",
     "text": [
      "Iteration: 100%|███████████████████████████| 1029/1029 [00:05<00:00, 182.45it/s]\n",
      "Iteration: 100%|█████████████████████████████| 129/129 [00:00<00:00, 186.40it/s]\n",
      "Iteration: 100%|█████████████████████████████| 129/129 [00:00<00:00, 186.49it/s]"
     ]
    },
    {
     "name": "stdout",
     "output_type": "stream",
     "text": [
      "Epoch: 15, Loss: 0.0440, Train: 78.72%, Valid: 75.58% Test: 70.38%\n"
     ]
    },
    {
     "name": "stderr",
     "output_type": "stream",
     "text": [
      "\n"
     ]
    }
   ],
   "source": [
    "import copy\n",
    "\n",
    "if 'IS_GRADESCOPE_ENV' not in os.environ:\n",
    "  model.reset_parameters()\n",
    "\n",
    "  optimizer = torch.optim.Adam(model.parameters(), lr=args['lr'])\n",
    "  loss_fn = torch.nn.BCEWithLogitsLoss()\n",
    "\n",
    "  best_model = None\n",
    "  best_valid_acc = 0\n",
    "\n",
    "  for epoch in range(1, 1 + args[\"epochs\"]):\n",
    "    print('Training...')\n",
    "    loss = train(model, device, train_loader, optimizer, loss_fn)\n",
    "\n",
    "    print('Evaluating...')\n",
    "    train_result = eval(model, device, train_loader, evaluator)\n",
    "    val_result = eval(model, device, valid_loader, evaluator)\n",
    "    test_result = eval(model, device, test_loader, evaluator)\n",
    "\n",
    "    train_acc, valid_acc, test_acc = train_result[dataset.eval_metric], val_result[dataset.eval_metric], test_result[dataset.eval_metric]\n",
    "    if valid_acc > best_valid_acc:\n",
    "        best_valid_acc = valid_acc\n",
    "        best_model = copy.deepcopy(model)\n",
    "    print(f'Epoch: {epoch:02d}, '\n",
    "          f'Loss: {loss:.4f}, '\n",
    "          f'Train: {100 * train_acc:.2f}%, '\n",
    "          f'Valid: {100 * valid_acc:.2f}% '\n",
    "          f'Test: {100 * test_acc:.2f}%')"
   ]
  },
  {
   "cell_type": "markdown",
   "metadata": {
    "id": "6I17-Qso_n88"
   },
   "source": [
    "## Question 6: What are your `best_model` validation and test ROC-AUC scores? (20 points)\n",
    "\n",
    "Run the cell below to see the results of your best model and save your model's predictions over the validation and test datasets. The resulting files are named *ogbn-arxiv_graph_valid.csv* and *ogbn-arxiv_graph_test.csv*. \n",
    "\n",
    "Again, you can view these files by clicking on the *Folder* icon on the left side pannel. As in Colab 1, when you sumbit your assignment, you will have to download these files and attatch them to your submission."
   ]
  },
  {
   "cell_type": "code",
   "execution_count": 31,
   "metadata": {
    "id": "Oq5QaG21dOOO"
   },
   "outputs": [
    {
     "name": "stderr",
     "output_type": "stream",
     "text": [
      "Iteration: 100%|███████████████████████████| 1029/1029 [00:05<00:00, 182.55it/s]\n",
      "Iteration: 100%|█████████████████████████████| 129/129 [00:00<00:00, 185.40it/s]\n"
     ]
    },
    {
     "name": "stdout",
     "output_type": "stream",
     "text": [
      "Saving Model Predictions\n"
     ]
    },
    {
     "name": "stderr",
     "output_type": "stream",
     "text": [
      "Iteration: 100%|█████████████████████████████| 129/129 [00:00<00:00, 186.88it/s]"
     ]
    },
    {
     "name": "stdout",
     "output_type": "stream",
     "text": [
      "Saving Model Predictions\n",
      "Best model: Train: 78.71%, Valid: 78.52% Test: 72.63%\n"
     ]
    },
    {
     "name": "stderr",
     "output_type": "stream",
     "text": [
      "\n"
     ]
    }
   ],
   "source": [
    "if 'IS_GRADESCOPE_ENV' not in os.environ:\n",
    "  train_acc = eval(best_model, device, train_loader, evaluator)[dataset.eval_metric]\n",
    "  valid_acc = eval(best_model, device, valid_loader, evaluator, save_model_results=True, save_file=\"valid\")[dataset.eval_metric]\n",
    "  test_acc  = eval(best_model, device, test_loader, evaluator, save_model_results=True, save_file=\"test\")[dataset.eval_metric]\n",
    "\n",
    "  print(f'Best model: '\n",
    "      f'Train: {100 * train_acc:.2f}%, '\n",
    "      f'Valid: {100 * valid_acc:.2f}% '\n",
    "      f'Test: {100 * test_acc:.2f}%')"
   ]
  },
  {
   "cell_type": "markdown",
   "metadata": {
    "id": "gBi_t8n0iZ4P"
   },
   "source": [
    "## Question 7 (Optional): Experiment with the two other global pooling layers in Pytorch Geometric."
   ]
  },
  {
   "cell_type": "markdown",
   "metadata": {
    "id": "e7JXsMTBgeOI"
   },
   "source": [
    "# Submission\n",
    "\n",
    "You will need to submit four files on Gradescope to complete this notebook. \n",
    "\n",
    "1.   Your completed *XCS224W_Colab2.ipynb*. From the \"File\" menu select \"Download .ipynb\" to save a local copy of your completed Colab. \n",
    "2.  *ogbn-arxiv_node.csv* \n",
    "3.  *ogbg-molhiv_graph_valid.csv*\n",
    "4.  *ogbg-molhiv_graph_test.csv*\n",
    "\n",
    "Download the csv files by selecting the *Folder* icon on the left panel. \n",
    "\n",
    "To submit your work, zip the files downloaded in steps 1-4 above and submit to gradescope. **NOTE:** DO NOT rename any of the downloaded files. "
   ]
  }
 ],
 "metadata": {
  "accelerator": "GPU",
  "colab": {
   "collapsed_sections": [
    "ZGKqVEbbMEzf",
    "rwKbzhHUAckZ",
    "u05Z14TRYPGn",
    "gBi_t8n0iZ4P",
    "e7JXsMTBgeOI"
   ],
   "include_colab_link": true,
   "machine_shape": "hm",
   "name": "XCS224W_Colab2.ipynb",
   "provenance": []
  },
  "kernelspec": {
   "display_name": "pgenv",
   "language": "python",
   "name": "pgenv"
  },
  "language_info": {
   "codemirror_mode": {
    "name": "ipython",
    "version": 3
   },
   "file_extension": ".py",
   "mimetype": "text/x-python",
   "name": "python",
   "nbconvert_exporter": "python",
   "pygments_lexer": "ipython3",
   "version": "3.8.12"
  }
 },
 "nbformat": 4,
 "nbformat_minor": 1
}
