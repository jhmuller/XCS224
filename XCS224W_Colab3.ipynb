{
 "cells": [
  {
   "cell_type": "markdown",
   "metadata": {
    "colab_type": "text",
    "id": "view-in-github"
   },
   "source": [
    "<a href=\"https://colab.research.google.com/github/jhmuller/XCS224/blob/main/XCS224W_Colab3.ipynb\" target=\"_parent\"><img src=\"https://colab.research.google.com/assets/colab-badge.svg\" alt=\"Open In Colab\"/></a>"
   ]
  },
  {
   "cell_type": "markdown",
   "metadata": {
    "id": "XuXWJLEm2UWS"
   },
   "source": [
    "# **CS224W - Colab 3**"
   ]
  },
  {
   "cell_type": "markdown",
   "metadata": {
    "id": "8gzsP50bF6Gb"
   },
   "source": [
    "In Colab 2 you constructed GNN models by using PyTorch Geometric's built in GCN layer, `GCNConv`. In this Colab you will go a step deeper and implement your GNN layers directly: **GraphSAGE** ([Hamilton et al. (2017)](https://arxiv.org/abs/1706.02216)) and **GAT** ([Veličković et al. (2018)](https://arxiv.org/abs/1710.10903)). Using these GNN layers you will run and test your models on the CORA dataset, a standard citation network benchmark dataset.\n",
    "\n",
    "Next, you will learn how to use [DeepSNAP](https://snap.stanford.edu/deepsnap/), a Python library enabling efficient deep learning on graphs. With DeepSNAP you will learn how to easily split graphs in different ways and apply graph dataset transformations.\n",
    "\n",
    "Lastly, using DeepSNAP's transductive link prediction dataset spliting functionality, you will construct a simple GNN model for the task of edge property prediction (link prediction).\n",
    "\n",
    "**Note**: Make sure to **sequentially run all the cells in each section** so that the intermediate variables / packages will carry over to the next cell\n",
    "\n",
    "Have fun and good luck on Colab 3 :)"
   ]
  },
  {
   "cell_type": "markdown",
   "metadata": {
    "id": "OcqscyiXMuRX"
   },
   "source": [
    "## Building + Debugging Notes\n",
    "While working through this Colab and future Colabs, we strongly encourage you to follow a couple of building / debugging strategies:\n",
    "- During debugging make sure to run your notebook using the CPU runtime. You can change the notebook runtime by selecting `Runtime` and then `Change runtime type`. From the dropdown, select `None` as the `hardware accelerator`.\n",
    "- When working with PyTorch and Neural Network models, understanding the shapes of different tensors, especially the input and output tensors is incredibly helpful.\n",
    "- When training models, it is helpful to start by only running 1 epoch or even just a couple of batch iterations. This way you can check that all your tensor shapes and logic match up, while also tracking expected behavior, such as a decreasing training loss. Remember to comment out / save the default number of epochs that we provide you.\n"
   ]
  },
  {
   "cell_type": "markdown",
   "metadata": {
    "id": "MSaetj53YnT6"
   },
   "source": [
    "# Device\n",
    "We recommend using a GPU for this Colab.\n",
    "\n",
    "Please click `Runtime` and then `Change runtime type`. Then set the `hardware accelerator` to **GPU**."
   ]
  },
  {
   "cell_type": "markdown",
   "metadata": {
    "id": "67gOQITlCNQi"
   },
   "source": [
    "## Installation"
   ]
  },
  {
   "cell_type": "code",
   "execution_count": 1,
   "metadata": {
    "id": "J_m9l6OYCQZP"
   },
   "outputs": [],
   "source": [
    "# Install torch geometric\n",
    "import os\n",
    "if 'IS_GRADESCOPE_ENV' not in os.environ:\n",
    "  if os.environ[\"USER\"] and os.environ[\"USER\"].lower() != 'john':\n",
    "      !pip install torch-scatter -f https://pytorch-geometric.com/whl/torch-1.10.0+cu111.html\n",
    "      !pip install torch-sparse -f https://pytorch-geometric.com/whl/torch-1.10.0+cu111.html\n",
    "      !pip install torch-geometric\n",
    "      !pip install -q git+https://github.com/snap-stanford/deepsnap.git"
   ]
  },
  {
   "cell_type": "code",
   "execution_count": 2,
   "metadata": {
    "id": "PRfgbfTjCRD_"
   },
   "outputs": [
    {
     "data": {
      "text/plain": [
       "'2.0.3'"
      ]
     },
     "execution_count": 2,
     "metadata": {},
     "output_type": "execute_result"
    }
   ],
   "source": [
    "import torch_geometric\n",
    "torch_geometric.__version__"
   ]
  },
  {
   "cell_type": "markdown",
   "metadata": {
    "id": "ZoXlf4MtYrbz"
   },
   "source": [
    "# 1) GNN Layers"
   ]
  },
  {
   "cell_type": "markdown",
   "metadata": {
    "id": "TQy2RBfgYut4"
   },
   "source": [
    "## Implementing Layer Modules\n",
    "\n",
    "In Colab 2, you implemented a GCN model for node and graph classification tasks. However, for that notebook you took advantage of PyG's built in GCN module, similar to the way you might use PyTorch's built in CNN layer. For Colab 3, we provide a general Graph Neural Network Stack (i.e. the logic for applying multiple GNN layers with a post-message passing classification head). Using this flexible class definition, you will plugin and compare the performance of your own message passing layer implementations: GraphSAGE and GAT.\n",
    "\n",
    "You will use your layer implemenations for node classification on the CORA dataset, a standard citation network benchmark. In this dataset, nodes correspond to documents and edges correspond to undirected citations. Each node or document in the graph is assigned a class label and features based on the documents binarized bag-of-words representation. Specifically, the Cora graph has 2708 nodes, 5429 edges, 7 prediction classes, and 1433 features per node. "
   ]
  },
  {
   "cell_type": "markdown",
   "metadata": {
    "id": "H4ne6Gw-CT5G"
   },
   "source": [
    "## GNN Stack Module\n",
    "\n",
    "Below is our provided implementation of a general GNN stack, where you can plugin any GNN layer, such as **GraphSage**, **GAT**, etc. This module is provided for you. Your implementations of the **GraphSage** and **GAT** layers will function as components in the GNNStack Module."
   ]
  },
  {
   "cell_type": "code",
   "execution_count": 3,
   "metadata": {
    "id": "Ys8vZAFPCWWe"
   },
   "outputs": [],
   "source": [
    "import torch\n",
    "import torch_scatter\n",
    "import torch.nn as nn\n",
    "import torch.nn.functional as F\n",
    "\n",
    "import torch_geometric.nn as pyg_nn\n",
    "import torch_geometric.utils as pyg_utils\n",
    "\n",
    "from torch import Tensor\n",
    "from typing import Union, Tuple, Optional\n",
    "from torch_geometric.typing import (OptPairTensor, Adj, Size, NoneType,\n",
    "                                    OptTensor)\n",
    "\n",
    "from torch.nn import Parameter, Linear\n",
    "from torch_sparse import SparseTensor, set_diag\n",
    "from torch_geometric.nn.conv import MessagePassing\n",
    "from torch_geometric.utils import remove_self_loops, add_self_loops, softmax\n",
    "\n",
    "class GNNStack(torch.nn.Module):\n",
    "    def __init__(self, input_dim, hidden_dim, output_dim, args, emb=False):\n",
    "        super(GNNStack, self).__init__()\n",
    "        conv_model = self.build_conv_model(args.model_type)\n",
    "        self.convs = nn.ModuleList()\n",
    "        self.convs.append(conv_model(input_dim, hidden_dim))\n",
    "        assert (args.num_layers >= 1), 'Number of layers is not >=1'\n",
    "        for l in range(args.num_layers-1):\n",
    "            self.convs.append(conv_model(args.heads * hidden_dim, hidden_dim))\n",
    "\n",
    "        # post-message-passing\n",
    "        self.post_mp = nn.Sequential(\n",
    "            nn.Linear(args.heads * hidden_dim, hidden_dim), nn.Dropout(args.dropout), \n",
    "            nn.Linear(hidden_dim, output_dim))\n",
    "\n",
    "        self.dropout = args.dropout\n",
    "        self.num_layers = args.num_layers\n",
    "\n",
    "        self.emb = emb\n",
    "\n",
    "    def build_conv_model(self, model_type):\n",
    "        if model_type == 'GraphSage':\n",
    "            return GraphSage\n",
    "        elif model_type == 'GAT':\n",
    "            # When applying GAT with num heads > 1, you need to modify the \n",
    "            # input and output dimension of the conv layers (self.convs),\n",
    "            # to ensure that the input dim of the next layer is num heads\n",
    "            # multiplied by the output dim of the previous layer.\n",
    "            # HINT: In case you want to play with multiheads, \n",
    "            #    you need to change the for-loop that builds up self.convs to be\n",
    "            #      self.convs.append(conv_model(hidden_dim * num_heads, hidden_dim)), \n",
    "            #          and also the firstl\n",
    "            #      Linear(hidden_dim * num_heads, hidden_dim) in post-message-passing.\n",
    "            return GAT\n",
    "\n",
    "    def forward(self, data):\n",
    "        x, edge_index, batch = data.x, data.edge_index, data.batch\n",
    "          \n",
    "        for i in range(self.num_layers):\n",
    "            x = self.convs[i](x, edge_index)\n",
    "            x = F.relu(x)\n",
    "            x = F.dropout(x, p=self.dropout,training=self.training)\n",
    "\n",
    "        x = self.post_mp(x)\n",
    "\n",
    "        if self.emb == True:\n",
    "            return x\n",
    "\n",
    "        return F.log_softmax(x, dim=1)\n",
    "\n",
    "    def loss(self, pred, label):\n",
    "        return F.nll_loss(pred, label)"
   ]
  },
  {
   "cell_type": "markdown",
   "metadata": {
    "id": "5nW_XpEwASNZ"
   },
   "source": [
    "## Creating Your Own Message Passing Layer\n",
    "\n",
    "Now it is time to implement your own message passing layers! Working through this part will help you become acutely familiar with the behind the scenes work of implementing Pytorch Message Passing Layers, allowing you to build you own custom GNN models. In doing so, you will work with and implement <br><b>3 critcal functions</b> needed to define a PyG Message Passing Layer:\n",
    "<ol><li>`forward`, <li> `message`, and <li>`aggregate`.</ol>\n",
    "\n",
    "Before diving head first into the coding details, let us quickly review the key components of the message passing process.   \n",
    "\n",
    "### Central node message Passing\n",
    "First, we focus on a single round of messsage passing with respect to a single node $x$, which we refer to as the central node. The goal of the $lth$ layer of message passing is to update $x$'s feature vector from $x^{l-1}$ to $x^l$. To do so, we implement the following steps:  \n",
    "<ol>\n",
    "    <li>each neighboring node $v$ passes its current message $v^{l-1}$ across the edge $(v, x)$, \n",
    "    <li> for the node $x$, we aggregate all the messages of neighboring nodes (for example through a sum or mean),\n",
    "     <li> we transform the aggregated information by e.g. applying linear and non-linear transformations. \n",
    " </ol>  \n",
    " Altogether, the message passing process is applied such that every node $u$ in our graph updates its embedding through acting as the central node $x$ in step 1-3 described above. \n",
    "\n",
    "### Propagating and Transforming\n",
    "Second, let's apply this process of propagating and transforming information within the graph to that of coding a single message passing layer. Overall, the general paradigm of message passing layers is:  \n",
    "<ol> \n",
    "    <li> pre-processing\n",
    "    <li> **message passing** / propagation \n",
    "    <li>post-processing. \n",
    "</ol>\n",
    "The `forward` function that you will implement captures this execution logic. Namely, the `forward` function handles the pre and post-processing of node features / embeddings, as well as initiates message passing by calling the `propagate` function. \n",
    "\n",
    "\n",
    "The `propagate` function encapsulates the actual message passing process within the graph! It does so by calling three important functions: \n",
    "<ol> \n",
    "    <li>`message`\n",
    "    <li>`aggregate`, and\n",
    "    <li>`update`. \n",
    " </ol>\n",
    " Your implementation will vary slightly from this, as you will not explicitly implement `update`, but instead place the logic for updating node embeddings after message passing and within the `forward` function. To be more specific, after information is propagated (message passing + aggregation), we can further transform the node embeddings outputed by `propagate`. Overall, the output of `forward` is exactly the node embeddings after one GNN layer.\n",
    " \n",
    "### side bar\n",
    "forward = pre-process + propogate + post-process<br>\n",
    "propogate = message + aggregate<br>\n",
    "post-process examples include transformations<br>\n",
    "\n",
    "### Putting it all together\n",
    "Lastly, before starting to implement our own layer, let us dig a bit deeper into each of the functions described above:\n",
    "\n",
    "1. \n",
    "\n",
    "```\n",
    "def propagate(edge_index, x=(x_src, x_dst), extra=(extra_src, extra_dst), size=size):\n",
    "```\n",
    "Calling `propagate` initiates the message passing process. Looking at the function parameters, we highlight a couple of key parameters. \n",
    "\n",
    "  - `edge_index` is passed to the forward function and captures the edge structure of the graph. `edge_index` is of shape - `[2, E]`, where `edge_index[:, e]` represents a single edge $e$ in the graph.\n",
    "  - `x=(x_src, x_dst)` represents the node features that will be used in message passing, where we have the flexibility to distinguish the features of source (<b>x_src</b>) vs. destination (<b>x_dst</b>) nodes (e.g. with different transformations). Common notation is to think of the src node features as the node features used for sending messages and dst node features as the central node features that will be receiving these messages. Note, while in this notebook the src and dst matrices will be the same shape - $[N, d]$ (i.e. coming from the same set of nodes), we will see later in the course cases where these nodes can differ.\n",
    "\n",
    "  - `extra=(extra_src, extra_dst)` represents additional information that we can associate with each node beyond its current feature embedding. In fact, we can include as many additional parameters of the form `param=(param_src, param_dst)` as we would like. We highlight that differentiating betwee `_src` and `_dst` allows us to differentiate the features used for central and neighboring node features later in the message passing process. \n",
    "\n",
    "  The output of the `propagate` function is a matrix of node embeddings after the message passing process and has shape $[N, d]$.\n",
    "\n",
    "2. \n",
    "```\n",
    "def message(x_j, ...):\n",
    "```\n",
    "The `message` function is called by `propagate` and constructs the messages from neighboring nodes (src nodes) to central nodes (dst nodes). Following PyG convention, we subscript variables dealing with src nodes with `_j` and dst nodes  with `_i`. \n",
    "\n",
    "  - `x_j` represents the matrix of node features for *each src node of each edge* in the graph. Specifically, messages are constructed along each edge $(j, i) \\in \\mathcal{E}$, where edge_index is used extract node feature information to construct `x_j` as `x_j = x_src[edge_index[0, :], :]`. Thus, `x_j` has shape $[|\\mathcal{E}|, d]$!\n",
    "\n",
    "  - `...` represent any additional arguments passed to `propagate`, from which we can differentiate between src and dst node types by appending `_i` or `_j` to the variable name. In implementing GAT you will see how you can leverage accessing additional variables passed to propagate.\n",
    "\n",
    "  Critically, we emphasize that the output of the `message` function is a matrix of messages ready to be aggregated, having shape $[|\\mathcal{E}|, d]$, where these messages are constructed by applying different potential transformations to the initial src node embedding messages.\n",
    "\n",
    "  **Note** Understanding the message passing process is definitely a confusing concept; however, it is very helpful to think of the `message` function acting on each individual edges in the graph (i.e. producing a message for each directed edge $(j, i)$). Moreover, for undirected graphs since we store both directions of each edge, each node $u$ acts both as a src and dst node, sending messages to its neighbors and then also aggregating messages from its same set of neighbors.\n",
    "\n",
    "\n",
    "3. \n",
    "```\n",
    "def aggregate(self, inputs, index, dim_size = None):\n",
    "```\n",
    "Lastly, the `aggregate` function is used to aggregate the messages from neighboring nodes. Looking at the parameters, we highlight:\n",
    "\n",
    "  - `inputs` represents a matrix of the messages passed from neighboring nodes (i.e. the output of the `message` function).\n",
    "  - `index` is an array with length equal to the number of rows of `inputs` and tells us the central node $i$ associated with each message (row) in the `inputs` matrix. Thus, `index` tells us which rows / messages to aggregate for each central node $i$ - i.e. all messages with associated edges $(*, i) \\in \\mathcal{E}$.\n",
    "\n",
    "  The output of `aggregate` is of shape $[N, d]$.\n",
    "\n",
    "\n",
    "For additional resources refer to the PyG documentation for implementing custom message passing layers:   <br>https://pytorch-geometric.readthedocs.io/en/latest/notes/create_gnn.html"
   ]
  },
  {
   "cell_type": "markdown",
   "metadata": {
    "id": "syDtxjxoCZgq"
   },
   "source": [
    "## GraphSage Implementation\n",
    "\n",
    "For our first GNN layer, you will implement the well known GraphSage ([Hamilton et al. (2017)](https://arxiv.org/abs/1706.02216)) layer! \n",
    "\n",
    "For a given *central* node $v$ with current embedding $h_v^{l-1}$, the message passing update rule to tranform $h_v^{l-1} \\rightarrow h_v^l$ is as follows: \n",
    "\n",
    "\\begin{equation}\n",
    "h_v^{(l)} = W_l\\cdot h_v^{(l-1)} + W_r \\cdot AGG(\\{h_u^{(l-1)}, \\forall u \\in N(v) \\})\n",
    "\\end{equation}\n",
    "\n",
    "where $W_l$ and $W_r$ are learnable weight matrices and the nodes $u$ are *neighboring* nodes. Additionally, you will use mean aggregation:\n",
    "\n",
    "\\begin{equation}\n",
    "AGG(\\{h_u^{(l-1)}, \\forall u \\in N(v) \\}) = \\frac{1}{|N(v)|} \\sum_{u\\in N(v)} h_u^{(l-1)}\n",
    "\\end{equation}\n",
    "\n",
    "One thing to note is that we have added a **skip connection** to your GraphSage implementation through the term $W_l\\cdot h_v^{(l-1)}$. \n",
    "\n",
    "Before implementing this update rule, we encourage you to think about how different parts of the GraphSage formulas correspond with the functions outlined earlier: \n",
    "<ol> <li> `forward`, <li> `message`, and <li> `aggregate`.</ol> \n",
    "\n",
    "As a hint, you are given what the aggregation function is (i.e. mean aggregation)! Now the question remains,\n",
    "<ul><li>what are the messages passed by each neighbor nodes? and <li>when do we call the `propagate` function? </ul>\n",
    "\n",
    "Note: in this case the message function or messages are actually quite simple. Additionally, remember that the `propagate` function encapsulates the operations of / the outputs of the combined `message` and `aggregate` functions.\n",
    "\n",
    "\n",
    "Lastly, $\\ell$-2 normalization of the node embeddings is applied after each iteration.\n",
    "\n",
    "\n",
    "<font color='red'>For the following questions, DON'T refer to any existing implementations online.</font>"
   ]
  },
  {
   "cell_type": "code",
   "execution_count": 4,
   "metadata": {
    "id": "RwG4HqCFCaOD"
   },
   "outputs": [],
   "source": [
    "class GraphSage(MessagePassing):\n",
    "    \n",
    "    def __init__(self, in_channels, out_channels, normalize = True,\n",
    "                 bias = False, **kwargs):  \n",
    "        super(GraphSage, self).__init__(**kwargs)\n",
    "\n",
    "        self.in_channels = in_channels\n",
    "        self.out_channels = out_channels\n",
    "        self.normalize = normalize\n",
    "\n",
    "        self.lin_l = None\n",
    "        self.lin_r = None\n",
    "\n",
    "        ############# Your code here #############\n",
    "        # Define the layers needed for the message and update functions below.\n",
    "        # self.lin_l is the linear transformation that you apply to embedding \n",
    "        #            for central node.\n",
    "        # self.lin_r is the linear transformation that you apply to aggregated \n",
    "        #            message from neighbors.\n",
    "        # Our implementation is ~2 lines, but don't worry if you deviate from this.\n",
    "        self.lin_l = torch.nn.Linear(in_channels, out_channels)\n",
    "        self.lin_r = torch.nn.Linear(in_channels, out_channels)\n",
    "        ############################################################################\n",
    "\n",
    "        self.reset_parameters()\n",
    "\n",
    "    def reset_parameters(self):\n",
    "        self.lin_l.reset_parameters()\n",
    "        self.lin_r.reset_parameters()\n",
    "\n",
    "    def forward(self, x, edge_index, size = None):\n",
    "        \"\"\"\"\"\"\n",
    "\n",
    "        out = None\n",
    "\n",
    "        ############# Your code here #############\n",
    "        # Implement message passing, as well as any post-processing (our update rule).\n",
    "        # 1. Call the propagate function to conduct message passing.\n",
    "        #    1.1 See the description of propagate above or the following link for more information: \n",
    "        #        https://pytorch-geometric.readthedocs.io/en/latest/notes/create_gnn.html\n",
    "        #    1.2 You will only use the representation for neighbor nodes (x_j) in message passing. \n",
    "        #        Thus, you can simply pass the same representation for src / dst as x=(x, x). \n",
    "        #        Although we give this to you, try thinking through what this means following\n",
    "        #        the descriptions above.\n",
    "        # 2. Update your node embeddings with a skip connection.\n",
    "        # 3. If normalize is set, do L-2 normalization (defined in \n",
    "        #    torch.nn.functional)\n",
    "        #\n",
    "        # Our implementation is ~5 lines, but don't worry if you deviate from this.\n",
    "        \n",
    "        # pre-process\n",
    "        # message\n",
    "        out = self.propagate(edge_index, x=x, size=size)\n",
    "        out = self.lin_l(out)\n",
    "        x_r = x[1]\n",
    "        import pdb\n",
    "        #pdb.set_trace()\n",
    "        out += self.lin_r(x_r)           \n",
    "        if self.normalize:\n",
    "            out = F.normalize(out, p=2., dim=-1)        \n",
    "        \n",
    "        ############################################################################\n",
    "\n",
    "        return out\n",
    "\n",
    "    def message(self, x_j):\n",
    "\n",
    "        out = None\n",
    "\n",
    "        ############# Your code here #############\n",
    "        # Implement your message function here.\n",
    "        # Hint: Look at the formulation of the mean aggregation function, focusing on \n",
    "        # what message each individual neighboring node passes during aggregation.\n",
    "        #\n",
    "        # Our implementation is ~1 lines, but don't worry if you deviate from this.\n",
    "        \n",
    "        # x_j represents the matrix of node features for each src node of each edge in the graph. \n",
    "        # Specifically, messages are constructed along each edge (𝑗,𝑖)∈endge_index,\n",
    "        # where edge_index is used extract node feature information to construct x_j \n",
    "        # as x_j = x_src[edge_index[0, :], :]. Thus, x_j has shape [||,𝑑]\n",
    "\n",
    "        # represent any additional arguments passed to propagate, \n",
    "        # from which we can differentiate between src and dst node types by appending _i or _j to the variable name. \n",
    "        # In implementing GAT you will see how you can leverage accessing additional variables passed to propagate.\n",
    "\n",
    "        # Critically, we emphasize that the output of the message function is a matrix of messages \n",
    "        # ready to be aggregated, having shape [||,𝑑]\n",
    "        # , where these messages are constructed by applying different potential transformations \n",
    "        # to the initial src node embedding messages.\n",
    "        out = x_j\n",
    "        ############################################################################\n",
    "\n",
    "        return out\n",
    "\n",
    "    def aggregate(self, inputs, index, dim_size = None):\n",
    "\n",
    "        out = None\n",
    "\n",
    "        # The axis along which to index number of nodes.\n",
    "        node_dim = self.node_dim\n",
    "\n",
    "        ############# Your code here #############\n",
    "        # Implement your aggregate function here.\n",
    "        # See here as how to use torch_scatter.scatter: \n",
    "        # https://pytorch-scatter.readthedocs.io/en/latest/functions/scatter.html#torch_scatter.scatter\n",
    "        #\n",
    "        # Our implementation is ~1 lines, but don't worry if you deviate from this.\n",
    "        \n",
    "        #inputs represents a matrix of the messages passed from neighboring nodes ( of the message function).\n",
    "        # index is an array with length equal to the number of rows of inputs and tells us the central node 𝑖\n",
    "        #  associated with each message (row) in the inputs matrix. \n",
    "        # Thus, index tells us which rows / messages to aggregate for each central node 𝑖 - \n",
    "        #  i.e. all messages with associated edges (∗,𝑖)∈ edge_list\n",
    "\n",
    "        \n",
    "        # The output of aggregate is of shape [𝑁,𝑑]\n",
    "\n",
    "        #out = super(GraphSage, self).aggregate(inputs, index, dim_size=node_dim)\n",
    "        out = torch_scatter.scatter(inputs, index, node_dim)\n",
    "        ############################################################################\n",
    "\n",
    "        return out\n"
   ]
  },
  {
   "cell_type": "code",
   "execution_count": 5,
   "metadata": {},
   "outputs": [],
   "source": [
    "#%pdb"
   ]
  },
  {
   "cell_type": "markdown",
   "metadata": {
    "id": "qjcfF3RACdLD"
   },
   "source": [
    "## GAT Implementation\n",
    "\n",
    "Attention mechanisms have become the state-of-the-art in many sequence-based tasks such as machine translation and learning sentence representations. One of the major benefits of attention-based mechanisms is their ability to focus on the most relevant parts of the input to make decisions. In this problem, you will learn how attention mechanisms can be used to perform node classification over graph-structured data through the usage of Graph Attention Networks (GATs) ([Veličković et al. (2018)](https://arxiv.org/abs/1710.10903)).\n",
    "\n",
    "The building block of the Graph Attention Network is the graph attention layer, which is a variant of the aggregation function. Like before, a graph attention layer $l$ transforms the set of node features $\\mathbf{h^{l-1}} = \\{h_1^{l-1}, h_2^{l-1}, \\dots, h_N^{l-1}$\\}, $h_i^{l-1} \\in R^F$ $\\rightarrow$ $\\mathbf{h^{l}} = \\{h_1^{l}, h_2^{l}, \\dots, h_N^{l}$\\}, $h_i^{l} \\in R^{F'}$.\n",
    "\n",
    "Now let's see how this transformation is performed for each graph attention layer. First, a shared linear transformation parameterized by the weight matrix $\\mathbf{W} \\in \\mathbb{R}^{F' \\times F}$ is applied to every node. \n",
    "\n",
    "Next, we perform self-attention on the nodes using a shared attention function $a$:\n",
    "\\begin{equation} \n",
    "a : \\mathbb{R}^{F'} \\times \\mathbb{R}^{F'} \\rightarrow \\mathbb{R}\n",
    "\\end{equation}\n",
    "\n",
    "that computes the attention coefficients, capturing the importance of node $j$'s features to node $i$:\n",
    "\\begin{equation}\n",
    "e_{ij} = a(\\mathbf{W_l}\\overrightarrow{h_i}, \\mathbf{W_r} \\overrightarrow{h_j})\n",
    "\\end{equation}\n",
    "\n",
    "The most general formulation of self-attention allows every node to attend to all other nodes, which drops all structural information. However, to utilize the graph structure in the attention mechanisms, we use **masked attention**. In masked attention, we only compute attention coefficients $e_{ij}$ for nodes $j \\in \\mathcal{N}_i$ where $\\mathcal{N}_i$ is the set of neighbors for node $i$ in the graph. Namely, we only compute attention along the edges of the graph. \n",
    "\n",
    "To easily compare coefficients across nodes, we normalize the coefficients across a node $i$'s neighbors $j$ using the softmax function:\n",
    "\\begin{equation}\n",
    "\\alpha_{ij} = \\text{softmax}_j(e_{ij}) = \\frac{\\exp(e_{ij})}{\\sum_{k \\in \\mathcal{N}_i} \\exp(e_{ik})}\n",
    "\\end{equation}\n",
    "\n",
    "For this problem, our attention mechanism $a$ will be a single-layer feedforward neural network parametrized by weight vectors $\\overrightarrow{a_l} \\in \\mathbb{R}^{F'}$ and $\\overrightarrow{a_r} \\in \\mathbb{R}^{F'}$, followed by a LeakyReLU nonlinearity (with negative input slope 0.2). Letting $\\cdot^T$ represent transposition, the coefficients computed by our attention mechanism may be expressed as:\n",
    "\n",
    "\\begin{equation}\n",
    "\\alpha_{ij} = \\frac{\\exp\\Big(\\text{LeakyReLU}\\Big(\\overrightarrow{a_l}^T \\mathbf{W_l} \\overrightarrow{h_i} + \\overrightarrow{a_r}^T\\mathbf{W_r}\\overrightarrow{h_j}\\Big)\\Big)}{\\sum_{k\\in \\mathcal{N}_i} \\exp\\Big(\\text{LeakyReLU}\\Big(\\overrightarrow{a_l}^T \\mathbf{W_l} \\overrightarrow{h_i} + \\overrightarrow{a_r}^T\\mathbf{W_r}\\overrightarrow{h_k}\\Big)\\Big)}\n",
    "\\end{equation}\n",
    "\n",
    "For the following questions, we denote `alpha_l` = $\\alpha_l = [...,\\overrightarrow{a_l}^T \\mathbf{W_l} \\overrightarrow{h_i},...] \\in \\mathcal{R}^n$ and `alpha_r` = $\\alpha_r = [..., \\overrightarrow{a_r}^T \\mathbf{W_r} \\overrightarrow{h_j}, ...] \\in \\mathcal{R}^n$, where again $n$ is the number of nodes in the graph.\n",
    "\n",
    "\n",
    "For every GAT layer, after the attention coefficients are computed, the aggregation function for a node $i$ is computed as a weighted sum over the messages from neighboring nodes $j$ **weighted by the attention weights** $\\alpha_{ij}$. These aggregated features will serve as the final output features for every node.\n",
    "\n",
    "\\begin{equation}\n",
    "h_i' = \\sum_{j \\in \\mathcal{N}_i} \\alpha_{ij} \\mathbf{W_r} \\overrightarrow{h_j}.\n",
    "\\end{equation}\n",
    "\n",
    "At this point, we have covered a lot of information! Before reading further about multi-head attention, we encourage you to go again through the exercise of thinking about what components of the attention mechanism correspond with the different functions: 1) `forward`, 2) `message`, and 3 `aggregate`. \n",
    "\n",
    "- Hint 1: Our aggregation is very similar to that of GraphSage except now we are using sum aggregation.\n",
    "- Hint 2: The terms we aggregate over represent the individual message that each neighbor node j sends. Thus, we see that $\\alpha_{ij}$ is actually part of the message each node sends and should be computed during the message step. This makes sense since each attention weight is associated with a single edge in the graph.\n",
    "- Hint 3: Look at the terms in the definition of $\\alpha_{ij}$. What values can you pre-process and pass as parameters to the `propagate` function (i.e. those computed only over the nodes *that do not* require edge information). The parameters of `message(..., x_j, alpha_j, alpha_i, ...)` should give a good hint.  \n",
    "- Hint 4: Remember that parameters accessed in the `message` function are extracted from parameters passed to propagate using `edge_index`; thus, their first dimension has shape $|E|$.\n",
    "\n",
    "### Multi-Head Attention\n",
    "To stabilize the learning process of self-attention, you will use multi-head attention. To do this you use $K$ **independent** attention mechanisms, or ``heads'', to compute output features exactly as described in the above equations. Then, you simply concatenate these output feature representations:\n",
    "\n",
    "\\begin{equation}\n",
    "    \\overrightarrow{h_i}' = ||_{k=1}^K \\Big(\\sum_{j \\in \\mathcal{N}_i} \\alpha_{ij}^{(k)} \\mathbf{W_r}^{(k)} \\overrightarrow{h_j}\\Big)\n",
    "\\end{equation}\n",
    "\n",
    "where $||$ is concatenation, $\\alpha_{ij}^{(k)}$ are the normalized attention coefficients computed by the $k$-th attention mechanism $(a^k)$, and $\\mathbf{W}^{(k)}$ is the corresponding input linear transformation's weight matrix. Note that for this setting, $\\mathbf{h'} \\in \\mathbb{R}^{KF'}$. \n",
    "\n",
    "**Note:** We recommend first thinking through the implementation of single head attention. Switching to multi-head attention then requires thinking through adding an extra dimension $K$ to effectively compute $K$ separate single head attention outputs."
   ]
  },
  {
   "cell_type": "code",
   "execution_count": 6,
   "metadata": {
    "id": "w4j45gTpCeXO"
   },
   "outputs": [],
   "source": [
    "class GAT(MessagePassing):\n",
    "\n",
    "    def __init__(self, in_channels, out_channels, heads = 2,\n",
    "                 negative_slope = 0.2, dropout = 0., **kwargs):\n",
    "        super(GAT, self).__init__(node_dim=0, **kwargs)\n",
    "\n",
    "        self.in_channels = in_channels\n",
    "        self.out_channels = out_channels\n",
    "        self.heads = heads\n",
    "        self.negative_slope = negative_slope\n",
    "        self.dropout = dropout\n",
    "\n",
    "        self.lin_l = None\n",
    "        self.lin_r = None\n",
    "        self.att_l = None\n",
    "        self.att_r = None\n",
    "\n",
    "        ############# Your code here #############\n",
    "        # Define the layers needed for the message functions below.\n",
    "        # self.lin_l is the linear transformation that you apply to embeddings \n",
    "        # BEFORE message passing.\n",
    "        # \n",
    "        # Pay attention to dimensions of the linear layers, especially when\n",
    "        # implementing multi-head attention.\n",
    "        # Our implementation is ~1 lines, but don't worry if you deviate from this.\n",
    "        self.lin_l = torch.nn.Linear(in_channels, self.heads*out_channels)\n",
    "        ############################################################################\n",
    "\n",
    "        self.lin_r = self.lin_l\n",
    "\n",
    "        ############# Your code here #############\n",
    "        # Define the attention parameters \\overrightarrow{a_l/r}^T in the above intro.\n",
    "        # 1. Note that these are vectors not matrices!\n",
    "        # 2. Be mindful of when you want to include multi-head attention.\n",
    "        # 3. Use nn.Parameter instead of nn.Linear\n",
    "        # Our implementation is ~2 lines, but don't worry if you deviate from this.\n",
    "        self.att_l = Parameter(torch.Tensor(1, self.heads, out_channels))\n",
    "        self.att_r = Parameter(torch.Tensor(1, self.heads, out_channels))\n",
    "        ############################################################################\n",
    "\n",
    "        self.reset_parameters()\n",
    "\n",
    "    def reset_parameters(self):\n",
    "        nn.init.xavier_uniform_(self.lin_l.weight)\n",
    "        nn.init.xavier_uniform_(self.lin_r.weight)\n",
    "        nn.init.xavier_uniform_(self.att_l)\n",
    "        nn.init.xavier_uniform_(self.att_r)\n",
    "\n",
    "    def forward(self, x, edge_index, size = None):\n",
    "        \n",
    "        H, C = self.heads, self.out_channels\n",
    "\n",
    "        ############# Your code here #############\n",
    "        # Implement message passing, as well as any pre- and post-processing (our update rule).\n",
    "        # 1. First apply linear transformation to node embeddings, and split that \n",
    "        #    into multiple heads. We use the same representations for source and\n",
    "        #    target nodes, but apply different linear weights (W_l and W_r)\n",
    "        # 2. Calculate alpha vectors for central nodes (alpha_l) and neighbor nodes (alpha_r).\n",
    "        # 3. Call propagate function to conduct the message passing. \n",
    "        #    3.1 Remember to pass alpha = (alpha_l, alpha_r) as a parameter.\n",
    "        #    3.2 See here for more information: https://pytorch-geometric.readthedocs.io/en/latest/notes/create_gnn.html\n",
    "        # 4. Transform the output back to the shape of N * d.\n",
    "        # Our implementation is ~5 lines, but don't worry if you deviate from this.\n",
    "        import pdb\n",
    "        #pdb.set_trace()\n",
    "        #x_l, x_r = x\n",
    "        x_l = self.lin_l(x).view(-1, H, C)\n",
    "        x_r = self.lin_r(x).view(-1, H, C)        \n",
    "            \n",
    "        alpha_l = (x_l * self.att_l).sum(dim=-1)\n",
    "        alpha_r = None if x_r is None else (x_r * self.att_r).sum(-1)\n",
    "        alpha = (alpha_l, alpha_r)\n",
    "        out = self.propagate(edge_index, x=(x_l, x_r), size=size, alpha=alpha)\n",
    "        import pdb\n",
    "        #pdb.set_trace()\n",
    "        out = out.view(-1, H*C)\n",
    "        ############################################################################\n",
    "\n",
    "        return out\n",
    "\n",
    "\n",
    "    def message(self, x_j, alpha_j, alpha_i, index, ptr, size_i):\n",
    "\n",
    "        ############# Your code here #############\n",
    "        # Implement your message function. Putting the attention in message \n",
    "        # instead of in update is a little tricky.\n",
    "        # 1. Calculate the attention weights using alpha_i and alpha_j,\n",
    "        #    and apply leaky ReLU.\n",
    "        # 2. Calculate softmax over the neighbor nodes for all the nodes. Use \n",
    "        #    torch_geometric.utils.softmax instead of the one in Pytorch.\n",
    "        # 3. Apply dropout to attention weights (alpha).\n",
    "        # 4. Multiply embeddings and attention weights. As a sanity check, the output\n",
    "        #    should be of shape E * H * d.\n",
    "        # 5. ptr (LongTensor, optional): If given, computes the softmax based on\n",
    "        #    sorted inputs in CSR representation. You can simply pass it to softmax.\n",
    "        # Our implementation is ~5 lines, but don't worry if you deviate from this.\n",
    "        \n",
    "        alpha = alpha_j + alpha_i\n",
    "        alpha = F.leaky_relu(alpha, self.negative_slope)\n",
    "        alpha = softmax(alpha, index, ptr, size_i)\n",
    "\n",
    "        alpha = F.dropout(alpha, p=self.dropout, training=self.training)\n",
    "\n",
    "        out = x_j * alpha.unsqueeze(-1)\n",
    "        ############################################################################\n",
    "\n",
    "        return out\n",
    "\n",
    "\n",
    "    def aggregate(self, inputs, index, dim_size = None):\n",
    "\n",
    "        ############# Your code here #############\n",
    "        # Implement your aggregate function here.\n",
    "        # See here as how to use torch_scatter.scatter: \n",
    "        #   https://pytorch-scatter.readthedocs.io/en/latest/_modules/torch_scatter/scatter.html\n",
    "        # Pay attention to \"reduce\" parameter is different from that in GraphSage.\n",
    "        # Our implementation is ~1 lines, but don't worry if you deviate from this.\n",
    "        import pdb\n",
    "        #pdb.set_trace()\n",
    "        out = torch_scatter.scatter(inputs, index, dim=self.node_dim, dim_size=dim_size, reduce='sum')\n",
    "        ############################################################################\n",
    "    \n",
    "        return out"
   ]
  },
  {
   "cell_type": "markdown",
   "metadata": {
    "id": "V2dkgSuWCheU"
   },
   "source": [
    "## Building Optimizers\n",
    "\n",
    "This function has been implemented for you. **For grading purposes please use the default Adam optimizer**, but feel free to play with other types of optimizers on your own."
   ]
  },
  {
   "cell_type": "code",
   "execution_count": 7,
   "metadata": {
    "id": "f_TIQ8NPCjBP"
   },
   "outputs": [],
   "source": [
    "import torch.optim as optim\n",
    "\n",
    "def build_optimizer(args, params):\n",
    "    weight_decay = args.weight_decay\n",
    "    filter_fn = filter(lambda p : p.requires_grad, params)\n",
    "    if args.opt == 'adam':\n",
    "        optimizer = optim.Adam(filter_fn, lr=args.lr, weight_decay=weight_decay)\n",
    "    elif args.opt == 'sgd':\n",
    "        optimizer = optim.SGD(filter_fn, lr=args.lr, momentum=0.95, weight_decay=weight_decay)\n",
    "    elif args.opt == 'rmsprop':\n",
    "        optimizer = optim.RMSprop(filter_fn, lr=args.lr, weight_decay=weight_decay)\n",
    "    elif args.opt == 'adagrad':\n",
    "        optimizer = optim.Adagrad(filter_fn, lr=args.lr, weight_decay=weight_decay)\n",
    "    if args.opt_scheduler == 'none':\n",
    "        return None, optimizer\n",
    "    elif args.opt_scheduler == 'step':\n",
    "        scheduler = optim.lr_scheduler.StepLR(optimizer, step_size=args.opt_decay_step, gamma=args.opt_decay_rate)\n",
    "    elif args.opt_scheduler == 'cos':\n",
    "        scheduler = optim.lr_scheduler.CosineAnnealingLR(optimizer, T_max=args.opt_restart)\n",
    "    return scheduler, optimizer"
   ]
  },
  {
   "cell_type": "markdown",
   "metadata": {
    "id": "hBYdWFwYCkwY"
   },
   "source": [
    "## Training and Testing\n",
    "\n",
    "Here we provide you with the functions to train and test. **Please do not modify this part for grading purposes.**"
   ]
  },
  {
   "cell_type": "code",
   "execution_count": 8,
   "metadata": {
    "id": "_tZMWRc8CmGg"
   },
   "outputs": [],
   "source": [
    "import time\n",
    "\n",
    "import networkx as nx\n",
    "import numpy as np\n",
    "import torch\n",
    "import torch.optim as optim\n",
    "from tqdm import trange\n",
    "import pandas as pd\n",
    "import copy\n",
    "\n",
    "from torch_geometric.datasets import TUDataset\n",
    "from torch_geometric.datasets import Planetoid\n",
    "from torch_geometric.data import DataLoader\n",
    "\n",
    "import torch_geometric.nn as pyg_nn\n",
    "\n",
    "import matplotlib.pyplot as plt\n",
    "\n",
    "\n",
    "def train(dataset, args):\n",
    "    \n",
    "    print(\"Node task. test set size:\", np.sum(dataset[0]['test_mask'].numpy()))\n",
    "    print()\n",
    "    test_loader = loader = DataLoader(dataset, batch_size=args.batch_size, shuffle=False)\n",
    "\n",
    "    # build model\n",
    "    model = GNNStack(dataset.num_node_features, args.hidden_dim, dataset.num_classes, \n",
    "                            args)\n",
    "    scheduler, opt = build_optimizer(args, model.parameters())\n",
    "\n",
    "    # train\n",
    "    losses = []\n",
    "    test_accs = []\n",
    "    best_acc = 0\n",
    "    best_model = None\n",
    "    for epoch in trange(args.epochs, desc=\"Training\", unit=\"Epochs\"):\n",
    "        total_loss = 0\n",
    "        model.train()\n",
    "        for batch in loader:\n",
    "            opt.zero_grad()\n",
    "            pred = model(batch)\n",
    "            label = batch.y\n",
    "            pred = pred[batch.train_mask]\n",
    "            label = label[batch.train_mask]\n",
    "            loss = model.loss(pred, label)\n",
    "            loss.backward()\n",
    "            opt.step()\n",
    "            total_loss += loss.item() * batch.num_graphs\n",
    "        total_loss /= len(loader.dataset)\n",
    "        losses.append(total_loss)\n",
    "\n",
    "        if epoch % 10 == 0:\n",
    "          test_acc = test(test_loader, model)\n",
    "          test_accs.append(test_acc)\n",
    "          if test_acc > best_acc:\n",
    "            best_acc = test_acc\n",
    "            best_model = copy.deepcopy(model)\n",
    "        else:\n",
    "          test_accs.append(test_accs[-1])\n",
    "    \n",
    "    return test_accs, losses, best_model, best_acc, test_loader\n",
    "\n",
    "def test(loader, test_model, is_validation=False, save_model_preds=False, model_type=None):\n",
    "    test_model.eval()\n",
    "\n",
    "    correct = 0\n",
    "    # Note that Cora is only one graph!\n",
    "    for data in loader:\n",
    "        with torch.no_grad():\n",
    "            # max(dim=1) returns values, indices tuple; only need indices\n",
    "            pred = test_model(data).max(dim=1)[1]\n",
    "            label = data.y\n",
    "\n",
    "        mask = data.val_mask if is_validation else data.test_mask\n",
    "        # node classification: only evaluate on nodes in test set\n",
    "        pred = pred[mask]\n",
    "        label = label[mask]\n",
    "\n",
    "        if save_model_preds:\n",
    "          print (\"Saving Model Predictions for Model Type\", model_type)\n",
    "\n",
    "          data = {}\n",
    "          data['pred'] = pred.view(-1).cpu().detach().numpy()\n",
    "          data['label'] = label.view(-1).cpu().detach().numpy()\n",
    "\n",
    "          df = pd.DataFrame(data=data)\n",
    "          # Save locally as csv\n",
    "          df.to_csv('CORA-Node-' + model_type + '.csv', sep=',', index=False)\n",
    "            \n",
    "        correct += pred.eq(label).sum().item()\n",
    "\n",
    "    total = 0\n",
    "    for data in loader.dataset:\n",
    "        total += torch.sum(data.val_mask if is_validation else data.test_mask).item()\n",
    "\n",
    "    return correct / total\n",
    "  \n",
    "class objectview(object):\n",
    "    def __init__(self, d):\n",
    "        self.__dict__ = d\n"
   ]
  },
  {
   "cell_type": "markdown",
   "metadata": {
    "id": "L7-h7jIsCns4"
   },
   "source": [
    "## Let's Start the Training!\n",
    "\n",
    "You will be working on the CORA dataset on node-level classification.\n",
    "\n",
    "This part is implemented for you. **For grading purposes, please do not modify the default parameters.** However, feel free to play with different configurations just for fun!\n",
    "\n",
    "**Submit your best accuracy and loss on Gradescope.**"
   ]
  },
  {
   "cell_type": "code",
   "execution_count": 9,
   "metadata": {
    "id": "qe9B45l9Cpz2"
   },
   "outputs": [
    {
     "name": "stderr",
     "output_type": "stream",
     "text": [
      "/home/john/anaconda3/envs/pgenv/lib/python3.8/site-packages/torch_geometric/deprecation.py:13: UserWarning: 'data.DataLoader' is deprecated, use 'loader.DataLoader' instead\n",
      "  warnings.warn(out)\n"
     ]
    },
    {
     "name": "stdout",
     "output_type": "stream",
     "text": [
      "Node task. test set size: 1000\n",
      "\n"
     ]
    },
    {
     "name": "stderr",
     "output_type": "stream",
     "text": [
      "Training: 100%|████████████████████████████████████████| 500/500 [01:34<00:00,  5.28Epochs/s]\n"
     ]
    },
    {
     "name": "stdout",
     "output_type": "stream",
     "text": [
      "Maximum test set accuracy: 0.771\n",
      "Minimum loss: 0.11446689814329147\n",
      "Saving Model Predictions for Model Type GraphSage\n",
      "\n",
      "Node task. test set size: 1000\n",
      "\n"
     ]
    },
    {
     "name": "stderr",
     "output_type": "stream",
     "text": [
      "Training: 100%|████████████████████████████████████████| 500/500 [00:20<00:00, 23.91Epochs/s]\n"
     ]
    },
    {
     "name": "stdout",
     "output_type": "stream",
     "text": [
      "Maximum test set accuracy: 0.786\n",
      "Minimum loss: 0.019746925681829453\n",
      "Saving Model Predictions for Model Type GAT\n",
      "\n"
     ]
    },
    {
     "data": {
      "image/png": "[encoded data removed]",
      "text/plain": [
       "<Figure size 432x288 with 1 Axes>"
      ]
     },
     "metadata": {
      "needs_background": "light"
     },
     "output_type": "display_data"
    }
   ],
   "source": [
    "if 'IS_GRADESCOPE_ENV' not in os.environ:\n",
    "    for args in [\n",
    "        {'model_type': 'GraphSage', 'dataset': 'cora', 'num_layers': 2, 'heads': 1, 'batch_size': 32, 'hidden_dim': 32, 'dropout': 0.5, 'epochs': 500, 'opt': 'adam', 'opt_scheduler': 'none', 'opt_restart': 0, 'weight_decay': 5e-3, 'lr': 0.01},\n",
    "    ]:\n",
    "        args = objectview(args)\n",
    "        for model in [ \"GraphSage\", 'GAT', ]: # 'GAT', \n",
    "            args.model_type = model\n",
    "\n",
    "            # Match the dimension.\n",
    "            if model == 'GAT':\n",
    "              args.heads = 2\n",
    "            else:\n",
    "              args.heads = 1\n",
    "\n",
    "            if args.dataset == 'cora':\n",
    "                dataset = Planetoid(root='/tmp/cora', name='Cora')\n",
    "            else:\n",
    "                raise NotImplementedError(\"Unknown dataset\") \n",
    "            test_accs, losses, best_model, best_acc, test_loader = train(dataset, args) \n",
    "\n",
    "            print(\"Maximum test set accuracy: {0}\".format(max(test_accs)))\n",
    "            print(\"Minimum loss: {0}\".format(min(losses)))\n",
    "\n",
    "            # Run test for our best model to save the predictions!\n",
    "            test(test_loader, best_model, is_validation=False, save_model_preds=True, model_type=model)\n",
    "            print()\n",
    "\n",
    "            plt.title(dataset.name)\n",
    "            plt.plot(losses, label=\"training loss\" + \" - \" + args.model_type)\n",
    "            plt.plot(test_accs, label=\"test accuracy\" + \" - \" + args.model_type)\n",
    "        plt.legend()\n",
    "        plt.show()\n"
   ]
  },
  {
   "cell_type": "markdown",
   "metadata": {
    "id": "gHELqjARZ1W5"
   },
   "source": [
    "## Question 1.1: What is the maximum accuracy obtained on the test set for GraphSage? (20 points)\n",
    "\n",
    "Running the cell above will show the results of your best model and save your best model's predictions to a file named *CORA-Node-GraphSage.csv*.  \n",
    "\n",
    "As you have seen before you can view this file by clicking on the *Folder* icon on the left side pannel. When you sumbit your assignment, you will have to download this file and attatch it to your submission."
   ]
  },
  {
   "cell_type": "markdown",
   "metadata": {
    "id": "PlCtBEBLMBkR"
   },
   "source": [
    "## Question 1.2: What is the maximum accuracy obtained on test set for GAT? (20 points)\n",
    "\n",
    "\n",
    "Running the training cell above will also save your best GAT model predictions as *CORA-Node-GAT.csv*.  \n",
    "\n",
    "When you sumbit your assignment, you will have to download this file and attatch it to your submission.\n"
   ]
  },
  {
   "cell_type": "markdown",
   "metadata": {
    "id": "Nwwq0nSdmsOL"
   },
   "source": [
    "# 2) DeepSNAP Basics\n",
    "\n",
    "In previous Colabs, you have seen graph class (NetworkX) and tensor (PyG) representations of graphs. The graph class `nx.Graph` provides rich analysis and manipulation functionalities, such as computing the clustering coefficient and PageRank vector for a graph. When working with PyG you were then introduced to tensor based representation of graphs (i.e. edge tensor `edge_index` and node attributes tensors `x` and `y`). \n",
    "\n",
    "In this section, we present DeepSNAP, a package that combines the benefits of both graph representations and offers a full pipeline for GNN training / validation / and testing. Namely, DeepSNAP includes a graph class representation to allow for more efficient graph manipulation and analysis in addition to a tensor based representation for efficient message passing computation.\n",
    "\n"
   ]
  },
  {
   "cell_type": "markdown",
   "metadata": {
    "id": "Sf7vUmdNKCjA"
   },
   "source": [
    "In general, [DeepSNAP](https://github.com/snap-stanford/deepsnap) is a Python library to assist efficient deep learning on graphs. DeepSNAP enables flexible graph manipulation, standard graph learning pipelines, heterogeneous graphs, and overall represents a simple graph learning API. In more detail:\n",
    "\n",
    "1. DeepSNAP allows for sophisticated graph manipulations, such as feature computation, pretraining, subgraph extraction etc. during/before training.\n",
    "2. DeepSNAP standardizes the pipelines for node, edge, and graph-level prediction tasks under inductive or transductive settings. Specifically, DeepSNAP removes previous non-trivial / repetative design choices left to the user, such as how to split datasets. DeepSNAP thus greatly saves in coding efforts and enables fair model comparison.\n",
    "3. Many real-world graphs are heterogeneous in nature (i.e. include different node types or edge types). However, most packages lack complete support for heterogeneous graphs, including data storage and flexible message passing. DeepSNAP provides an efficient and flexible heterogeneous graph that supports both node and edge heterogeneity.\n",
    "\n",
    "In this next section, you will use DeepSNAP for graph manipulation and dataset splitting.\n",
    "\n",
    "[DeepSNAP](https://github.com/snap-stanford/deepsnap) is a newly released project and it is still under development. If you find any bugs or have any improvement ideas, feel free to raise issues or create pull requests on the GitHub directly :)"
   ]
  },
  {
   "cell_type": "markdown",
   "metadata": {
    "id": "20SvvngpQmmQ"
   },
   "source": [
    "## Setup"
   ]
  },
  {
   "cell_type": "code",
   "execution_count": 10,
   "metadata": {
    "id": "zfbBVFmAQlwz"
   },
   "outputs": [],
   "source": [
    "import torch\n",
    "import networkx as nx\n",
    "import matplotlib.pyplot as plt\n",
    "\n",
    "from deepsnap.graph import Graph\n",
    "from deepsnap.batch import Batch\n",
    "from deepsnap.dataset import GraphDataset\n",
    "from torch_geometric.datasets import Planetoid, TUDataset\n",
    "\n",
    "from torch.utils.data import DataLoader\n",
    "\n",
    "def visualize(G, color_map=None, seed=123):\n",
    "  if color_map is None:\n",
    "    color_map = '#c92506'\n",
    "  plt.figure(figsize=(8, 8))\n",
    "  nodes = nx.draw_networkx_nodes(G, pos=nx.spring_layout(G, seed=seed), \\\n",
    "                                 label=None, node_color=color_map, node_shape='o', node_size=150)\n",
    "  edges = nx.draw_networkx_edges(G, pos=nx.spring_layout(G, seed=seed), alpha=0.5)\n",
    "  if color_map is not None:\n",
    "    plt.scatter([],[], c='#c92506', label='Nodes with label 0', edgecolors=\"black\", s=140)\n",
    "    plt.scatter([],[], c='#fcec00', label='Nodes with label 1', edgecolors=\"black\", s=140)\n",
    "    plt.legend(prop={'size': 13}, handletextpad=0)\n",
    "  nodes.set_edgecolor('black')\n",
    "  plt.show()"
   ]
  },
  {
   "cell_type": "markdown",
   "metadata": {
    "id": "ic-o1P3r6hr2"
   },
   "source": [
    "## DeepSNAP Graph\n",
    "\n",
    "The `deepsnap.graph.Graph` class is the core class of DeepSNAP. It not only represents a graph in tensor format but also includes a graph object from a graph manipulation package.\n",
    "\n",
    "Currently DeepSNAP supports [NetworkX](https://networkx.org/) and [Snap.py](https://snap.stanford.edu/snappy/doc/index.html) as back end graph manipulation packages.\n",
    "\n",
    "In this Colab, you will focus on using NetworkX as the back end graph manipulation package."
   ]
  },
  {
   "cell_type": "markdown",
   "metadata": {
    "id": "Ispq_lIoJl_z"
   },
   "source": [
    "### NetworkX to DeepSNAP\n",
    "To begin, you will first work through converting a simple random NetworkX graph to a DeepSNAP graph."
   ]
  },
  {
   "cell_type": "code",
   "execution_count": 11,
   "metadata": {
    "id": "zT5qca3x6XpG"
   },
   "outputs": [
    {
     "name": "stdout",
     "output_type": "stream",
     "text": [
      "(0, {'node_feature': tensor([0.2616, 0.0512, 0.2335, 0.3439, 0.7126]), 'node_label': tensor(0)})\n"
     ]
    },
    {
     "data": {
      "image/png": "[encoded data removed]",
      "text/plain": [
       "<Figure size 576x576 with 1 Axes>"
      ]
     },
     "metadata": {},
     "output_type": "display_data"
    },
    {
     "name": "stdout",
     "output_type": "stream",
     "text": [
      "Graph(G=[], edge_index=[2, 524], edge_label_index=[2, 524], node_feature=[100, 5], node_label=[100], node_label_index=[100])\n",
      "Node feature (node_feature) has shape torch.Size([100, 5]) and type torch.float32\n",
      "Node label (node_label) has shape torch.Size([100]) and type torch.int64\n",
      "Edge index (edge_index) has shape torch.Size([2, 524]) and type torch.int64\n",
      "The DeepSNAP graph has <class 'networkx.classes.graph.Graph'> as the internal manupulation graph\n"
     ]
    }
   ],
   "source": [
    "if 'IS_GRADESCOPE_ENV' not in os.environ:\n",
    "  num_nodes = 100\n",
    "  p = 0.05\n",
    "  seed = 100\n",
    "\n",
    "  # Generate a networkx random graph\n",
    "  G = nx.gnp_random_graph(num_nodes, p, seed=seed)\n",
    "\n",
    "  # Generate some random node features and labels\n",
    "  node_feature = {node : torch.rand([5, ]) for node in G.nodes()}\n",
    "  node_label = {node : torch.randint(0, 2, ()) for node in G.nodes()}\n",
    "\n",
    "  # Set the random features and labels to G\n",
    "  nx.set_node_attributes(G, node_feature, name='node_feature')\n",
    "  nx.set_node_attributes(G, node_label, name='node_label')\n",
    "\n",
    "  # Print one node example\n",
    "  for node in G.nodes(data=True):\n",
    "    print(node)\n",
    "    break\n",
    "\n",
    "  color_map = ['#c92506' if node[1]['node_label'].item() == 0 else '#fcec00' for node in G.nodes(data=True)]\n",
    "\n",
    "  # Visualize the graph\n",
    "  visualize(G, color_map=color_map)\n",
    "\n",
    "  # Transform the networkx graph into the deepsnap graph\n",
    "  graph = Graph(G)\n",
    "\n",
    "  # Print out the general deepsnap graph information\n",
    "  print(graph)\n",
    "\n",
    "  # DeepSNAP will convert node attributes to tensors\n",
    "  # Notice the type of tensors\n",
    "  print(\"Node feature (node_feature) has shape {} and type {}\".format(graph.node_feature.shape, graph.node_feature.dtype))\n",
    "  print(\"Node label (node_label) has shape {} and type {}\".format(graph.node_label.shape, graph.node_label.dtype))\n",
    "\n",
    "  # DeepSNAP will also generate the edge_index tensor\n",
    "  print(\"Edge index (edge_index) has shape {} and type {}\".format(graph.edge_index.shape, graph.edge_index.dtype))\n",
    "\n",
    "  # Different from only storing tensors, deepsnap graph also references to the networkx graph\n",
    "  # We will discuss why the reference will be helpful later\n",
    "  print(\"The DeepSNAP graph has {} as the internal manupulation graph\".format(type(graph.G)))"
   ]
  },
  {
   "cell_type": "markdown",
   "metadata": {
    "id": "PNMbc307KOQD"
   },
   "source": [
    "### Tensor graph attributes\n",
    "\n",
    "Similar to the native PyG tensor based representation, DeepSNAP includes a graph tensor based representation with three levels of graph attributes. In this example, you primarily have **node level** attributes including `node_feature` and `node_label`. The other two levels of attributes are **edge** and **graph** attributes. Similar to node level attributes, these attributes are prefixed by their respective type. For example, the features become `edge_feature` or `graph_feature` and labels becomes `edge_label` or `graph_label` etc."
   ]
  },
  {
   "cell_type": "markdown",
   "metadata": {
    "id": "G8Xz58_Da0qL"
   },
   "source": [
    "### Graph Object\n",
    "DeepSNAP allows you to easily access graph information  through the backend graph object and graph manipulation package."
   ]
  },
  {
   "cell_type": "code",
   "execution_count": 12,
   "metadata": {
    "id": "dLo4zWAoeg6S"
   },
   "outputs": [
    {
     "name": "stdout",
     "output_type": "stream",
     "text": [
      "The random graph has 100 nodes\n",
      "The random graph has 262 edges\n"
     ]
    }
   ],
   "source": [
    "if 'IS_GRADESCOPE_ENV' not in os.environ:\n",
    "  # Number of nodes\n",
    "  print(\"The random graph has {} nodes\".format(graph.num_nodes))\n",
    "\n",
    "  # Number of edges\n",
    "  print(\"The random graph has {} edges\".format(graph.num_edges))"
   ]
  },
  {
   "cell_type": "markdown",
   "metadata": {
    "id": "Po7IaRmwblI5"
   },
   "source": [
    "### PyG to DeepSNAP\n",
    "\n",
    "Lastly, DeepSNAP provides functionality to automatically transform a PyG dataset into a list of DeepSNAP graphs.\n",
    "\n",
    "Here you transform the CORA dataset into a list with one DeepSNAP graph (i.e. the singular CORA graph)."
   ]
  },
  {
   "cell_type": "code",
   "execution_count": 13,
   "metadata": {
    "id": "ZFkg2kCgcFwR"
   },
   "outputs": [
    {
     "name": "stdout",
     "output_type": "stream",
     "text": [
      "Graph(G=[], edge_index=[2, 10556], edge_label_index=[2, 10556], node_feature=[2708, 1433], node_label=[2708], node_label_index=[2708])\n"
     ]
    }
   ],
   "source": [
    "if 'IS_GRADESCOPE_ENV' not in os.environ:\n",
    "  root = './tmp/cora'\n",
    "  name = 'Cora'\n",
    "\n",
    "  # The Cora dataset\n",
    "  pyg_dataset= Planetoid(root, name)\n",
    "\n",
    "  # PyG dataset to a list of deepsnap graphs\n",
    "  graphs = GraphDataset.pyg_to_graphs(pyg_dataset)\n",
    "\n",
    "  # Get the first deepsnap graph (CORA only has one graph)\n",
    "  graph = graphs[0]\n",
    "  print(graph)"
   ]
  },
  {
   "cell_type": "markdown",
   "metadata": {
    "id": "NLm5vVYMAP2x"
   },
   "source": [
    "## Question 2.1: How many classes are in the CORA graph? How many features does each node have? (5 points)\n"
   ]
  },
  {
   "cell_type": "code",
   "execution_count": 14,
   "metadata": {
    "id": "8iF_Kyqr_JbY"
   },
   "outputs": [
    {
     "name": "stdout",
     "output_type": "stream",
     "text": [
      "Cora has 7 classes\n",
      "Cora has 1433 features\n"
     ]
    }
   ],
   "source": [
    "def get_num_node_classes(graph):\n",
    "  # TODO: Implement a function that takes a deepsnap graph object\n",
    "  # and return the number of node classes of that graph.\n",
    "\n",
    "  num_node_classes = 0\n",
    "\n",
    "  ############# Your code here #############\n",
    "  ## (~1 line of code)\n",
    "  ## Note\n",
    "  ## 1. Colab autocomplete functionality might be useful\n",
    "  ## 2. DeepSNAP documentation might be useful https://snap.stanford.edu/deepsnap/modules/graph.html\n",
    "  num_node_classes = graph.num_node_labels\n",
    "  ##########################################\n",
    "\n",
    "  return num_node_classes\n",
    "\n",
    "def get_num_node_features(graph):\n",
    "  # TODO: Implement a function that takes a deepsnap graph object\n",
    "  # and return the number of node features of that graph.\n",
    "\n",
    "  num_node_features = 0\n",
    "\n",
    "  ############# Your code here #############\n",
    "  ## (~1 line of code)\n",
    "  ## Note\n",
    "  ## 1. Colab autocomplete functionality might be useful\n",
    "  ## 2. DeepSNAP documentation might be useful https://snap.stanford.edu/deepsnap/modules/graph.html\n",
    "  num_node_features = graph.num_node_features\n",
    "  ##########################################\n",
    "\n",
    "  return num_node_features\n",
    "\n",
    "if 'IS_GRADESCOPE_ENV' not in os.environ:\n",
    "  num_node_classes = get_num_node_classes(graph)\n",
    "  num_node_features = get_num_node_features(graph)\n",
    "  print(\"{} has {} classes\".format(name, num_node_classes))\n",
    "  print(\"{} has {} features\".format(name, num_node_features))"
   ]
  },
  {
   "cell_type": "markdown",
   "metadata": {
    "id": "rwKbzhHUAckZ"
   },
   "source": [
    "## DeepSNAP Dataset\n",
    "\n",
    "Now, you will learn how to create DeepSNAP datasets. A `deepsnap.dataset.GraphDataset` contains a list of `deepsnap.graph.Graph` objects. In addition to the list of graphs, you must specify what task the dataset will be used on: node level task (`task=node`), edge level task (`task=link_pred`) and graph level task (`task=graph`).\n",
    "\n",
    "The GraphDataset class contains many other useful parameters that can be specified during initialization. If you are interested, you can take a look at the [documentation](https://snap.stanford.edu/deepsnap/modules/dataset.html#deepsnap-graphdataset)."
   ]
  },
  {
   "cell_type": "markdown",
   "metadata": {
    "id": "HSidf9E0hn2s"
   },
   "source": [
    "As an example, let us first look at the COX2 dataset, which contains 467 graphs. In initializing our dataset, convert the PyG dataset into its corresponding DeepSNAP dataset and specify the task to `graph`."
   ]
  },
  {
   "cell_type": "code",
   "execution_count": 15,
   "metadata": {
    "id": "l4kqUldyoaS_"
   },
   "outputs": [
    {
     "name": "stdout",
     "output_type": "stream",
     "text": [
      "GraphDataset(467)\n"
     ]
    }
   ],
   "source": [
    "if 'IS_GRADESCOPE_ENV' not in os.environ:  \n",
    "  root = './tmp/cox2'\n",
    "  name = 'COX2'\n",
    "\n",
    "  # Load the dataset through PyG\n",
    "  pyg_dataset = TUDataset(root, name)\n",
    "\n",
    "  # Convert to a list of deepsnap graphs\n",
    "  graphs = GraphDataset.pyg_to_graphs(pyg_dataset)\n",
    "\n",
    "  # Convert list of deepsnap graphs to deepsnap dataset with specified task=graph\n",
    "  dataset = GraphDataset(graphs, task='graph')\n",
    "  print(dataset)"
   ]
  },
  {
   "cell_type": "markdown",
   "metadata": {
    "id": "7sCV3xJWCddX"
   },
   "source": [
    "## Question 2.2: What is the label of the graph with index 100? (5 points)"
   ]
  },
  {
   "cell_type": "code",
   "execution_count": 16,
   "metadata": {
    "id": "LIis9oTZAfs3"
   },
   "outputs": [
    {
     "name": "stdout",
     "output_type": "stream",
     "text": [
      "Graph(G=[], edge_index=[2, 82], edge_label_index=[2, 82], graph_label=[1], node_feature=[39, 35], node_label_index=[39], task=[])\n",
      "Graph with index 100 has label 0\n"
     ]
    }
   ],
   "source": [
    "def get_graph_class(dataset, idx):\n",
    "  # TODO: Implement a function that takes a deepsnap dataset object,\n",
    "  # the index of a graph in the dataset, and returns the class/label \n",
    "  # of the graph (in integer).\n",
    "\n",
    "  label = -1\n",
    "\n",
    "  ############# Your code here ############\n",
    "  ## (~1 line of code)\n",
    "  ## Notice\n",
    "  ## 1. The graph label refers to a graph-level attribute\n",
    "  if idx >= len(dataset) or idx < 0:\n",
    "    raise RuntimeError(f\"idx out of range 0--{len(dataset)-1}\")\n",
    "  label = dataset[idx].graph_label.data[0]\n",
    "  #########################################\n",
    "\n",
    "  return label\n",
    "\n",
    "if 'IS_GRADESCOPE_ENV' not in os.environ:\n",
    "  graph_0 = dataset[0]\n",
    "  print(graph_0)\n",
    "  idx = 100\n",
    "  label = get_graph_class(dataset, idx)\n",
    "  print('Graph with index {} has label {}'.format(idx, label))"
   ]
  },
  {
   "cell_type": "markdown",
   "metadata": {
    "id": "fKhcVeAhCwoY"
   },
   "source": [
    "## Question 2.3: How many edges are in the graph with index 200? (5 points)\n"
   ]
  },
  {
   "cell_type": "code",
   "execution_count": 17,
   "metadata": {
    "id": "f5m2DOfhBtWv"
   },
   "outputs": [
    {
     "name": "stdout",
     "output_type": "stream",
     "text": [
      "Graph with index 200 has 49 edges\n"
     ]
    }
   ],
   "source": [
    "def get_graph_num_edges(dataset, idx):\n",
    "  # TODO: Implement a function that takes a deepsnap dataset object,\n",
    "  # the index of a graph in dataset, and returns the number of \n",
    "  # edges in the graph (in integer).\n",
    "\n",
    "  num_edges = 0\n",
    "\n",
    "  ############# Your code here ############\n",
    "  ## (~1 lines of code)\n",
    "  ## Note\n",
    "  ## 1. You can use the class property directly\n",
    "  if idx >= len(dataset) or idx < 0:\n",
    "    raise RuntimeError(f\"idx out of range 0--{len(dataset)-1}\")\n",
    "  num_edges = dataset[idx].num_edges\n",
    "  #########################################\n",
    "\n",
    "  return num_edges\n",
    "\n",
    "if 'IS_GRADESCOPE_ENV' not in os.environ:\n",
    "  idx = 200\n",
    "  num_edges = get_graph_num_edges(dataset, idx)\n",
    "  print('Graph with index {} has {} edges'.format(idx, num_edges))"
   ]
  },
  {
   "cell_type": "markdown",
   "metadata": {
    "id": "AXa7yIG4E0Fp"
   },
   "source": [
    "# 3) DeepSNAP Advanced\n",
    "\n",
    "Now that you have learned the basics of DeepSNAP, let's move on to some more advanced functionalities.\n",
    "\n",
    "In this section you will use DeepSNAP for graph feature computation and transductive/inductive dataset splitting."
   ]
  },
  {
   "cell_type": "markdown",
   "metadata": {
    "id": "Y5fsGBLY8cxa"
   },
   "source": [
    "## Setup"
   ]
  },
  {
   "cell_type": "code",
   "execution_count": 18,
   "metadata": {
    "id": "g-jgRLiQ8cSj"
   },
   "outputs": [],
   "source": [
    "import torch\n",
    "import networkx as nx\n",
    "import matplotlib.pyplot as plt\n",
    "\n",
    "from deepsnap.graph import Graph\n",
    "from deepsnap.batch import Batch\n",
    "from deepsnap.dataset import GraphDataset\n",
    "from torch_geometric.datasets import Planetoid, TUDataset\n",
    "\n",
    "from torch.utils.data import DataLoader"
   ]
  },
  {
   "cell_type": "markdown",
   "metadata": {
    "id": "HnazPGGAJAZN"
   },
   "source": [
    "## Data Split in Graphs\n",
    "\n",
    "As discussed in the `Module 2: Introduction to Graph Neural Networks / 2.3  GNN Training Pipeline / Setting up GNN Prediction Tasks` Lecture, data splitting for graphs can be much harder than for CV or NLP.\n",
    "\n",
    "In general, data splitting is divided into two settings, **inductive** and **transductive**."
   ]
  },
  {
   "cell_type": "markdown",
   "metadata": {
    "id": "l9KG_MhqsWBp"
   },
   "source": [
    "## Inductive Split\n",
    "\n",
    "In an inductive setting, you split a list of multiple graphs into disjoint training/valiation and test sets.\n",
    "\n",
    "Here is an example of using DeepSNAP to inductively split a list of graphs for a graph level task (graph classification etc.):"
   ]
  },
  {
   "cell_type": "code",
   "execution_count": 19,
   "metadata": {
    "id": "Gpc6bTm3GF02"
   },
   "outputs": [
    {
     "name": "stdout",
     "output_type": "stream",
     "text": [
      "COX2 train dataset: GraphDataset(373)\n",
      "COX2 validation dataset: GraphDataset(46)\n",
      "COX2 test dataset: GraphDataset(48)\n"
     ]
    }
   ],
   "source": [
    "if 'IS_GRADESCOPE_ENV' not in os.environ:\n",
    "  root = './tmp/cox2'\n",
    "  name = 'COX2'\n",
    "\n",
    "  pyg_dataset = TUDataset(root, name)\n",
    "\n",
    "  graphs = GraphDataset.pyg_to_graphs(pyg_dataset)\n",
    "\n",
    "  # Here we specify the task as graph-level task such as graph classification\n",
    "  task = 'graph'\n",
    "  dataset = GraphDataset(graphs, task=task)\n",
    "\n",
    "  # Specify transductive=False (inductive)\n",
    "  dataset_train, dataset_val, dataset_test = dataset.split(transductive=False, split_ratio=[0.8, 0.1, 0.1])\n",
    "\n",
    "  print(\"COX2 train dataset: {}\".format(dataset_train))\n",
    "  print(\"COX2 validation dataset: {}\".format(dataset_val))\n",
    "  print(\"COX2 test dataset: {}\".format(dataset_test))"
   ]
  },
  {
   "cell_type": "markdown",
   "metadata": {
    "id": "yWKQwa4WsgQp"
   },
   "source": [
    "## Transductive Split\n",
    "\n",
    "In the transductive setting, the training /validation / test sets are all over the same graph. As discussed in the `Module 2: Introduction to Graph Neural Networks / 2.3  GNN Training Pipeline / Setting up GNN Prediction Tasks` Lecture, in a transductive setting, we do not need to generalize to new unseen graphs. \n",
    "\n",
    "As an example, here you transductively split the CORA graph for a node level task, such as node classification. \n",
    "\n",
    "(Notice that in DeepSNAP the default split setting is random (i.e. DeepSNAP randomly splits the e.g. nodes into train / val / test); however, you can also use a fixed split by specifying `fixed_split=True` when loading the dataset from PyG or changing the `node_label_index` directly)."
   ]
  },
  {
   "cell_type": "code",
   "execution_count": 20,
   "metadata": {
    "id": "b5OdxSg4sfyR"
   },
   "outputs": [
    {
     "name": "stdout",
     "output_type": "stream",
     "text": [
      "Cora train dataset: GraphDataset(1)\n",
      "Cora validation dataset: GraphDataset(1)\n",
      "Cora test dataset: GraphDataset(1)\n",
      "Original Cora has 2708 nodes\n",
      "After the split, Cora has 2166 training nodes\n",
      "After the split, Cora has 270 validation nodes\n",
      "After the split, Cora has 272 test nodes\n"
     ]
    }
   ],
   "source": [
    "if 'IS_GRADESCOPE_ENV' not in os.environ:\n",
    "  root = './tmp/cora'\n",
    "  name = 'Cora'\n",
    "\n",
    "  pyg_dataset = Planetoid(root, name)\n",
    "\n",
    "  graphs = GraphDataset.pyg_to_graphs(pyg_dataset)\n",
    "\n",
    "  # Here we specify the task as node-level task such as node classification\n",
    "  task = 'node'\n",
    "\n",
    "  dataset = GraphDataset(graphs, task=task)\n",
    "\n",
    "  # Specify we want the transductive splitting\n",
    "  dataset_train, dataset_val, dataset_test = dataset.split(transductive=True, split_ratio=[0.8, 0.1, 0.1])\n",
    "\n",
    "  print(\"Cora train dataset: {}\".format(dataset_train))\n",
    "  print(\"Cora validation dataset: {}\".format(dataset_val))\n",
    "  print(\"Cora test dataset: {}\".format(dataset_test))\n",
    "\n",
    "  print(\"Original Cora has {} nodes\".format(dataset.num_nodes[0]))\n",
    "\n",
    "  # The nodes in each set can be find in node_label_index\n",
    "  print(\"After the split, Cora has {} training nodes\".format(dataset_train[0].node_label_index.shape[0]))\n",
    "  print(\"After the split, Cora has {} validation nodes\".format(dataset_val[0].node_label_index.shape[0]))\n",
    "  print(\"After the split, Cora has {} test nodes\".format(dataset_test[0].node_label_index.shape[0]))"
   ]
  },
  {
   "cell_type": "markdown",
   "metadata": {
    "id": "d7ePKgM00lGE"
   },
   "source": [
    "## Edge Level Split\n",
    "\n",
    "Compared to node and graph level splitting, edge level splitting is a little bit tricky ;)\n",
    "\n",
    "For edge level splitting you need to consider several different tasks:\n",
    "\n",
    "1. Splitting positive edges into train / val / test datasets.\n",
    "2. Sampling / re-sampling negative edges (i.e. edges not present in the graph).\n",
    "3. Splitting edges into message passing and supervision edges.\n",
    "\n",
    "With regard to point 3, for edge level data splitting we classify edges into two types. The first is `message passing` edges, edges that are used for message passing by our GNN. The second is `supervision`, edges that are used in the loss function for backpropagation. DeepSNAP allows for two different modes, where the `message passing` and `supervision` edges are either the same or disjoint."
   ]
  },
  {
   "cell_type": "markdown",
   "metadata": {
    "id": "SnzISX5RoiR6"
   },
   "source": [
    "### All Edge Splitting Mode\n",
    "\n",
    "First, you will explore the `edge_train_mode=\"all\"` mode for edge level splitting, where the `message passing` and `supervision` edges are shared during training."
   ]
  },
  {
   "cell_type": "code",
   "execution_count": 21,
   "metadata": {
    "id": "_D104xO6137n"
   },
   "outputs": [
    {
     "name": "stdout",
     "output_type": "stream",
     "text": [
      "Cora train dataset: GraphDataset(1)\n",
      "Cora validation dataset: GraphDataset(1)\n",
      "Cora test dataset: GraphDataset(1)\n"
     ]
    },
    {
     "name": "stderr",
     "output_type": "stream",
     "text": [
      "/home/john/anaconda3/envs/pgenv/lib/python3.8/site-packages/deepsnap/graph.py:2126: UserWarning: __floordiv__ is deprecated, and its behavior will change in a future version of pytorch. It currently rounds toward 0 (like the 'trunc' function NOT 'floor'). This results in incorrect rounding for negative values. To keep the current behavior, use torch.div(a, b, rounding_mode='trunc'), or for actual floor division, use torch.div(a, b, rounding_mode='floor').\n",
      "  row = perm // num_nodes\n"
     ]
    }
   ],
   "source": [
    "if 'IS_GRADESCOPE_ENV' not in os.environ:\n",
    "  root = './tmp/cora'\n",
    "  name = 'Cora'\n",
    "\n",
    "  pyg_dataset = Planetoid(root, name)\n",
    "\n",
    "  graphs = GraphDataset.pyg_to_graphs(pyg_dataset)\n",
    "\n",
    "  # Specify task as link_pred for edge-level task\n",
    "  task = 'link_pred'\n",
    "\n",
    "  # Specify the train mode, \"all\" mode is default for deepsnap dataset\n",
    "  edge_train_mode = \"all\"\n",
    "\n",
    "  dataset = GraphDataset(graphs, task=task, edge_train_mode=edge_train_mode)\n",
    "\n",
    "  # Transductive link prediction split\n",
    "  dataset_train, dataset_val, dataset_test = dataset.split(transductive=True, split_ratio=[0.8, 0.1, 0.1])\n",
    "\n",
    "  print(\"Cora train dataset: {}\".format(dataset_train))\n",
    "  print(\"Cora validation dataset: {}\".format(dataset_val))\n",
    "  print(\"Cora test dataset: {}\".format(dataset_test))"
   ]
  },
  {
   "cell_type": "markdown",
   "metadata": {
    "id": "GscopwOXC_Y7"
   },
   "source": [
    "In DeepSNAP, the indices of supervision edges are stored in the `edge_label_index` tensor and the corresponding edge labels are stored in `edge_label` tensor."
   ]
  },
  {
   "cell_type": "code",
   "execution_count": 22,
   "metadata": {
    "id": "XJF8fZnA2eLR"
   },
   "outputs": [
    {
     "name": "stdout",
     "output_type": "stream",
     "text": [
      "Original Cora graph has 5278 edges\n",
      "\n",
      "Train set has 4222 message passing edge\n",
      "Train set has 4222 supervision (positive) edges\n",
      "\n",
      "Validation set has 4222 message passing edge\n",
      "Validation set has 527 supervision (positive) edges\n",
      "\n",
      "Test set has 4749 message passing edge\n",
      "Test set has 529 supervision (positive) edges\n"
     ]
    }
   ],
   "source": [
    "if 'IS_GRADESCOPE_ENV' not in os.environ:\n",
    "  print(\"Original Cora graph has {} edges\".format(dataset[0].num_edges))\n",
    "  print()\n",
    "\n",
    "  print(\"Train set has {} message passing edge\".format(dataset_train[0].edge_index.shape[1] // 2))\n",
    "  print(\"Train set has {} supervision (positive) edges\".format(dataset_train[0].edge_label_index.shape[1] // 4))\n",
    "\n",
    "  print()\n",
    "  print(\"Validation set has {} message passing edge\".format(dataset_val[0].edge_index.shape[1] // 2))\n",
    "  print(\"Validation set has {} supervision (positive) edges\".format(dataset_val[0].edge_label_index.shape[1] // 4))\n",
    "\n",
    "  print()\n",
    "  print(\"Test set has {} message passing edge\".format(dataset_test[0].edge_index.shape[1] // 2))\n",
    "  print(\"Test set has {} supervision (positive) edges\".format(dataset_test[0].edge_label_index.shape[1] // 4))"
   ]
  },
  {
   "cell_type": "markdown",
   "metadata": {
    "id": "s6BX-I_oEKQX"
   },
   "source": [
    "**Specific things to note in `all` mode**:\n",
    "\n",
    "* At training time: the supervision edges are the same as the training message passing edges.  \n",
    "* At validation time: the message passing edges are the training message passing edges and training supervision edges (still the training message passing edges in this case). However, you now include a set of unseen validation supervision edges that are disjoint from the training supervision edges.\n",
    "* At test time: the message passing edges are the union of training message passing edges, training supervision edges, and validation supervision edges. The test supervision edges then disjoint from the training supervision edges and validation supervision edges.\n",
    "* For this illustration negative edges are excluded. However, the attributes `edge_label` and `edge_label_index` naturally also include the negative supervision edges (by default the number of negative edges is the same as the number of positive edges, hence the divide by 4 above).\n",
    "\n",
    "\n",
    "Now, that you have seen the basics of the `all` method for edge splitting, you will implement a function that checks whether two edge index tensors are disjoint and explore more edge splitting properties by using that function."
   ]
  },
  {
   "cell_type": "markdown",
   "metadata": {
    "id": "YOZHDskbAKN6"
   },
   "source": [
    "## Question 3: Implement a function that checks whether two edge_index tensors are disjoint (i.e. do not share any common edges). Then answer the True/False questions below. (10 points)\n",
    "\n"
   ]
  },
  {
   "cell_type": "code",
   "execution_count": 23,
   "metadata": {
    "id": "wgRYdyPp8EmO"
   },
   "outputs": [],
   "source": [
    "def edge_indices_disjoint(edge_index_1, edge_index_2):\n",
    "  # TODO: Implement this function that takes two edge index tensors,\n",
    "  # and returns whether these two edge index tensors are disjoint.\n",
    "  disjoint = None\n",
    "\n",
    "  ############# Your code here ############\n",
    "  ## (~5 lines of code)\n",
    "  ## Note\n",
    "  ## 1. Here disjoint means that there is no single edge belonging to both edge index tensors\n",
    "  ## 2. You do not need to consider the undirected case. For example, if edge_index_1 contains\n",
    "  ## edge (a, b) and edge_index_2 contains edge (b, a). We will treat them as disjoint in this\n",
    "  ## function.\n",
    "  set1 = set([(f, t) for f, t in zip(edge_index_1[0].tolist(), edge_index_1[1].tolist())])\n",
    "  set2 = set([(f, t) for f, t in zip(edge_index_2[0].tolist(), edge_index_2[1].tolist())])\n",
    "  disjoint =  len(set1.intersection(set2))==0\n",
    "    \n",
    "  #########################################\n",
    "\n",
    "  return disjoint"
   ]
  },
  {
   "cell_type": "code",
   "execution_count": 24,
   "metadata": {
    "id": "EL4ASIDDEIUf"
   },
   "outputs": [
    {
     "name": "stdout",
     "output_type": "stream",
     "text": [
      "3.1 Training (supervision) positve and negative edges are disjoint = True\n",
      "3.2 Validation (supervision) positve and negative edges are disjoint = True\n",
      "3.3 Test (supervision) positve and negative edges are disjoint = True\n",
      "3.4 Test (supervision) positve and validation (supervision) positve edges are disjoint = True\n",
      "3.5 Validation (supervision) positve and training (supervision) positve edges are disjoint = True\n"
     ]
    }
   ],
   "source": [
    "if 'IS_GRADESCOPE_ENV' not in os.environ:\n",
    "  num_train_edges = dataset_train[0].edge_label_index.shape[1] // 2\n",
    "  train_pos_edge_index = dataset_train[0].edge_label_index[:, :num_train_edges]\n",
    "  train_neg_edge_index = dataset_train[0].edge_label_index[:, num_train_edges:]\n",
    "  print(\"3.1 Training (supervision) positve and negative edges are disjoint = {}\"\\\n",
    "          .format(edge_indices_disjoint(train_pos_edge_index, train_neg_edge_index)))\n",
    "\n",
    "  num_val_edges = dataset_val[0].edge_label_index.shape[1] // 2\n",
    "  val_pos_edge_index = dataset_val[0].edge_label_index[:, :num_val_edges]\n",
    "  val_neg_edge_index = dataset_val[0].edge_label_index[:, num_val_edges:]\n",
    "  print(\"3.2 Validation (supervision) positve and negative edges are disjoint = {}\"\\\n",
    "          .format(edge_indices_disjoint(val_pos_edge_index, val_neg_edge_index)))\n",
    "\n",
    "  num_test_edges = dataset_test[0].edge_label_index.shape[1] // 2\n",
    "  test_pos_edge_index = dataset_test[0].edge_label_index[:, :num_test_edges]\n",
    "  test_neg_edge_index = dataset_test[0].edge_label_index[:, num_test_edges:]\n",
    "  print(\"3.3 Test (supervision) positve and negative edges are disjoint = {}\"\\\n",
    "          .format(edge_indices_disjoint(test_pos_edge_index, test_neg_edge_index)))\n",
    "\n",
    "  print(\"3.4 Test (supervision) positve and validation (supervision) positve edges are disjoint = {}\"\\\n",
    "          .format(edge_indices_disjoint(test_pos_edge_index, val_pos_edge_index)))\n",
    "  print(\"3.5 Validation (supervision) positve and training (supervision) positve edges are disjoint = {}\"\\\n",
    "          .format(edge_indices_disjoint(val_pos_edge_index, train_pos_edge_index)))"
   ]
  },
  {
   "cell_type": "markdown",
   "metadata": {
    "id": "8jLoVN5ZBTuA"
   },
   "source": [
    "### Disjoint Edge Splitting Mode\n",
    "\n",
    "Now you will look at a relatively more complex transductive edge split setting, the `edge_train_mode=\"disjoint\"` mode in DeepSNAP. In this setting, the `message passing` and `supervision` edges are completely disjoint"
   ]
  },
  {
   "cell_type": "code",
   "execution_count": 25,
   "metadata": {
    "id": "3Rqzfb-0BTBm"
   },
   "outputs": [
    {
     "name": "stdout",
     "output_type": "stream",
     "text": [
      "Original Cora graph has 5278 edges\n",
      "\n",
      "Train set has 3377 message passing edge\n",
      "Train set has 845 supervision (positive) edges\n",
      "\n",
      "Validation set has 4222 message passing edge\n",
      "Validation set has 527 supervision (positive) edges\n",
      "\n",
      "Test set has 4749 message passing edge\n",
      "Test set has 529 supervision (positive) edges\n"
     ]
    }
   ],
   "source": [
    "if 'IS_GRADESCOPE_ENV' not in os.environ:  \n",
    "  edge_train_mode = \"disjoint\"\n",
    "\n",
    "  dataset = GraphDataset(graphs, task='link_pred', edge_train_mode=edge_train_mode)\n",
    "  orig_edge_index = dataset[0].edge_index\n",
    "  dataset_train, dataset_val, dataset_test = dataset.split(\n",
    "      transductive=True, split_ratio=[0.8, 0.1, 0.1])\n",
    "\n",
    "  train_message_edge_index = dataset_train[0].edge_index\n",
    "  train_sup_edge_index = dataset_train[0].edge_label_index\n",
    "  val_message_edge_index = dataset_val[0].edge_index\n",
    "  val_sup_edge_index = dataset_val[0].edge_label_index\n",
    "  test_message_edge_index = dataset_test[0].edge_index\n",
    "  test_sup_edge_index = dataset_test[0].edge_label_index\n",
    "\n",
    "  print(\"Original Cora graph has {} edges\".format(dataset[0].num_edges))\n",
    "  print()\n",
    "  print(\"Train set has {} message passing edge\".format(train_message_edge_index.shape[1] // 2))\n",
    "  print(\"Train set has {} supervision (positive) edges\".format(train_sup_edge_index.shape[1] // 4))\n",
    "\n",
    "  print()\n",
    "  print(\"Validation set has {} message passing edge\".format(val_message_edge_index.shape[1] // 2))\n",
    "  print(\"Validation set has {} supervision (positive) edges\".format(val_sup_edge_index.shape[1] // 4))\n",
    "\n",
    "  print()\n",
    "  print(\"Test set has {} message passing edge\".format(test_message_edge_index.shape[1] // 2))\n",
    "  print(\"Test set has {} supervision (positive) edges\".format(test_sup_edge_index.shape[1] // 4))"
   ]
  },
  {
   "cell_type": "markdown",
   "metadata": {
    "id": "TUkBhiJNciol"
   },
   "source": [
    "\n",
    "**Specific things to note in `disjoint` mode**:\n",
    "\n",
    "* At training time: the training supervision edges are disjoint from the training message passing edges.\n",
    "* At validation time: the message passing edges are the union of training message passing edges and training supervision edges. The validation supervision edges are disjoint from both the training message passing and supervision edges.\n",
    "* At test time: the message passing edges are the training message passing edges, training supervision edges, and validation supervision edges. The test supervision edges are disjoint from all the training and validation edges."
   ]
  },
  {
   "cell_type": "markdown",
   "metadata": {
    "id": "2WKfRjqAJHtK"
   },
   "source": [
    "## Negative Edges\n",
    "\n",
    "For edge level tasks, sampling negative edges (edges not present in the graph) is critical. Moreover, during each training iteration, you want to resample the negative edges.\n",
    "\n",
    "Below we print the training and validation sets negative edges in two training iterations.\n",
    "\n",
    "What we demonstrate is that the negative edges are only resampled during training."
   ]
  },
  {
   "cell_type": "code",
   "execution_count": 26,
   "metadata": {
    "id": "AMEbnx63JHWj"
   },
   "outputs": [
    {
     "name": "stdout",
     "output_type": "stream",
     "text": [
      "First iteration training negative edges:\n",
      "tensor([[1621, 2624, 1048,  ..., 1819,  841,  597],\n",
      "        [1779, 1194,  663,  ..., 1873,  880,  205]])\n",
      "Second iteration training negative edges:\n",
      "tensor([[2256, 1572,  598,  ..., 1514, 2654, 2202],\n",
      "        [ 442,  676,  964,  ..., 2213, 1494, 2538]])\n",
      "First iteration validation negative edges:\n",
      "tensor([[1932, 1874, 1817,  ..., 1017, 1806, 2693],\n",
      "        [  78, 1244, 1096,  ...,  100, 2121, 1975]])\n",
      "Second iteration validation negative edges:\n",
      "tensor([[1932, 1874, 1817,  ..., 1017, 1806, 2693],\n",
      "        [  78, 1244, 1096,  ...,  100, 2121, 1975]])\n"
     ]
    }
   ],
   "source": [
    "if 'IS_GRADESCOPE_ENV' not in os.environ:  \n",
    "  dataset = GraphDataset(graphs, task='link_pred', edge_train_mode=\"disjoint\")\n",
    "  datasets = {}\n",
    "  follow_batch = []\n",
    "  datasets['train'], datasets['val'], datasets['test'] = dataset.split(\n",
    "      transductive=True, split_ratio=[0.8, 0.1, 0.1])\n",
    "  dataloaders = {\n",
    "    split: DataLoader(\n",
    "      ds, collate_fn=Batch.collate(follow_batch),\n",
    "      batch_size=1, shuffle=(split=='train')\n",
    "    )\n",
    "    for split, ds in datasets.items()\n",
    "  }\n",
    "  neg_edges_1 = None\n",
    "  for batch in dataloaders['train']:\n",
    "    num_edges = batch.edge_label_index.shape[1] // 2\n",
    "    neg_edges_1 = batch.edge_label_index[:, num_edges:]\n",
    "    print(\"First iteration training negative edges:\")\n",
    "    print(neg_edges_1)\n",
    "    break\n",
    "  neg_edges_2 = None\n",
    "  for batch in dataloaders['train']:\n",
    "    num_edges = batch.edge_label_index.shape[1] // 2\n",
    "    neg_edges_2 = batch.edge_label_index[:, num_edges:]\n",
    "    print(\"Second iteration training negative edges:\")\n",
    "    print(neg_edges_2)\n",
    "    break\n",
    "\n",
    "  neg_edges_1 = None\n",
    "  for batch in dataloaders['val']:\n",
    "    num_edges = batch.edge_label_index.shape[1] // 2\n",
    "    neg_edges_1 = batch.edge_label_index[:, num_edges:]\n",
    "    print(\"First iteration validation negative edges:\")\n",
    "    print(neg_edges_1)\n",
    "    break\n",
    "  neg_edges_2 = None\n",
    "  for batch in dataloaders['val']:\n",
    "    num_edges = batch.edge_label_index.shape[1] // 2\n",
    "    neg_edges_2 = batch.edge_label_index[:, num_edges:]\n",
    "    print(\"Second iteration validation negative edges:\")\n",
    "    print(neg_edges_2)\n",
    "    break"
   ]
  },
  {
   "cell_type": "markdown",
   "metadata": {
    "id": "DEzqh7wEdrh0"
   },
   "source": [
    "If you are interested in more graph splitting settings, please refer to the DeepSNAP dataset [documentation](https://snap.stanford.edu/deepsnap/modules/dataset.html)."
   ]
  },
  {
   "cell_type": "markdown",
   "metadata": {
    "id": "XkrYyeSUI_9_"
   },
   "source": [
    "## Graph Transformation and Feature Computation\n",
    "\n",
    "The other core functionality of DeepSNAP is graph transformation / feature computation.\n",
    "\n",
    "In DeepSNAP, graph transformation / feature computation is divided into two different types. The first includes transformations before training (e.g. transform the whole dataset before training directly), and the second includes transformations during training (transform batches of graphs).\n",
    "\n",
    "Below is an example that uses the NetworkX back end to calculate the PageRank value for each node and subsequently transforms the node features by concatenating each nodes PageRank score (transform the dataset before training)."
   ]
  },
  {
   "cell_type": "code",
   "execution_count": 27,
   "metadata": {
    "id": "gnAVbZINLZ4I"
   },
   "outputs": [
    {
     "name": "stdout",
     "output_type": "stream",
     "text": [
      "Number of features before transformation: 35\n",
      "Number of features after transformation: 36\n"
     ]
    }
   ],
   "source": [
    "def pagerank_transform_fn(graph):\n",
    "\n",
    "  # Get the referenced networkx graph\n",
    "  G = graph.G\n",
    "\n",
    "  # Calculate the pagerank by using networkx\n",
    "  pr = nx.pagerank(G)\n",
    "\n",
    "  # Transform the pagerank values to tensor\n",
    "  pr_feature = torch.tensor([pr[node] for node in range(graph.num_nodes)], dtype=torch.float32)\n",
    "  pr_feature = pr_feature.view(graph.num_nodes, 1)\n",
    "\n",
    "  # Concat the pagerank values to the node feature\n",
    "  graph.node_feature = torch.cat([graph.node_feature, pr_feature], dim=-1)\n",
    "\n",
    "if 'IS_GRADESCOPE_ENV' not in os.environ:\n",
    "  root = './tmp/cox2'\n",
    "  name = 'COX2'\n",
    "  pyg_dataset = TUDataset(root, name)\n",
    "  graphs = GraphDataset.pyg_to_graphs(pyg_dataset)\n",
    "  dataset = GraphDataset(graphs, task='graph')\n",
    "  print(\"Number of features before transformation: {}\".format(dataset.num_node_features))\n",
    "  dataset.apply_transform(pagerank_transform_fn, update_tensor=False)\n",
    "  print(\"Number of features after transformation: {}\".format(dataset.num_node_features))"
   ]
  },
  {
   "cell_type": "markdown",
   "metadata": {
    "id": "LHByE87SQkUw"
   },
   "source": [
    "## Question 4: Implement a transformation that adds the clustering coefficient of each node to its feature vector and then report the clustering coefficient of the node with index 3 in the graph with index 406 (10 points)."
   ]
  },
  {
   "cell_type": "code",
   "execution_count": 28,
   "metadata": {
    "id": "RNEjfOZRNjYb"
   },
   "outputs": [
    {
     "name": "stdout",
     "output_type": "stream",
     "text": [
      "The node has clustering coefficient: 0.17\n"
     ]
    }
   ],
   "source": [
    "def cluster_transform_fn(graph):\n",
    "  # TODO: Implement a function that takes an deepsnap graph object and \n",
    "  # transform the graph by adding each node's clustering coefficient to its \n",
    "  # graph.node_feature representation\n",
    "\n",
    "  ############# Your code here ############\n",
    "  ## (~5 lines of code)\n",
    "  ## Note\n",
    "  ## 1. Compute the clustering coefficient value for each node and\n",
    "  ## concat this value to the last dimension of graph.node_feature\n",
    "  ng = graph.G\n",
    "  ccdict = nx.clustering(ng, ng.nodes)\n",
    "  ccvals = torch.tensor(list(ccdict.values())).unsqueeze(dim=-1)\n",
    "  nfeature = graph.node_feature\n",
    "  graph.node_feature = torch.cat((nfeature, ccvals), dim=1)\n",
    "  #########################################\n",
    "\n",
    "if 'IS_GRADESCOPE_ENV' not in os.environ:\n",
    "  root = './cox2'\n",
    "  name = 'COX2'\n",
    "  pyg_dataset = TUDataset(root, name)\n",
    "  graphs = GraphDataset.pyg_to_graphs(pyg_dataset)\n",
    "  dataset = GraphDataset(graphs, task='graph')\n",
    "\n",
    "  # Transform the dataset\n",
    "  dataset.apply_transform(cluster_transform_fn, update_tensor=False)\n",
    "\n",
    "  node_idx = 3\n",
    "  graph_idx = 406\n",
    "  node_feature = dataset[graph_idx].node_feature\n",
    "\n",
    "  print(\"The node has clustering coefficient: {}\".format(round(node_feature[node_idx][-1].item(), 2)))"
   ]
  },
  {
   "cell_type": "markdown",
   "metadata": {
    "id": "4P5Ig7XaPYzp"
   },
   "source": [
    "### Final Thoughts\n",
    "Apart from transforming the whole dataset before training, DeepSNAP can also transform the graph (usually sampled batches of graphs, `deepsnap.batch.Batch`) during each training iteration.\n",
    "\n",
    "Also, DeepSNAP supports the synchronization of the transformation between the referenced graph objects and tensor representations. For example, you can just update the NetworkX graph object in the transform function, and by specifying `update_tensor=True` the internal tensor representations will be automatically updated!\n",
    "\n",
    "For more information, please refer to the DeepSNAP [documentation](https://snap.stanford.edu/deepsnap/)."
   ]
  },
  {
   "cell_type": "markdown",
   "metadata": {
    "id": "s-YLYMLFQYqp"
   },
   "source": [
    "# 4) Edge Level Prediction\n",
    "\n",
    "From the last section, you learned how DeepSNAP transductively splits edges for edge level tasks. For the last part of the notebook, you will use DeepSNAP and PyG together to implement a simple edge level prediction (link prediction) model!\n",
    "\n",
    "Specifically, you will use a 2 layer GraphSAGE embedding model to generate node embeddings, and then compute link predictions through a dot product link prediction head. Namely, given an edge (u, v) with GNN feature embeddings $f_u$ and $f_v$, our link prediction head generates its link prediction as $f_u \\cdot f_v$. \n",
    "\n",
    "To give a brief intuition for this dot product link prediction model, we are learning a GNN that embedds nodes such that nodes that have an edge in the graph are closer within the embedding space than nodes that do not have an edge. The dot product provides a proxy for closeness in our embedding space where a high positive dot product indicates that two vectors are more closely aligned (the angle between the vectors is small), whereas a negative dot-product indicates that vectors are unaligned (the angle between the vectors is greater than 90). "
   ]
  },
  {
   "cell_type": "code",
   "execution_count": 41,
   "metadata": {
    "id": "hrKCNtvERypQ"
   },
   "outputs": [],
   "source": [
    "import copy\n",
    "import torch\n",
    "import numpy as np\n",
    "import networkx as nx\n",
    "import matplotlib.pyplot as plt\n",
    "\n",
    "from deepsnap.graph import Graph\n",
    "from deepsnap.batch import Batch\n",
    "from deepsnap.dataset import GraphDataset\n",
    "from torch_geometric.datasets import Planetoid, TUDataset\n",
    "\n",
    "from torch.utils.data import DataLoader\n",
    "\n",
    "import torch.nn.functional as F\n",
    "from torch_geometric.nn import SAGEConv\n",
    "\n",
    "class LinkPredModel(torch.nn.Module):\n",
    "    def __init__(self, input_dim, hidden_dim, num_classes, dropout=0.2):\n",
    "        super(LinkPredModel, self).__init__()\n",
    "\n",
    "        self.conv1 = SAGEConv(input_dim, hidden_dim)\n",
    "        self.conv2 = SAGEConv(hidden_dim, num_classes)\n",
    "\n",
    "        self.loss_fn = None\n",
    "\n",
    "        ############# Your code here #############\n",
    "        ## (~1 line of code)\n",
    "        ## Note\n",
    "        ## 1. Initialize the loss function to BCEWithLogitsLoss\n",
    "        self.loss_fn = torch.nn.BCEWithLogitsLoss()\n",
    "        ##########################################\n",
    "\n",
    "        self.dropout = dropout\n",
    "\n",
    "    def reset_parameters(self):\n",
    "        self.conv1.reset_parameters()\n",
    "        self.conv2.reset_parameters()\n",
    "\n",
    "    def forward(self, batch):\n",
    "        node_feature, edge_index, edge_label_index = batch.node_feature, batch.edge_index, batch.edge_label_index\n",
    "        \n",
    "        ############# Your code here #############\n",
    "        ## (~6 line of code)\n",
    "        ## Note\n",
    "        ## 1. Feed the node feature into the first conv layer\n",
    "        ## 2. Add a ReLU after the first conv layer\n",
    "        ## 3. Add dropout after the ReLU (with probability self.dropout)\n",
    "        ## 4. Feed the output to the second conv layer\n",
    "        ## 5. Select the embeddings of the source and destination \n",
    "        ## nodes of each edge by using the edge_label_index and \n",
    "        ## compute the dot product similarity of each pair.\n",
    "        \n",
    "        import pdb\n",
    "        #pdb.set_trace()         \n",
    "        \n",
    "        x1 = self.conv1(node_feature, edge_index)\n",
    "        x2 = F.relu(x1)\n",
    "        x3 = F.dropout(x2, p=self.dropout)\n",
    "        x4 = self.conv2(x3, edge_index)\n",
    "\n",
    "        left =   x4[edge_label_index[0]]\n",
    "        right =  x4[edge_label_index[1]]\n",
    "  \n",
    "        temp = left * right\n",
    "        pred = temp.sum(axis=1)    \n",
    "        ##########################################\n",
    "\n",
    "        return pred\n",
    "    \n",
    "    def loss(self, pred, link_label):\n",
    "        return self.loss_fn(pred, link_label)"
   ]
  },
  {
   "cell_type": "code",
   "execution_count": 42,
   "metadata": {
    "id": "uuKbGFOu1Ka8"
   },
   "outputs": [],
   "source": [
    "from sklearn.metrics import *\n",
    "\n",
    "def train(model, dataloaders, optimizer, args):\n",
    "    val_max = 0\n",
    "    best_model = model\n",
    "\n",
    "    for epoch in range(1, args[\"epochs\"]):\n",
    "        for i, batch in enumerate(dataloaders['train']):\n",
    "            \n",
    "            batch.to(args[\"device\"])\n",
    "\n",
    "            ############# Your code here #############\n",
    "            ## (~6 lines of code)\n",
    "            ## Note\n",
    "            ## 1. Zero grad the optimizer\n",
    "            ## 2. Compute loss and backpropagate\n",
    "            ## 3. Update the model parameters\n",
    "\n",
    "            optimizer.zero_grad()\n",
    "            pred = model(batch)         \n",
    "            label = batch.edge_label.float()           \n",
    "            loss = model.loss(pred, label)\n",
    "         \n",
    "            loss.backward()\n",
    "            optimizer.step()\n",
    "\n",
    "            ##########################################\n",
    "\n",
    "            log = 'Epoch: {:03d}, Train: {:.4f}, Val: {:.4f}, Test: {:.4f}, Loss: {}'\n",
    "            score_train = test(model, dataloaders['train'], args)\n",
    "            score_val = test(model, dataloaders['val'], args)\n",
    "            score_test = test(model, dataloaders['test'], args)\n",
    "\n",
    "            print(log.format(epoch, score_train, score_val, score_test, loss.item()))\n",
    "            if val_max < score_val:\n",
    "                val_max = score_val\n",
    "                best_model = copy.deepcopy(model)\n",
    "    return best_model\n",
    "\n",
    "def test(model, dataloader, args, save_model_preds=False):\n",
    "    model.eval()\n",
    "\n",
    "    score = 0\n",
    "    preds = None\n",
    "    labels = None\n",
    "\n",
    "    ############# Your code here #############\n",
    "    ## (~7 lines of code)\n",
    "    ## Note\n",
    "    ## 1. Loop through batches in the dataloader (Note for us there is only one batch!)\n",
    "    ## 2. Feed the batch to the model\n",
    "    ## 3. Feed the model output to sigmoid\n",
    "    ## 4. Compute the ROC-AUC score by using sklearn roc_auc_score function\n",
    "    ##    Note: Look into flattening and converting torch tensors into numpy arrays\n",
    "    ## 5. Edge labels are stored in batch.edge_label\n",
    "    ## 6. Make sure to save your **numpy** model predictions as 'preds' \n",
    "    ##    and the **numpy** edge labels as 'labels'\n",
    "    for i, batch in enumerate(dataloader):\n",
    "        batch.to(args[\"device\"])\n",
    "        \n",
    "       \n",
    "        # run test\n",
    "        preds_t = model(batch)\n",
    "        preds_t = torch.sigmoid(preds_t)\n",
    "        labels_t = batch.edge_label.float()        \n",
    "        preds = preds_t.cpu().data.numpy()\n",
    "        labels = labels_t.cpu().data.numpy()    \n",
    "          \n",
    "        score = roc_auc_score(labels, preds)            \n",
    "    ##########################################\n",
    "\n",
    "    if save_model_preds:\n",
    "        print (\"Saving Link Classification Model Predictions\")\n",
    "        print()\n",
    "\n",
    "        data = {}\n",
    "        data['pred'] = preds\n",
    "        data['label'] = labels\n",
    "\n",
    "        df = pd.DataFrame(data=data)\n",
    "        # Save locally as csv\n",
    "        df.to_csv('CORA-Link-Prediction.csv', sep=',', index=False)\n",
    " \n",
    "    return score"
   ]
  },
  {
   "cell_type": "code",
   "execution_count": 43,
   "metadata": {
    "id": "JTKWYX1b33V3"
   },
   "outputs": [],
   "source": [
    "# Please don't change any parameters\n",
    "args = {\n",
    "    \"device\" : 'cuda' if torch.cuda.is_available() else 'cpu',\n",
    "    \"hidden_dim\" : 128,\n",
    "    \"epochs\" : 200,\n",
    "}"
   ]
  },
  {
   "cell_type": "code",
   "execution_count": 44,
   "metadata": {
    "id": "Klw_xYnE27xQ",
    "scrolled": true
   },
   "outputs": [
    {
     "name": "stdout",
     "output_type": "stream",
     "text": [
      "Epoch: 001, Train: 0.4937, Val: 0.5255, Test: 0.5185, Loss: 0.6930269002914429\n",
      "Epoch: 002, Train: 0.5102, Val: 0.5003, Test: 0.5331, Loss: 0.6930200457572937\n",
      "Epoch: 003, Train: 0.5129, Val: 0.5340, Test: 0.5199, Loss: 0.6930869817733765\n",
      "Epoch: 004, Train: 0.5174, Val: 0.5321, Test: 0.5115, Loss: 0.6931223273277283\n",
      "Epoch: 005, Train: 0.5055, Val: 0.5161, Test: 0.5217, Loss: 0.6931036710739136\n",
      "Epoch: 006, Train: 0.5011, Val: 0.5349, Test: 0.5538, Loss: 0.6931060552597046\n",
      "Epoch: 007, Train: 0.5252, Val: 0.4967, Test: 0.5055, Loss: 0.6930941939353943\n",
      "Epoch: 008, Train: 0.5279, Val: 0.5448, Test: 0.5211, Loss: 0.6930478811264038\n",
      "Epoch: 009, Train: 0.5067, Val: 0.5384, Test: 0.5249, Loss: 0.6930719017982483\n",
      "Epoch: 010, Train: 0.5231, Val: 0.5014, Test: 0.5146, Loss: 0.6930748820304871\n",
      "Epoch: 011, Train: 0.5330, Val: 0.5122, Test: 0.5325, Loss: 0.6929724812507629\n",
      "Epoch: 012, Train: 0.5255, Val: 0.5303, Test: 0.5317, Loss: 0.6929370164871216\n",
      "Epoch: 013, Train: 0.5289, Val: 0.5268, Test: 0.5421, Loss: 0.6930075883865356\n",
      "Epoch: 014, Train: 0.5319, Val: 0.5040, Test: 0.5332, Loss: 0.6929431557655334\n",
      "Epoch: 015, Train: 0.5378, Val: 0.5160, Test: 0.5429, Loss: 0.6930258870124817\n",
      "Epoch: 016, Train: 0.5578, Val: 0.5546, Test: 0.5393, Loss: 0.6929465532302856\n",
      "Epoch: 017, Train: 0.5474, Val: 0.5313, Test: 0.5550, Loss: 0.6928691864013672\n",
      "Epoch: 018, Train: 0.5451, Val: 0.5257, Test: 0.5424, Loss: 0.6929476261138916\n",
      "Epoch: 019, Train: 0.5491, Val: 0.5381, Test: 0.5471, Loss: 0.6928830742835999\n",
      "Epoch: 020, Train: 0.5565, Val: 0.5530, Test: 0.5471, Loss: 0.6928076148033142\n",
      "Epoch: 021, Train: 0.5590, Val: 0.5433, Test: 0.5540, Loss: 0.692865788936615\n",
      "Epoch: 022, Train: 0.5512, Val: 0.5707, Test: 0.5556, Loss: 0.6928544044494629\n",
      "Epoch: 023, Train: 0.5657, Val: 0.5341, Test: 0.5500, Loss: 0.6928167343139648\n",
      "Epoch: 024, Train: 0.5467, Val: 0.5393, Test: 0.5409, Loss: 0.6927842497825623\n",
      "Epoch: 025, Train: 0.5498, Val: 0.5670, Test: 0.5433, Loss: 0.6927921175956726\n",
      "Epoch: 026, Train: 0.5774, Val: 0.5707, Test: 0.5573, Loss: 0.6927838325500488\n",
      "Epoch: 027, Train: 0.5721, Val: 0.5361, Test: 0.5653, Loss: 0.6926915645599365\n",
      "Epoch: 028, Train: 0.5659, Val: 0.5281, Test: 0.5561, Loss: 0.6926683187484741\n",
      "Epoch: 029, Train: 0.5667, Val: 0.5505, Test: 0.5404, Loss: 0.6926866769790649\n",
      "Epoch: 030, Train: 0.5752, Val: 0.5629, Test: 0.5456, Loss: 0.6925481557846069\n",
      "Epoch: 031, Train: 0.5797, Val: 0.5309, Test: 0.5621, Loss: 0.6925370097160339\n",
      "Epoch: 032, Train: 0.5863, Val: 0.5567, Test: 0.5539, Loss: 0.6926673054695129\n",
      "Epoch: 033, Train: 0.5781, Val: 0.5448, Test: 0.5589, Loss: 0.6924391984939575\n",
      "Epoch: 034, Train: 0.5878, Val: 0.5410, Test: 0.5690, Loss: 0.6924505233764648\n",
      "Epoch: 035, Train: 0.6016, Val: 0.5490, Test: 0.5660, Loss: 0.6925024390220642\n",
      "Epoch: 036, Train: 0.5885, Val: 0.5598, Test: 0.5729, Loss: 0.6924692988395691\n",
      "Epoch: 037, Train: 0.5935, Val: 0.5409, Test: 0.5584, Loss: 0.6924554109573364\n",
      "Epoch: 038, Train: 0.6045, Val: 0.5432, Test: 0.5565, Loss: 0.6922548413276672\n",
      "Epoch: 039, Train: 0.5977, Val: 0.5200, Test: 0.5703, Loss: 0.6922672986984253\n",
      "Epoch: 040, Train: 0.6026, Val: 0.5509, Test: 0.5487, Loss: 0.6923340559005737\n",
      "Epoch: 041, Train: 0.5961, Val: 0.5483, Test: 0.5647, Loss: 0.6919932961463928\n",
      "Epoch: 042, Train: 0.5903, Val: 0.5479, Test: 0.5588, Loss: 0.6920240521430969\n",
      "Epoch: 043, Train: 0.6055, Val: 0.5406, Test: 0.5649, Loss: 0.6918726563453674\n",
      "Epoch: 044, Train: 0.6085, Val: 0.5380, Test: 0.5611, Loss: 0.6920028924942017\n",
      "Epoch: 045, Train: 0.6145, Val: 0.5399, Test: 0.5624, Loss: 0.6919200420379639\n",
      "Epoch: 046, Train: 0.6165, Val: 0.5682, Test: 0.5576, Loss: 0.6917285919189453\n",
      "Epoch: 047, Train: 0.6029, Val: 0.5457, Test: 0.5653, Loss: 0.6914564371109009\n",
      "Epoch: 048, Train: 0.5988, Val: 0.5357, Test: 0.5628, Loss: 0.6914512515068054\n",
      "Epoch: 049, Train: 0.6214, Val: 0.5383, Test: 0.5575, Loss: 0.6916342377662659\n",
      "Epoch: 050, Train: 0.6137, Val: 0.5447, Test: 0.5713, Loss: 0.6911673545837402\n",
      "Epoch: 051, Train: 0.6222, Val: 0.5740, Test: 0.5638, Loss: 0.6911984086036682\n",
      "Epoch: 052, Train: 0.6102, Val: 0.5450, Test: 0.5691, Loss: 0.6907715797424316\n",
      "Epoch: 053, Train: 0.6138, Val: 0.5652, Test: 0.5629, Loss: 0.6910222768783569\n",
      "Epoch: 054, Train: 0.6134, Val: 0.5564, Test: 0.5673, Loss: 0.690768301486969\n",
      "Epoch: 055, Train: 0.6258, Val: 0.5471, Test: 0.5526, Loss: 0.6906641721725464\n",
      "Epoch: 056, Train: 0.6120, Val: 0.5466, Test: 0.5560, Loss: 0.69053715467453\n",
      "Epoch: 057, Train: 0.6273, Val: 0.5462, Test: 0.5605, Loss: 0.6900919079780579\n",
      "Epoch: 058, Train: 0.6285, Val: 0.5495, Test: 0.5539, Loss: 0.6902114152908325\n",
      "Epoch: 059, Train: 0.6247, Val: 0.5419, Test: 0.5617, Loss: 0.6897854804992676\n",
      "Epoch: 060, Train: 0.6254, Val: 0.5423, Test: 0.5598, Loss: 0.6895701885223389\n",
      "Epoch: 061, Train: 0.6229, Val: 0.5394, Test: 0.5546, Loss: 0.6893812417984009\n",
      "Epoch: 062, Train: 0.6327, Val: 0.5528, Test: 0.5703, Loss: 0.6888114213943481\n",
      "Epoch: 063, Train: 0.6328, Val: 0.5517, Test: 0.5691, Loss: 0.6888583302497864\n",
      "Epoch: 064, Train: 0.6260, Val: 0.5514, Test: 0.5641, Loss: 0.6890630125999451\n",
      "Epoch: 065, Train: 0.6419, Val: 0.5601, Test: 0.5684, Loss: 0.6882866621017456\n",
      "Epoch: 066, Train: 0.6292, Val: 0.5508, Test: 0.5683, Loss: 0.6881341338157654\n",
      "Epoch: 067, Train: 0.6350, Val: 0.5636, Test: 0.5735, Loss: 0.6877881288528442\n",
      "Epoch: 068, Train: 0.6265, Val: 0.5672, Test: 0.5636, Loss: 0.6867747902870178\n",
      "Epoch: 069, Train: 0.6366, Val: 0.5541, Test: 0.5673, Loss: 0.6861498951911926\n",
      "Epoch: 070, Train: 0.6314, Val: 0.5586, Test: 0.5770, Loss: 0.6859163641929626\n",
      "Epoch: 071, Train: 0.6413, Val: 0.5638, Test: 0.5716, Loss: 0.6845912933349609\n",
      "Epoch: 072, Train: 0.6361, Val: 0.5551, Test: 0.5656, Loss: 0.6862408518791199\n",
      "Epoch: 073, Train: 0.6418, Val: 0.5525, Test: 0.5763, Loss: 0.684564471244812\n",
      "Epoch: 074, Train: 0.6517, Val: 0.5588, Test: 0.5770, Loss: 0.683997631072998\n",
      "Epoch: 075, Train: 0.6328, Val: 0.5597, Test: 0.5751, Loss: 0.6832288503646851\n",
      "Epoch: 076, Train: 0.6470, Val: 0.5658, Test: 0.5809, Loss: 0.6823253035545349\n",
      "Epoch: 077, Train: 0.6396, Val: 0.5610, Test: 0.5801, Loss: 0.6814988851547241\n",
      "Epoch: 078, Train: 0.6516, Val: 0.5725, Test: 0.5834, Loss: 0.6809033155441284\n",
      "Epoch: 079, Train: 0.6509, Val: 0.5666, Test: 0.5792, Loss: 0.6803743839263916\n",
      "Epoch: 080, Train: 0.6607, Val: 0.5688, Test: 0.5787, Loss: 0.677409827709198\n",
      "Epoch: 081, Train: 0.6518, Val: 0.5704, Test: 0.5862, Loss: 0.6768699884414673\n",
      "Epoch: 082, Train: 0.6520, Val: 0.5789, Test: 0.5986, Loss: 0.6767622232437134\n",
      "Epoch: 083, Train: 0.6617, Val: 0.5809, Test: 0.5923, Loss: 0.6751912236213684\n",
      "Epoch: 084, Train: 0.6754, Val: 0.5822, Test: 0.6002, Loss: 0.6747028827667236\n",
      "Epoch: 085, Train: 0.6733, Val: 0.5870, Test: 0.6086, Loss: 0.6742224097251892\n",
      "Epoch: 086, Train: 0.6670, Val: 0.5970, Test: 0.6084, Loss: 0.6699849963188171\n",
      "Epoch: 087, Train: 0.6733, Val: 0.6002, Test: 0.6178, Loss: 0.6698233485221863\n",
      "Epoch: 088, Train: 0.6880, Val: 0.6091, Test: 0.6343, Loss: 0.668607234954834\n",
      "Epoch: 089, Train: 0.6930, Val: 0.6192, Test: 0.6405, Loss: 0.6640614867210388\n",
      "Epoch: 090, Train: 0.7028, Val: 0.6246, Test: 0.6511, Loss: 0.6607654690742493\n",
      "Epoch: 091, Train: 0.7032, Val: 0.6346, Test: 0.6554, Loss: 0.6612555384635925\n",
      "Epoch: 092, Train: 0.7102, Val: 0.6440, Test: 0.6616, Loss: 0.6604050993919373\n",
      "Epoch: 093, Train: 0.7175, Val: 0.6436, Test: 0.6687, Loss: 0.6531500220298767\n",
      "Epoch: 094, Train: 0.7283, Val: 0.6550, Test: 0.6775, Loss: 0.6554715633392334\n",
      "Epoch: 095, Train: 0.7351, Val: 0.6600, Test: 0.6824, Loss: 0.6447399854660034\n",
      "Epoch: 096, Train: 0.7254, Val: 0.6721, Test: 0.6845, Loss: 0.6469842791557312\n",
      "Epoch: 097, Train: 0.7299, Val: 0.6806, Test: 0.6900, Loss: 0.6413889527320862\n",
      "Epoch: 098, Train: 0.7330, Val: 0.6786, Test: 0.6945, Loss: 0.6381872892379761\n",
      "Epoch: 099, Train: 0.7441, Val: 0.6929, Test: 0.6956, Loss: 0.635997474193573\n",
      "Epoch: 100, Train: 0.7354, Val: 0.6975, Test: 0.6951, Loss: 0.6328794956207275\n",
      "Epoch: 101, Train: 0.7257, Val: 0.6963, Test: 0.7037, Loss: 0.6278098225593567\n",
      "Epoch: 102, Train: 0.7290, Val: 0.6994, Test: 0.7020, Loss: 0.6153881549835205\n",
      "Epoch: 103, Train: 0.7300, Val: 0.7001, Test: 0.7018, Loss: 0.6150737404823303\n",
      "Epoch: 104, Train: 0.7224, Val: 0.7024, Test: 0.7015, Loss: 0.6191197037696838\n"
     ]
    },
    {
     "name": "stdout",
     "output_type": "stream",
     "text": [
      "Epoch: 105, Train: 0.7312, Val: 0.7115, Test: 0.7058, Loss: 0.6216116547584534\n",
      "Epoch: 106, Train: 0.7453, Val: 0.7060, Test: 0.7107, Loss: 0.6159452199935913\n",
      "Epoch: 107, Train: 0.7373, Val: 0.7078, Test: 0.7047, Loss: 0.6224426031112671\n",
      "Epoch: 108, Train: 0.7434, Val: 0.7062, Test: 0.7039, Loss: 0.622863233089447\n",
      "Epoch: 109, Train: 0.7547, Val: 0.7126, Test: 0.7106, Loss: 0.6148675680160522\n",
      "Epoch: 110, Train: 0.7546, Val: 0.7092, Test: 0.7110, Loss: 0.6113346219062805\n",
      "Epoch: 111, Train: 0.7603, Val: 0.7068, Test: 0.7117, Loss: 0.6154009103775024\n",
      "Epoch: 112, Train: 0.7581, Val: 0.7084, Test: 0.7154, Loss: 0.6130895018577576\n",
      "Epoch: 113, Train: 0.7715, Val: 0.7080, Test: 0.7165, Loss: 0.607593834400177\n",
      "Epoch: 114, Train: 0.7625, Val: 0.7050, Test: 0.7182, Loss: 0.6041191816329956\n",
      "Epoch: 115, Train: 0.7698, Val: 0.7039, Test: 0.7209, Loss: 0.6012055277824402\n",
      "Epoch: 116, Train: 0.7818, Val: 0.7058, Test: 0.7239, Loss: 0.6024135947227478\n",
      "Epoch: 117, Train: 0.7869, Val: 0.7096, Test: 0.7196, Loss: 0.5859299302101135\n",
      "Epoch: 118, Train: 0.7869, Val: 0.7148, Test: 0.7253, Loss: 0.5901709794998169\n",
      "Epoch: 119, Train: 0.7898, Val: 0.7113, Test: 0.7262, Loss: 0.5889351963996887\n",
      "Epoch: 120, Train: 0.7904, Val: 0.7110, Test: 0.7291, Loss: 0.5932284593582153\n",
      "Epoch: 121, Train: 0.7867, Val: 0.7128, Test: 0.7206, Loss: 0.5917205214500427\n",
      "Epoch: 122, Train: 0.7922, Val: 0.7115, Test: 0.7234, Loss: 0.5926144123077393\n",
      "Epoch: 123, Train: 0.7940, Val: 0.7134, Test: 0.7273, Loss: 0.5928770303726196\n",
      "Epoch: 124, Train: 0.7914, Val: 0.7132, Test: 0.7320, Loss: 0.5905643701553345\n",
      "Epoch: 125, Train: 0.7903, Val: 0.7087, Test: 0.7292, Loss: 0.5878833532333374\n",
      "Epoch: 126, Train: 0.8056, Val: 0.7189, Test: 0.7268, Loss: 0.5898754596710205\n",
      "Epoch: 127, Train: 0.8008, Val: 0.7112, Test: 0.7304, Loss: 0.5755494832992554\n",
      "Epoch: 128, Train: 0.8007, Val: 0.7119, Test: 0.7226, Loss: 0.5838078856468201\n",
      "Epoch: 129, Train: 0.8033, Val: 0.7084, Test: 0.7275, Loss: 0.5809053778648376\n",
      "Epoch: 130, Train: 0.8049, Val: 0.7210, Test: 0.7235, Loss: 0.5755730867385864\n",
      "Epoch: 131, Train: 0.8065, Val: 0.7113, Test: 0.7201, Loss: 0.5703065991401672\n",
      "Epoch: 132, Train: 0.8076, Val: 0.7244, Test: 0.7282, Loss: 0.5750078558921814\n",
      "Epoch: 133, Train: 0.8135, Val: 0.7162, Test: 0.7271, Loss: 0.5747170448303223\n",
      "Epoch: 134, Train: 0.8100, Val: 0.7238, Test: 0.7248, Loss: 0.577231228351593\n",
      "Epoch: 135, Train: 0.8109, Val: 0.7292, Test: 0.7271, Loss: 0.5699000954627991\n",
      "Epoch: 136, Train: 0.8144, Val: 0.7303, Test: 0.7222, Loss: 0.5699406862258911\n",
      "Epoch: 137, Train: 0.8164, Val: 0.7282, Test: 0.7229, Loss: 0.5666511654853821\n",
      "Epoch: 138, Train: 0.8225, Val: 0.7255, Test: 0.7207, Loss: 0.5771684646606445\n",
      "Epoch: 139, Train: 0.8215, Val: 0.7260, Test: 0.7235, Loss: 0.5701256990432739\n",
      "Epoch: 140, Train: 0.8295, Val: 0.7236, Test: 0.7292, Loss: 0.5728546977043152\n",
      "Epoch: 141, Train: 0.8309, Val: 0.7256, Test: 0.7272, Loss: 0.5669325590133667\n",
      "Epoch: 142, Train: 0.8290, Val: 0.7212, Test: 0.7274, Loss: 0.5576406121253967\n",
      "Epoch: 143, Train: 0.8263, Val: 0.7290, Test: 0.7285, Loss: 0.5563933849334717\n",
      "Epoch: 144, Train: 0.8329, Val: 0.7215, Test: 0.7283, Loss: 0.5612594485282898\n",
      "Epoch: 145, Train: 0.8254, Val: 0.7237, Test: 0.7248, Loss: 0.5628848671913147\n",
      "Epoch: 146, Train: 0.8382, Val: 0.7210, Test: 0.7251, Loss: 0.560008704662323\n",
      "Epoch: 147, Train: 0.8325, Val: 0.7279, Test: 0.7310, Loss: 0.5514037013053894\n",
      "Epoch: 148, Train: 0.8422, Val: 0.7250, Test: 0.7335, Loss: 0.5521520376205444\n",
      "Epoch: 149, Train: 0.8339, Val: 0.7307, Test: 0.7335, Loss: 0.5595448613166809\n",
      "Epoch: 150, Train: 0.8401, Val: 0.7287, Test: 0.7282, Loss: 0.5597371459007263\n",
      "Epoch: 151, Train: 0.8470, Val: 0.7268, Test: 0.7382, Loss: 0.5415704846382141\n",
      "Epoch: 152, Train: 0.8476, Val: 0.7193, Test: 0.7313, Loss: 0.5566670894622803\n",
      "Epoch: 153, Train: 0.8488, Val: 0.7235, Test: 0.7357, Loss: 0.5488018989562988\n",
      "Epoch: 154, Train: 0.8488, Val: 0.7233, Test: 0.7345, Loss: 0.5397854447364807\n",
      "Epoch: 155, Train: 0.8557, Val: 0.7295, Test: 0.7324, Loss: 0.5602038502693176\n",
      "Epoch: 156, Train: 0.8536, Val: 0.7218, Test: 0.7358, Loss: 0.5454269051551819\n",
      "Epoch: 157, Train: 0.8492, Val: 0.7237, Test: 0.7321, Loss: 0.5550346374511719\n",
      "Epoch: 158, Train: 0.8551, Val: 0.7297, Test: 0.7399, Loss: 0.5498154759407043\n",
      "Epoch: 159, Train: 0.8645, Val: 0.7216, Test: 0.7393, Loss: 0.5424404144287109\n",
      "Epoch: 160, Train: 0.8571, Val: 0.7371, Test: 0.7406, Loss: 0.5403500199317932\n",
      "Epoch: 161, Train: 0.8680, Val: 0.7275, Test: 0.7386, Loss: 0.5470225214958191\n",
      "Epoch: 162, Train: 0.8654, Val: 0.7273, Test: 0.7431, Loss: 0.5359025597572327\n",
      "Epoch: 163, Train: 0.8680, Val: 0.7314, Test: 0.7495, Loss: 0.5389843583106995\n",
      "Epoch: 164, Train: 0.8768, Val: 0.7316, Test: 0.7490, Loss: 0.5410915613174438\n",
      "Epoch: 165, Train: 0.8727, Val: 0.7333, Test: 0.7483, Loss: 0.5303336977958679\n",
      "Epoch: 166, Train: 0.8727, Val: 0.7355, Test: 0.7522, Loss: 0.5362448692321777\n",
      "Epoch: 167, Train: 0.8837, Val: 0.7355, Test: 0.7558, Loss: 0.5397481322288513\n",
      "Epoch: 168, Train: 0.8740, Val: 0.7266, Test: 0.7510, Loss: 0.5365176796913147\n",
      "Epoch: 169, Train: 0.8901, Val: 0.7362, Test: 0.7528, Loss: 0.5284399390220642\n",
      "Epoch: 170, Train: 0.8853, Val: 0.7376, Test: 0.7564, Loss: 0.5274448990821838\n",
      "Epoch: 171, Train: 0.8790, Val: 0.7431, Test: 0.7588, Loss: 0.5264348983764648\n",
      "Epoch: 172, Train: 0.8768, Val: 0.7277, Test: 0.7583, Loss: 0.5261064171791077\n",
      "Epoch: 173, Train: 0.8868, Val: 0.7255, Test: 0.7582, Loss: 0.5353716015815735\n",
      "Epoch: 174, Train: 0.8832, Val: 0.7357, Test: 0.7669, Loss: 0.5187328457832336\n",
      "Epoch: 175, Train: 0.8939, Val: 0.7427, Test: 0.7600, Loss: 0.518610954284668\n",
      "Epoch: 176, Train: 0.8944, Val: 0.7463, Test: 0.7669, Loss: 0.5184689164161682\n",
      "Epoch: 177, Train: 0.8962, Val: 0.7420, Test: 0.7604, Loss: 0.5092329978942871\n",
      "Epoch: 178, Train: 0.8947, Val: 0.7464, Test: 0.7695, Loss: 0.5169568061828613\n",
      "Epoch: 179, Train: 0.8948, Val: 0.7360, Test: 0.7730, Loss: 0.512947142124176\n",
      "Epoch: 180, Train: 0.8916, Val: 0.7402, Test: 0.7650, Loss: 0.5104736685752869\n",
      "Epoch: 181, Train: 0.8978, Val: 0.7414, Test: 0.7664, Loss: 0.5072700381278992\n",
      "Epoch: 182, Train: 0.8935, Val: 0.7372, Test: 0.7698, Loss: 0.5232660174369812\n",
      "Epoch: 183, Train: 0.8977, Val: 0.7361, Test: 0.7676, Loss: 0.521407425403595\n",
      "Epoch: 184, Train: 0.8988, Val: 0.7412, Test: 0.7634, Loss: 0.5164207816123962\n",
      "Epoch: 185, Train: 0.9011, Val: 0.7450, Test: 0.7683, Loss: 0.5205947756767273\n",
      "Epoch: 186, Train: 0.9098, Val: 0.7473, Test: 0.7768, Loss: 0.5144387483596802\n",
      "Epoch: 187, Train: 0.9060, Val: 0.7466, Test: 0.7748, Loss: 0.505527138710022\n",
      "Epoch: 188, Train: 0.9048, Val: 0.7475, Test: 0.7750, Loss: 0.5113064646720886\n",
      "Epoch: 189, Train: 0.9089, Val: 0.7436, Test: 0.7727, Loss: 0.501508891582489\n",
      "Epoch: 190, Train: 0.9004, Val: 0.7403, Test: 0.7698, Loss: 0.5126475691795349\n",
      "Epoch: 191, Train: 0.9061, Val: 0.7417, Test: 0.7729, Loss: 0.49889710545539856\n",
      "Epoch: 192, Train: 0.9074, Val: 0.7457, Test: 0.7788, Loss: 0.5080470442771912\n",
      "Epoch: 193, Train: 0.9107, Val: 0.7441, Test: 0.7763, Loss: 0.5091392397880554\n",
      "Epoch: 194, Train: 0.9088, Val: 0.7458, Test: 0.7737, Loss: 0.505781888961792\n",
      "Epoch: 195, Train: 0.9167, Val: 0.7436, Test: 0.7730, Loss: 0.5102929472923279\n",
      "Epoch: 196, Train: 0.9163, Val: 0.7466, Test: 0.7668, Loss: 0.5011499524116516\n",
      "Epoch: 197, Train: 0.9141, Val: 0.7396, Test: 0.7744, Loss: 0.5019749999046326\n",
      "Epoch: 198, Train: 0.9199, Val: 0.7470, Test: 0.7761, Loss: 0.5030356645584106\n",
      "Epoch: 199, Train: 0.9164, Val: 0.7445, Test: 0.7784, Loss: 0.49702101945877075\n",
      "Saving Link Classification Model Predictions\n",
      "\n",
      "Best Model Accuraies Train: 0.9050, Val: 0.7523, Test: 0.7742\n"
     ]
    }
   ],
   "source": [
    "if 'IS_GRADESCOPE_ENV' not in os.environ:\n",
    "  import warnings\n",
    "  warnings.filterwarnings('ignore')    \n",
    "  pyg_dataset = Planetoid('./tmp/cora', 'Cora')\n",
    "  graphs = GraphDataset.pyg_to_graphs(pyg_dataset)\n",
    "\n",
    "  dataset = GraphDataset(\n",
    "          graphs,\n",
    "          task='link_pred',\n",
    "          edge_train_mode=\"disjoint\"\n",
    "      )\n",
    "  datasets = {}\n",
    "  datasets['train'], datasets['val'], datasets['test']= dataset.split(\n",
    "              transductive=True, \n",
    "              split_ratio=[0.85, 0.05, 0.1])\n",
    "  input_dim = datasets['train'].num_node_features\n",
    "  num_classes = datasets['train'].num_edge_labels\n",
    "\n",
    "  model = LinkPredModel(input_dim, args[\"hidden_dim\"], num_classes).to(args[\"device\"])\n",
    "  model.reset_parameters()\n",
    "\n",
    "  optimizer = torch.optim.SGD(model.parameters(), \n",
    "                              lr = 0.1, #lr=0.1, \n",
    "                              momentum=0.9, \n",
    "                              weight_decay=5e-4)\n",
    "\n",
    "  dataloaders = {split: DataLoader(\n",
    "              ds, collate_fn=Batch.collate([]),\n",
    "              batch_size=1, shuffle=(split=='train'))\n",
    "              for split, ds in datasets.items()}\n",
    "  best_model = train(model, dataloaders, optimizer, args)\n",
    "  log = \"Best Model Accuraies Train: {:.4f}, Val: {:.4f}, Test: {:.4f}\"\n",
    "  best_train_roc = test(best_model, dataloaders['train'], args)\n",
    "  best_val_roc = test(best_model, dataloaders['val'], args)\n",
    "  best_test_roc = test(best_model, dataloaders['test'], args, save_model_preds=True)\n",
    "  print(log.format(best_train_roc, best_val_roc, best_test_roc))"
   ]
  },
  {
   "cell_type": "code",
   "execution_count": null,
   "metadata": {},
   "outputs": [],
   "source": []
  },
  {
   "cell_type": "code",
   "execution_count": null,
   "metadata": {},
   "outputs": [],
   "source": []
  },
  {
   "cell_type": "markdown",
   "metadata": {
    "id": "j5brlsKElP0_"
   },
   "source": [
    "## Question 5: What is the maximum ROC-AUC score you get for your best_model on test set? (15 points)\n",
    "\n",
    "\n",
    "After training your model, download and submit your best model prediction file: *CORA-Link-Prediction.csv*.  \n",
    "\n",
    "As we have seen before you can view this file by clicking on the *Folder* icon on the left side pannel. "
   ]
  },
  {
   "cell_type": "markdown",
   "metadata": {
    "id": "e7JXsMTBgeOI"
   },
   "source": [
    "# Submission\n",
    "\n",
    "You will need to submit four files on Gradescope to complete this notebook. \n",
    "\n",
    "1.   Your completed *XCS224W_Colab3.ipynb*. From the \"File\" menu select \"Download .ipynb\" to save a local copy of your completed Colab. \n",
    "2.  *CORA-Node-GraphSage.csv* \n",
    "3.  *CORA-Node-GAT.csv*\n",
    "4.  *CORA-Link-Prediction.csv*\n",
    "\n",
    "Download the csv files by selecting the *Folder* icon on the left panel. \n",
    "\n",
    "To submit your work, zip the files downloaded in steps 1-4 above and submit to gradescope. **NOTE:** DO NOT rename any of the downloaded files. "
   ]
  }
 ],
 "metadata": {
  "accelerator": "GPU",
  "colab": {
   "collapsed_sections": [],
   "include_colab_link": true,
   "machine_shape": "hm",
   "name": "XCS224W_Colab3.ipynb",
   "provenance": []
  },
  "kernelspec": {
   "display_name": "pgenv",
   "language": "python",
   "name": "pgenv"
  },
  "language_info": {
   "codemirror_mode": {
    "name": "ipython",
    "version": 3
   },
   "file_extension": ".py",
   "mimetype": "text/x-python",
   "name": "python",
   "nbconvert_exporter": "python",
   "pygments_lexer": "ipython3",
   "version": "3.8.12"
  }
 },
 "nbformat": 4,
 "nbformat_minor": 1
}
